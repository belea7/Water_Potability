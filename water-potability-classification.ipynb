{
 "cells": [
  {
   "cell_type": "markdown",
   "id": "0588feb6",
   "metadata": {
    "papermill": {
     "duration": 0.0526,
     "end_time": "2022-03-27T06:37:00.012013",
     "exception": false,
     "start_time": "2022-03-27T06:36:59.959413",
     "status": "completed"
    },
    "tags": []
   },
   "source": [
    "# Water Potability Exploration & Classification"
   ]
  },
  {
   "cell_type": "code",
   "execution_count": 1,
   "id": "47586c03",
   "metadata": {
    "_cell_guid": "b1076dfc-b9ad-4769-8c92-a6c4dae69d19",
    "_uuid": "8f2839f25d086af736a60e9eeb907d3b93b6e0e5",
    "execution": {
     "iopub.execute_input": "2022-03-27T06:37:00.122264Z",
     "iopub.status.busy": "2022-03-27T06:37:00.120461Z",
     "iopub.status.idle": "2022-03-27T06:37:01.183968Z",
     "shell.execute_reply": "2022-03-27T06:37:01.183280Z",
     "shell.execute_reply.started": "2022-03-27T06:29:09.031527Z"
    },
    "papermill": {
     "duration": 1.119531,
     "end_time": "2022-03-27T06:37:01.184154",
     "exception": false,
     "start_time": "2022-03-27T06:37:00.064623",
     "status": "completed"
    },
    "tags": []
   },
   "outputs": [],
   "source": [
    "import warnings\n",
    "warnings.filterwarnings('ignore')\n",
    "import pandas as pd\n",
    "import numpy as np\n",
    "import seaborn as sns\n",
    "from matplotlib import pyplot as plt"
   ]
  },
  {
   "cell_type": "code",
   "execution_count": 2,
   "id": "c2970613",
   "metadata": {
    "execution": {
     "iopub.execute_input": "2022-03-27T06:37:01.285215Z",
     "iopub.status.busy": "2022-03-27T06:37:01.284548Z",
     "iopub.status.idle": "2022-03-27T06:37:01.341547Z",
     "shell.execute_reply": "2022-03-27T06:37:01.342073Z",
     "shell.execute_reply.started": "2022-03-27T06:29:09.566787Z"
    },
    "papermill": {
     "duration": 0.108765,
     "end_time": "2022-03-27T06:37:01.342249",
     "exception": false,
     "start_time": "2022-03-27T06:37:01.233484",
     "status": "completed"
    },
    "tags": []
   },
   "outputs": [
    {
     "data": {
      "text/html": [
       "<div>\n",
       "<style scoped>\n",
       "    .dataframe tbody tr th:only-of-type {\n",
       "        vertical-align: middle;\n",
       "    }\n",
       "\n",
       "    .dataframe tbody tr th {\n",
       "        vertical-align: top;\n",
       "    }\n",
       "\n",
       "    .dataframe thead th {\n",
       "        text-align: right;\n",
       "    }\n",
       "</style>\n",
       "<table border=\"1\" class=\"dataframe\">\n",
       "  <thead>\n",
       "    <tr style=\"text-align: right;\">\n",
       "      <th></th>\n",
       "      <th>ph</th>\n",
       "      <th>Hardness</th>\n",
       "      <th>Solids</th>\n",
       "      <th>Chloramines</th>\n",
       "      <th>Sulfate</th>\n",
       "      <th>Conductivity</th>\n",
       "      <th>Organic_carbon</th>\n",
       "      <th>Trihalomethanes</th>\n",
       "      <th>Turbidity</th>\n",
       "      <th>Potability</th>\n",
       "    </tr>\n",
       "  </thead>\n",
       "  <tbody>\n",
       "    <tr>\n",
       "      <th>0</th>\n",
       "      <td>NaN</td>\n",
       "      <td>204.890455</td>\n",
       "      <td>20791.318981</td>\n",
       "      <td>7.300212</td>\n",
       "      <td>368.516441</td>\n",
       "      <td>564.308654</td>\n",
       "      <td>10.379783</td>\n",
       "      <td>86.990970</td>\n",
       "      <td>2.963135</td>\n",
       "      <td>0</td>\n",
       "    </tr>\n",
       "    <tr>\n",
       "      <th>1</th>\n",
       "      <td>3.716080</td>\n",
       "      <td>129.422921</td>\n",
       "      <td>18630.057858</td>\n",
       "      <td>6.635246</td>\n",
       "      <td>NaN</td>\n",
       "      <td>592.885359</td>\n",
       "      <td>15.180013</td>\n",
       "      <td>56.329076</td>\n",
       "      <td>4.500656</td>\n",
       "      <td>0</td>\n",
       "    </tr>\n",
       "    <tr>\n",
       "      <th>2</th>\n",
       "      <td>8.099124</td>\n",
       "      <td>224.236259</td>\n",
       "      <td>19909.541732</td>\n",
       "      <td>9.275884</td>\n",
       "      <td>NaN</td>\n",
       "      <td>418.606213</td>\n",
       "      <td>16.868637</td>\n",
       "      <td>66.420093</td>\n",
       "      <td>3.055934</td>\n",
       "      <td>0</td>\n",
       "    </tr>\n",
       "    <tr>\n",
       "      <th>3</th>\n",
       "      <td>8.316766</td>\n",
       "      <td>214.373394</td>\n",
       "      <td>22018.417441</td>\n",
       "      <td>8.059332</td>\n",
       "      <td>356.886136</td>\n",
       "      <td>363.266516</td>\n",
       "      <td>18.436524</td>\n",
       "      <td>100.341674</td>\n",
       "      <td>4.628771</td>\n",
       "      <td>0</td>\n",
       "    </tr>\n",
       "    <tr>\n",
       "      <th>4</th>\n",
       "      <td>9.092223</td>\n",
       "      <td>181.101509</td>\n",
       "      <td>17978.986339</td>\n",
       "      <td>6.546600</td>\n",
       "      <td>310.135738</td>\n",
       "      <td>398.410813</td>\n",
       "      <td>11.558279</td>\n",
       "      <td>31.997993</td>\n",
       "      <td>4.075075</td>\n",
       "      <td>0</td>\n",
       "    </tr>\n",
       "    <tr>\n",
       "      <th>...</th>\n",
       "      <td>...</td>\n",
       "      <td>...</td>\n",
       "      <td>...</td>\n",
       "      <td>...</td>\n",
       "      <td>...</td>\n",
       "      <td>...</td>\n",
       "      <td>...</td>\n",
       "      <td>...</td>\n",
       "      <td>...</td>\n",
       "      <td>...</td>\n",
       "    </tr>\n",
       "    <tr>\n",
       "      <th>3271</th>\n",
       "      <td>4.668102</td>\n",
       "      <td>193.681735</td>\n",
       "      <td>47580.991603</td>\n",
       "      <td>7.166639</td>\n",
       "      <td>359.948574</td>\n",
       "      <td>526.424171</td>\n",
       "      <td>13.894419</td>\n",
       "      <td>66.687695</td>\n",
       "      <td>4.435821</td>\n",
       "      <td>1</td>\n",
       "    </tr>\n",
       "    <tr>\n",
       "      <th>3272</th>\n",
       "      <td>7.808856</td>\n",
       "      <td>193.553212</td>\n",
       "      <td>17329.802160</td>\n",
       "      <td>8.061362</td>\n",
       "      <td>NaN</td>\n",
       "      <td>392.449580</td>\n",
       "      <td>19.903225</td>\n",
       "      <td>NaN</td>\n",
       "      <td>2.798243</td>\n",
       "      <td>1</td>\n",
       "    </tr>\n",
       "    <tr>\n",
       "      <th>3273</th>\n",
       "      <td>9.419510</td>\n",
       "      <td>175.762646</td>\n",
       "      <td>33155.578218</td>\n",
       "      <td>7.350233</td>\n",
       "      <td>NaN</td>\n",
       "      <td>432.044783</td>\n",
       "      <td>11.039070</td>\n",
       "      <td>69.845400</td>\n",
       "      <td>3.298875</td>\n",
       "      <td>1</td>\n",
       "    </tr>\n",
       "    <tr>\n",
       "      <th>3274</th>\n",
       "      <td>5.126763</td>\n",
       "      <td>230.603758</td>\n",
       "      <td>11983.869376</td>\n",
       "      <td>6.303357</td>\n",
       "      <td>NaN</td>\n",
       "      <td>402.883113</td>\n",
       "      <td>11.168946</td>\n",
       "      <td>77.488213</td>\n",
       "      <td>4.708658</td>\n",
       "      <td>1</td>\n",
       "    </tr>\n",
       "    <tr>\n",
       "      <th>3275</th>\n",
       "      <td>7.874671</td>\n",
       "      <td>195.102299</td>\n",
       "      <td>17404.177061</td>\n",
       "      <td>7.509306</td>\n",
       "      <td>NaN</td>\n",
       "      <td>327.459760</td>\n",
       "      <td>16.140368</td>\n",
       "      <td>78.698446</td>\n",
       "      <td>2.309149</td>\n",
       "      <td>1</td>\n",
       "    </tr>\n",
       "  </tbody>\n",
       "</table>\n",
       "<p>3276 rows × 10 columns</p>\n",
       "</div>"
      ],
      "text/plain": [
       "            ph    Hardness        Solids  Chloramines     Sulfate  \\\n",
       "0          NaN  204.890455  20791.318981     7.300212  368.516441   \n",
       "1     3.716080  129.422921  18630.057858     6.635246         NaN   \n",
       "2     8.099124  224.236259  19909.541732     9.275884         NaN   \n",
       "3     8.316766  214.373394  22018.417441     8.059332  356.886136   \n",
       "4     9.092223  181.101509  17978.986339     6.546600  310.135738   \n",
       "...        ...         ...           ...          ...         ...   \n",
       "3271  4.668102  193.681735  47580.991603     7.166639  359.948574   \n",
       "3272  7.808856  193.553212  17329.802160     8.061362         NaN   \n",
       "3273  9.419510  175.762646  33155.578218     7.350233         NaN   \n",
       "3274  5.126763  230.603758  11983.869376     6.303357         NaN   \n",
       "3275  7.874671  195.102299  17404.177061     7.509306         NaN   \n",
       "\n",
       "      Conductivity  Organic_carbon  Trihalomethanes  Turbidity  Potability  \n",
       "0       564.308654       10.379783        86.990970   2.963135           0  \n",
       "1       592.885359       15.180013        56.329076   4.500656           0  \n",
       "2       418.606213       16.868637        66.420093   3.055934           0  \n",
       "3       363.266516       18.436524       100.341674   4.628771           0  \n",
       "4       398.410813       11.558279        31.997993   4.075075           0  \n",
       "...            ...             ...              ...        ...         ...  \n",
       "3271    526.424171       13.894419        66.687695   4.435821           1  \n",
       "3272    392.449580       19.903225              NaN   2.798243           1  \n",
       "3273    432.044783       11.039070        69.845400   3.298875           1  \n",
       "3274    402.883113       11.168946        77.488213   4.708658           1  \n",
       "3275    327.459760       16.140368        78.698446   2.309149           1  \n",
       "\n",
       "[3276 rows x 10 columns]"
      ]
     },
     "execution_count": 2,
     "metadata": {},
     "output_type": "execute_result"
    }
   ],
   "source": [
    "df = pd.read_csv(\"../input/water-potability/water_potability.csv\")\n",
    "df"
   ]
  },
  {
   "cell_type": "code",
   "execution_count": 3,
   "id": "6202fdfa",
   "metadata": {
    "execution": {
     "iopub.execute_input": "2022-03-27T06:37:01.446859Z",
     "iopub.status.busy": "2022-03-27T06:37:01.446227Z",
     "iopub.status.idle": "2022-03-27T06:37:01.495690Z",
     "shell.execute_reply": "2022-03-27T06:37:01.495168Z",
     "shell.execute_reply.started": "2022-03-27T06:29:09.610890Z"
    },
    "papermill": {
     "duration": 0.10252,
     "end_time": "2022-03-27T06:37:01.495841",
     "exception": false,
     "start_time": "2022-03-27T06:37:01.393321",
     "status": "completed"
    },
    "tags": []
   },
   "outputs": [
    {
     "data": {
      "text/html": [
       "<div>\n",
       "<style scoped>\n",
       "    .dataframe tbody tr th:only-of-type {\n",
       "        vertical-align: middle;\n",
       "    }\n",
       "\n",
       "    .dataframe tbody tr th {\n",
       "        vertical-align: top;\n",
       "    }\n",
       "\n",
       "    .dataframe thead th {\n",
       "        text-align: right;\n",
       "    }\n",
       "</style>\n",
       "<table border=\"1\" class=\"dataframe\">\n",
       "  <thead>\n",
       "    <tr style=\"text-align: right;\">\n",
       "      <th></th>\n",
       "      <th>ph</th>\n",
       "      <th>Hardness</th>\n",
       "      <th>Solids</th>\n",
       "      <th>Chloramines</th>\n",
       "      <th>Sulfate</th>\n",
       "      <th>Conductivity</th>\n",
       "      <th>Organic_carbon</th>\n",
       "      <th>Trihalomethanes</th>\n",
       "      <th>Turbidity</th>\n",
       "      <th>Potability</th>\n",
       "    </tr>\n",
       "  </thead>\n",
       "  <tbody>\n",
       "    <tr>\n",
       "      <th>count</th>\n",
       "      <td>2785.000000</td>\n",
       "      <td>3276.000000</td>\n",
       "      <td>3276.000000</td>\n",
       "      <td>3276.000000</td>\n",
       "      <td>2495.000000</td>\n",
       "      <td>3276.000000</td>\n",
       "      <td>3276.000000</td>\n",
       "      <td>3114.000000</td>\n",
       "      <td>3276.000000</td>\n",
       "      <td>3276.000000</td>\n",
       "    </tr>\n",
       "    <tr>\n",
       "      <th>mean</th>\n",
       "      <td>7.080795</td>\n",
       "      <td>196.369496</td>\n",
       "      <td>22014.092526</td>\n",
       "      <td>7.122277</td>\n",
       "      <td>333.775777</td>\n",
       "      <td>426.205111</td>\n",
       "      <td>14.284970</td>\n",
       "      <td>66.396293</td>\n",
       "      <td>3.966786</td>\n",
       "      <td>0.390110</td>\n",
       "    </tr>\n",
       "    <tr>\n",
       "      <th>std</th>\n",
       "      <td>1.594320</td>\n",
       "      <td>32.879761</td>\n",
       "      <td>8768.570828</td>\n",
       "      <td>1.583085</td>\n",
       "      <td>41.416840</td>\n",
       "      <td>80.824064</td>\n",
       "      <td>3.308162</td>\n",
       "      <td>16.175008</td>\n",
       "      <td>0.780382</td>\n",
       "      <td>0.487849</td>\n",
       "    </tr>\n",
       "    <tr>\n",
       "      <th>min</th>\n",
       "      <td>0.000000</td>\n",
       "      <td>47.432000</td>\n",
       "      <td>320.942611</td>\n",
       "      <td>0.352000</td>\n",
       "      <td>129.000000</td>\n",
       "      <td>181.483754</td>\n",
       "      <td>2.200000</td>\n",
       "      <td>0.738000</td>\n",
       "      <td>1.450000</td>\n",
       "      <td>0.000000</td>\n",
       "    </tr>\n",
       "    <tr>\n",
       "      <th>25%</th>\n",
       "      <td>6.093092</td>\n",
       "      <td>176.850538</td>\n",
       "      <td>15666.690297</td>\n",
       "      <td>6.127421</td>\n",
       "      <td>307.699498</td>\n",
       "      <td>365.734414</td>\n",
       "      <td>12.065801</td>\n",
       "      <td>55.844536</td>\n",
       "      <td>3.439711</td>\n",
       "      <td>0.000000</td>\n",
       "    </tr>\n",
       "    <tr>\n",
       "      <th>50%</th>\n",
       "      <td>7.036752</td>\n",
       "      <td>196.967627</td>\n",
       "      <td>20927.833607</td>\n",
       "      <td>7.130299</td>\n",
       "      <td>333.073546</td>\n",
       "      <td>421.884968</td>\n",
       "      <td>14.218338</td>\n",
       "      <td>66.622485</td>\n",
       "      <td>3.955028</td>\n",
       "      <td>0.000000</td>\n",
       "    </tr>\n",
       "    <tr>\n",
       "      <th>75%</th>\n",
       "      <td>8.062066</td>\n",
       "      <td>216.667456</td>\n",
       "      <td>27332.762127</td>\n",
       "      <td>8.114887</td>\n",
       "      <td>359.950170</td>\n",
       "      <td>481.792304</td>\n",
       "      <td>16.557652</td>\n",
       "      <td>77.337473</td>\n",
       "      <td>4.500320</td>\n",
       "      <td>1.000000</td>\n",
       "    </tr>\n",
       "    <tr>\n",
       "      <th>max</th>\n",
       "      <td>14.000000</td>\n",
       "      <td>323.124000</td>\n",
       "      <td>61227.196008</td>\n",
       "      <td>13.127000</td>\n",
       "      <td>481.030642</td>\n",
       "      <td>753.342620</td>\n",
       "      <td>28.300000</td>\n",
       "      <td>124.000000</td>\n",
       "      <td>6.739000</td>\n",
       "      <td>1.000000</td>\n",
       "    </tr>\n",
       "  </tbody>\n",
       "</table>\n",
       "</div>"
      ],
      "text/plain": [
       "                ph     Hardness        Solids  Chloramines      Sulfate  \\\n",
       "count  2785.000000  3276.000000   3276.000000  3276.000000  2495.000000   \n",
       "mean      7.080795   196.369496  22014.092526     7.122277   333.775777   \n",
       "std       1.594320    32.879761   8768.570828     1.583085    41.416840   \n",
       "min       0.000000    47.432000    320.942611     0.352000   129.000000   \n",
       "25%       6.093092   176.850538  15666.690297     6.127421   307.699498   \n",
       "50%       7.036752   196.967627  20927.833607     7.130299   333.073546   \n",
       "75%       8.062066   216.667456  27332.762127     8.114887   359.950170   \n",
       "max      14.000000   323.124000  61227.196008    13.127000   481.030642   \n",
       "\n",
       "       Conductivity  Organic_carbon  Trihalomethanes    Turbidity   Potability  \n",
       "count   3276.000000     3276.000000      3114.000000  3276.000000  3276.000000  \n",
       "mean     426.205111       14.284970        66.396293     3.966786     0.390110  \n",
       "std       80.824064        3.308162        16.175008     0.780382     0.487849  \n",
       "min      181.483754        2.200000         0.738000     1.450000     0.000000  \n",
       "25%      365.734414       12.065801        55.844536     3.439711     0.000000  \n",
       "50%      421.884968       14.218338        66.622485     3.955028     0.000000  \n",
       "75%      481.792304       16.557652        77.337473     4.500320     1.000000  \n",
       "max      753.342620       28.300000       124.000000     6.739000     1.000000  "
      ]
     },
     "execution_count": 3,
     "metadata": {},
     "output_type": "execute_result"
    }
   ],
   "source": [
    "df.describe()"
   ]
  },
  {
   "cell_type": "code",
   "execution_count": 4,
   "id": "d6ff8bd0",
   "metadata": {
    "execution": {
     "iopub.execute_input": "2022-03-27T06:37:01.614860Z",
     "iopub.status.busy": "2022-03-27T06:37:01.601095Z",
     "iopub.status.idle": "2022-03-27T06:37:01.619434Z",
     "shell.execute_reply": "2022-03-27T06:37:01.618568Z",
     "shell.execute_reply.started": "2022-03-27T06:29:09.652672Z"
    },
    "papermill": {
     "duration": 0.072305,
     "end_time": "2022-03-27T06:37:01.619628",
     "exception": false,
     "start_time": "2022-03-27T06:37:01.547323",
     "status": "completed"
    },
    "tags": []
   },
   "outputs": [
    {
     "name": "stdout",
     "output_type": "stream",
     "text": [
      "<class 'pandas.core.frame.DataFrame'>\n",
      "RangeIndex: 3276 entries, 0 to 3275\n",
      "Data columns (total 10 columns):\n",
      " #   Column           Non-Null Count  Dtype  \n",
      "---  ------           --------------  -----  \n",
      " 0   ph               2785 non-null   float64\n",
      " 1   Hardness         3276 non-null   float64\n",
      " 2   Solids           3276 non-null   float64\n",
      " 3   Chloramines      3276 non-null   float64\n",
      " 4   Sulfate          2495 non-null   float64\n",
      " 5   Conductivity     3276 non-null   float64\n",
      " 6   Organic_carbon   3276 non-null   float64\n",
      " 7   Trihalomethanes  3114 non-null   float64\n",
      " 8   Turbidity        3276 non-null   float64\n",
      " 9   Potability       3276 non-null   int64  \n",
      "dtypes: float64(9), int64(1)\n",
      "memory usage: 256.1 KB\n"
     ]
    }
   ],
   "source": [
    "df.info()"
   ]
  },
  {
   "cell_type": "code",
   "execution_count": 5,
   "id": "03e1a78e",
   "metadata": {
    "execution": {
     "iopub.execute_input": "2022-03-27T06:37:01.726423Z",
     "iopub.status.busy": "2022-03-27T06:37:01.725796Z",
     "iopub.status.idle": "2022-03-27T06:37:01.733136Z",
     "shell.execute_reply": "2022-03-27T06:37:01.732587Z",
     "shell.execute_reply.started": "2022-03-27T06:29:09.667907Z"
    },
    "papermill": {
     "duration": 0.060807,
     "end_time": "2022-03-27T06:37:01.733276",
     "exception": false,
     "start_time": "2022-03-27T06:37:01.672469",
     "status": "completed"
    },
    "tags": []
   },
   "outputs": [
    {
     "data": {
      "text/plain": [
       "ph                 float64\n",
       "Hardness           float64\n",
       "Solids             float64\n",
       "Chloramines        float64\n",
       "Sulfate            float64\n",
       "Conductivity       float64\n",
       "Organic_carbon     float64\n",
       "Trihalomethanes    float64\n",
       "Turbidity          float64\n",
       "Potability           int64\n",
       "dtype: object"
      ]
     },
     "execution_count": 5,
     "metadata": {},
     "output_type": "execute_result"
    }
   ],
   "source": [
    "df.dtypes"
   ]
  },
  {
   "cell_type": "markdown",
   "id": "df8043f0",
   "metadata": {
    "papermill": {
     "duration": 0.051415,
     "end_time": "2022-03-27T06:37:01.835756",
     "exception": false,
     "start_time": "2022-03-27T06:37:01.784341",
     "status": "completed"
    },
    "tags": []
   },
   "source": [
    "## Handle missing values"
   ]
  },
  {
   "cell_type": "code",
   "execution_count": 6,
   "id": "f9082d20",
   "metadata": {
    "execution": {
     "iopub.execute_input": "2022-03-27T06:37:01.942730Z",
     "iopub.status.busy": "2022-03-27T06:37:01.942039Z",
     "iopub.status.idle": "2022-03-27T06:37:02.514551Z",
     "shell.execute_reply": "2022-03-27T06:37:02.513634Z",
     "shell.execute_reply.started": "2022-03-27T06:29:09.677567Z"
    },
    "papermill": {
     "duration": 0.62778,
     "end_time": "2022-03-27T06:37:02.514722",
     "exception": false,
     "start_time": "2022-03-27T06:37:01.886942",
     "status": "completed"
    },
    "tags": []
   },
   "outputs": [
    {
     "data": {
      "text/plain": [
       "<AxesSubplot:>"
      ]
     },
     "execution_count": 6,
     "metadata": {},
     "output_type": "execute_result"
    },
    {
     "data": {
      "image/png": "[encoded data removed]",
      "text/plain": [
       "<Figure size 1800x720 with 2 Axes>"
      ]
     },
     "metadata": {
      "needs_background": "light"
     },
     "output_type": "display_data"
    }
   ],
   "source": [
    "import missingno as msno\n",
    "msno.matrix(df)"
   ]
  },
  {
   "cell_type": "code",
   "execution_count": 7,
   "id": "4df92aae",
   "metadata": {
    "execution": {
     "iopub.execute_input": "2022-03-27T06:37:02.642916Z",
     "iopub.status.busy": "2022-03-27T06:37:02.642075Z",
     "iopub.status.idle": "2022-03-27T06:37:02.645674Z",
     "shell.execute_reply": "2022-03-27T06:37:02.646190Z",
     "shell.execute_reply.started": "2022-03-27T06:29:10.303738Z"
    },
    "papermill": {
     "duration": 0.07796,
     "end_time": "2022-03-27T06:37:02.646367",
     "exception": false,
     "start_time": "2022-03-27T06:37:02.568407",
     "status": "completed"
    },
    "tags": []
   },
   "outputs": [
    {
     "data": {
      "text/html": [
       "<div>\n",
       "<style scoped>\n",
       "    .dataframe tbody tr th:only-of-type {\n",
       "        vertical-align: middle;\n",
       "    }\n",
       "\n",
       "    .dataframe tbody tr th {\n",
       "        vertical-align: top;\n",
       "    }\n",
       "\n",
       "    .dataframe thead th {\n",
       "        text-align: right;\n",
       "    }\n",
       "</style>\n",
       "<table border=\"1\" class=\"dataframe\">\n",
       "  <thead>\n",
       "    <tr style=\"text-align: right;\">\n",
       "      <th></th>\n",
       "      <th>ph</th>\n",
       "      <th>Hardness</th>\n",
       "      <th>Solids</th>\n",
       "      <th>Chloramines</th>\n",
       "      <th>Sulfate</th>\n",
       "      <th>Conductivity</th>\n",
       "      <th>Organic_carbon</th>\n",
       "      <th>Trihalomethanes</th>\n",
       "      <th>Turbidity</th>\n",
       "      <th>Potability</th>\n",
       "    </tr>\n",
       "  </thead>\n",
       "  <tbody>\n",
       "    <tr>\n",
       "      <th>0</th>\n",
       "      <td>NaN</td>\n",
       "      <td>204.890455</td>\n",
       "      <td>20791.318981</td>\n",
       "      <td>7.300212</td>\n",
       "      <td>368.516441</td>\n",
       "      <td>564.308654</td>\n",
       "      <td>10.379783</td>\n",
       "      <td>86.990970</td>\n",
       "      <td>2.963135</td>\n",
       "      <td>0</td>\n",
       "    </tr>\n",
       "    <tr>\n",
       "      <th>8</th>\n",
       "      <td>NaN</td>\n",
       "      <td>118.988579</td>\n",
       "      <td>14285.583854</td>\n",
       "      <td>7.804174</td>\n",
       "      <td>268.646941</td>\n",
       "      <td>389.375566</td>\n",
       "      <td>12.706049</td>\n",
       "      <td>53.928846</td>\n",
       "      <td>3.595017</td>\n",
       "      <td>0</td>\n",
       "    </tr>\n",
       "    <tr>\n",
       "      <th>13</th>\n",
       "      <td>NaN</td>\n",
       "      <td>150.174923</td>\n",
       "      <td>27331.361962</td>\n",
       "      <td>6.838223</td>\n",
       "      <td>299.415781</td>\n",
       "      <td>379.761835</td>\n",
       "      <td>19.370807</td>\n",
       "      <td>76.509996</td>\n",
       "      <td>4.413974</td>\n",
       "      <td>0</td>\n",
       "    </tr>\n",
       "    <tr>\n",
       "      <th>20</th>\n",
       "      <td>NaN</td>\n",
       "      <td>227.435048</td>\n",
       "      <td>22305.567414</td>\n",
       "      <td>10.333918</td>\n",
       "      <td>NaN</td>\n",
       "      <td>554.820086</td>\n",
       "      <td>16.331693</td>\n",
       "      <td>45.382815</td>\n",
       "      <td>4.133423</td>\n",
       "      <td>0</td>\n",
       "    </tr>\n",
       "    <tr>\n",
       "      <th>22</th>\n",
       "      <td>NaN</td>\n",
       "      <td>215.977859</td>\n",
       "      <td>17107.224226</td>\n",
       "      <td>5.607060</td>\n",
       "      <td>326.943978</td>\n",
       "      <td>436.256194</td>\n",
       "      <td>14.189062</td>\n",
       "      <td>59.855476</td>\n",
       "      <td>5.459251</td>\n",
       "      <td>0</td>\n",
       "    </tr>\n",
       "    <tr>\n",
       "      <th>...</th>\n",
       "      <td>...</td>\n",
       "      <td>...</td>\n",
       "      <td>...</td>\n",
       "      <td>...</td>\n",
       "      <td>...</td>\n",
       "      <td>...</td>\n",
       "      <td>...</td>\n",
       "      <td>...</td>\n",
       "      <td>...</td>\n",
       "      <td>...</td>\n",
       "    </tr>\n",
       "    <tr>\n",
       "      <th>3224</th>\n",
       "      <td>NaN</td>\n",
       "      <td>198.218700</td>\n",
       "      <td>31081.735264</td>\n",
       "      <td>7.419106</td>\n",
       "      <td>NaN</td>\n",
       "      <td>517.925946</td>\n",
       "      <td>11.711419</td>\n",
       "      <td>85.428785</td>\n",
       "      <td>3.345543</td>\n",
       "      <td>1</td>\n",
       "    </tr>\n",
       "    <tr>\n",
       "      <th>3229</th>\n",
       "      <td>NaN</td>\n",
       "      <td>203.204659</td>\n",
       "      <td>10643.186771</td>\n",
       "      <td>6.828936</td>\n",
       "      <td>NaN</td>\n",
       "      <td>384.597711</td>\n",
       "      <td>16.011328</td>\n",
       "      <td>72.911573</td>\n",
       "      <td>3.065910</td>\n",
       "      <td>1</td>\n",
       "    </tr>\n",
       "    <tr>\n",
       "      <th>3231</th>\n",
       "      <td>NaN</td>\n",
       "      <td>225.754109</td>\n",
       "      <td>28194.452646</td>\n",
       "      <td>5.892830</td>\n",
       "      <td>366.201583</td>\n",
       "      <td>418.272901</td>\n",
       "      <td>17.306832</td>\n",
       "      <td>103.912548</td>\n",
       "      <td>3.855895</td>\n",
       "      <td>1</td>\n",
       "    </tr>\n",
       "    <tr>\n",
       "      <th>3245</th>\n",
       "      <td>NaN</td>\n",
       "      <td>188.536608</td>\n",
       "      <td>24711.414927</td>\n",
       "      <td>7.129520</td>\n",
       "      <td>NaN</td>\n",
       "      <td>555.548534</td>\n",
       "      <td>16.959269</td>\n",
       "      <td>56.038702</td>\n",
       "      <td>4.331691</td>\n",
       "      <td>1</td>\n",
       "    </tr>\n",
       "    <tr>\n",
       "      <th>3260</th>\n",
       "      <td>NaN</td>\n",
       "      <td>134.736856</td>\n",
       "      <td>9000.025591</td>\n",
       "      <td>9.026293</td>\n",
       "      <td>NaN</td>\n",
       "      <td>428.213987</td>\n",
       "      <td>8.668672</td>\n",
       "      <td>74.773392</td>\n",
       "      <td>3.699558</td>\n",
       "      <td>1</td>\n",
       "    </tr>\n",
       "  </tbody>\n",
       "</table>\n",
       "<p>491 rows × 10 columns</p>\n",
       "</div>"
      ],
      "text/plain": [
       "      ph    Hardness        Solids  Chloramines     Sulfate  Conductivity  \\\n",
       "0    NaN  204.890455  20791.318981     7.300212  368.516441    564.308654   \n",
       "8    NaN  118.988579  14285.583854     7.804174  268.646941    389.375566   \n",
       "13   NaN  150.174923  27331.361962     6.838223  299.415781    379.761835   \n",
       "20   NaN  227.435048  22305.567414    10.333918         NaN    554.820086   \n",
       "22   NaN  215.977859  17107.224226     5.607060  326.943978    436.256194   \n",
       "...   ..         ...           ...          ...         ...           ...   \n",
       "3224 NaN  198.218700  31081.735264     7.419106         NaN    517.925946   \n",
       "3229 NaN  203.204659  10643.186771     6.828936         NaN    384.597711   \n",
       "3231 NaN  225.754109  28194.452646     5.892830  366.201583    418.272901   \n",
       "3245 NaN  188.536608  24711.414927     7.129520         NaN    555.548534   \n",
       "3260 NaN  134.736856   9000.025591     9.026293         NaN    428.213987   \n",
       "\n",
       "      Organic_carbon  Trihalomethanes  Turbidity  Potability  \n",
       "0          10.379783        86.990970   2.963135           0  \n",
       "8          12.706049        53.928846   3.595017           0  \n",
       "13         19.370807        76.509996   4.413974           0  \n",
       "20         16.331693        45.382815   4.133423           0  \n",
       "22         14.189062        59.855476   5.459251           0  \n",
       "...              ...              ...        ...         ...  \n",
       "3224       11.711419        85.428785   3.345543           1  \n",
       "3229       16.011328        72.911573   3.065910           1  \n",
       "3231       17.306832       103.912548   3.855895           1  \n",
       "3245       16.959269        56.038702   4.331691           1  \n",
       "3260        8.668672        74.773392   3.699558           1  \n",
       "\n",
       "[491 rows x 10 columns]"
      ]
     },
     "execution_count": 7,
     "metadata": {},
     "output_type": "execute_result"
    }
   ],
   "source": [
    "df.loc[df.ph.isna()]"
   ]
  },
  {
   "cell_type": "code",
   "execution_count": 8,
   "id": "bc74bf4e",
   "metadata": {
    "execution": {
     "iopub.execute_input": "2022-03-27T06:37:02.777584Z",
     "iopub.status.busy": "2022-03-27T06:37:02.776661Z",
     "iopub.status.idle": "2022-03-27T06:37:02.780492Z",
     "shell.execute_reply": "2022-03-27T06:37:02.781062Z",
     "shell.execute_reply.started": "2022-03-27T06:29:10.327782Z"
    },
    "papermill": {
     "duration": 0.080416,
     "end_time": "2022-03-27T06:37:02.781242",
     "exception": false,
     "start_time": "2022-03-27T06:37:02.700826",
     "status": "completed"
    },
    "tags": []
   },
   "outputs": [
    {
     "data": {
      "text/html": [
       "<div>\n",
       "<style scoped>\n",
       "    .dataframe tbody tr th:only-of-type {\n",
       "        vertical-align: middle;\n",
       "    }\n",
       "\n",
       "    .dataframe tbody tr th {\n",
       "        vertical-align: top;\n",
       "    }\n",
       "\n",
       "    .dataframe thead th {\n",
       "        text-align: right;\n",
       "    }\n",
       "</style>\n",
       "<table border=\"1\" class=\"dataframe\">\n",
       "  <thead>\n",
       "    <tr style=\"text-align: right;\">\n",
       "      <th></th>\n",
       "      <th>ph</th>\n",
       "      <th>Hardness</th>\n",
       "      <th>Solids</th>\n",
       "      <th>Chloramines</th>\n",
       "      <th>Sulfate</th>\n",
       "      <th>Conductivity</th>\n",
       "      <th>Organic_carbon</th>\n",
       "      <th>Trihalomethanes</th>\n",
       "      <th>Turbidity</th>\n",
       "      <th>Potability</th>\n",
       "    </tr>\n",
       "  </thead>\n",
       "  <tbody>\n",
       "    <tr>\n",
       "      <th>1</th>\n",
       "      <td>3.716080</td>\n",
       "      <td>129.422921</td>\n",
       "      <td>18630.057858</td>\n",
       "      <td>6.635246</td>\n",
       "      <td>NaN</td>\n",
       "      <td>592.885359</td>\n",
       "      <td>15.180013</td>\n",
       "      <td>56.329076</td>\n",
       "      <td>4.500656</td>\n",
       "      <td>0</td>\n",
       "    </tr>\n",
       "    <tr>\n",
       "      <th>2</th>\n",
       "      <td>8.099124</td>\n",
       "      <td>224.236259</td>\n",
       "      <td>19909.541732</td>\n",
       "      <td>9.275884</td>\n",
       "      <td>NaN</td>\n",
       "      <td>418.606213</td>\n",
       "      <td>16.868637</td>\n",
       "      <td>66.420093</td>\n",
       "      <td>3.055934</td>\n",
       "      <td>0</td>\n",
       "    </tr>\n",
       "    <tr>\n",
       "      <th>11</th>\n",
       "      <td>7.974522</td>\n",
       "      <td>218.693300</td>\n",
       "      <td>18767.656682</td>\n",
       "      <td>8.110385</td>\n",
       "      <td>NaN</td>\n",
       "      <td>364.098230</td>\n",
       "      <td>14.525746</td>\n",
       "      <td>76.485911</td>\n",
       "      <td>4.011718</td>\n",
       "      <td>0</td>\n",
       "    </tr>\n",
       "    <tr>\n",
       "      <th>14</th>\n",
       "      <td>7.496232</td>\n",
       "      <td>205.344982</td>\n",
       "      <td>28388.004887</td>\n",
       "      <td>5.072558</td>\n",
       "      <td>NaN</td>\n",
       "      <td>444.645352</td>\n",
       "      <td>13.228311</td>\n",
       "      <td>70.300213</td>\n",
       "      <td>4.777382</td>\n",
       "      <td>0</td>\n",
       "    </tr>\n",
       "    <tr>\n",
       "      <th>16</th>\n",
       "      <td>7.051786</td>\n",
       "      <td>211.049406</td>\n",
       "      <td>30980.600787</td>\n",
       "      <td>10.094796</td>\n",
       "      <td>NaN</td>\n",
       "      <td>315.141267</td>\n",
       "      <td>20.397022</td>\n",
       "      <td>56.651604</td>\n",
       "      <td>4.268429</td>\n",
       "      <td>0</td>\n",
       "    </tr>\n",
       "    <tr>\n",
       "      <th>...</th>\n",
       "      <td>...</td>\n",
       "      <td>...</td>\n",
       "      <td>...</td>\n",
       "      <td>...</td>\n",
       "      <td>...</td>\n",
       "      <td>...</td>\n",
       "      <td>...</td>\n",
       "      <td>...</td>\n",
       "      <td>...</td>\n",
       "      <td>...</td>\n",
       "    </tr>\n",
       "    <tr>\n",
       "      <th>3266</th>\n",
       "      <td>8.372910</td>\n",
       "      <td>169.087052</td>\n",
       "      <td>14622.745494</td>\n",
       "      <td>7.547984</td>\n",
       "      <td>NaN</td>\n",
       "      <td>464.525552</td>\n",
       "      <td>11.083027</td>\n",
       "      <td>38.435151</td>\n",
       "      <td>4.906358</td>\n",
       "      <td>1</td>\n",
       "    </tr>\n",
       "    <tr>\n",
       "      <th>3272</th>\n",
       "      <td>7.808856</td>\n",
       "      <td>193.553212</td>\n",
       "      <td>17329.802160</td>\n",
       "      <td>8.061362</td>\n",
       "      <td>NaN</td>\n",
       "      <td>392.449580</td>\n",
       "      <td>19.903225</td>\n",
       "      <td>NaN</td>\n",
       "      <td>2.798243</td>\n",
       "      <td>1</td>\n",
       "    </tr>\n",
       "    <tr>\n",
       "      <th>3273</th>\n",
       "      <td>9.419510</td>\n",
       "      <td>175.762646</td>\n",
       "      <td>33155.578218</td>\n",
       "      <td>7.350233</td>\n",
       "      <td>NaN</td>\n",
       "      <td>432.044783</td>\n",
       "      <td>11.039070</td>\n",
       "      <td>69.845400</td>\n",
       "      <td>3.298875</td>\n",
       "      <td>1</td>\n",
       "    </tr>\n",
       "    <tr>\n",
       "      <th>3274</th>\n",
       "      <td>5.126763</td>\n",
       "      <td>230.603758</td>\n",
       "      <td>11983.869376</td>\n",
       "      <td>6.303357</td>\n",
       "      <td>NaN</td>\n",
       "      <td>402.883113</td>\n",
       "      <td>11.168946</td>\n",
       "      <td>77.488213</td>\n",
       "      <td>4.708658</td>\n",
       "      <td>1</td>\n",
       "    </tr>\n",
       "    <tr>\n",
       "      <th>3275</th>\n",
       "      <td>7.874671</td>\n",
       "      <td>195.102299</td>\n",
       "      <td>17404.177061</td>\n",
       "      <td>7.509306</td>\n",
       "      <td>NaN</td>\n",
       "      <td>327.459760</td>\n",
       "      <td>16.140368</td>\n",
       "      <td>78.698446</td>\n",
       "      <td>2.309149</td>\n",
       "      <td>1</td>\n",
       "    </tr>\n",
       "  </tbody>\n",
       "</table>\n",
       "<p>781 rows × 10 columns</p>\n",
       "</div>"
      ],
      "text/plain": [
       "            ph    Hardness        Solids  Chloramines  Sulfate  Conductivity  \\\n",
       "1     3.716080  129.422921  18630.057858     6.635246      NaN    592.885359   \n",
       "2     8.099124  224.236259  19909.541732     9.275884      NaN    418.606213   \n",
       "11    7.974522  218.693300  18767.656682     8.110385      NaN    364.098230   \n",
       "14    7.496232  205.344982  28388.004887     5.072558      NaN    444.645352   \n",
       "16    7.051786  211.049406  30980.600787    10.094796      NaN    315.141267   \n",
       "...        ...         ...           ...          ...      ...           ...   \n",
       "3266  8.372910  169.087052  14622.745494     7.547984      NaN    464.525552   \n",
       "3272  7.808856  193.553212  17329.802160     8.061362      NaN    392.449580   \n",
       "3273  9.419510  175.762646  33155.578218     7.350233      NaN    432.044783   \n",
       "3274  5.126763  230.603758  11983.869376     6.303357      NaN    402.883113   \n",
       "3275  7.874671  195.102299  17404.177061     7.509306      NaN    327.459760   \n",
       "\n",
       "      Organic_carbon  Trihalomethanes  Turbidity  Potability  \n",
       "1          15.180013        56.329076   4.500656           0  \n",
       "2          16.868637        66.420093   3.055934           0  \n",
       "11         14.525746        76.485911   4.011718           0  \n",
       "14         13.228311        70.300213   4.777382           0  \n",
       "16         20.397022        56.651604   4.268429           0  \n",
       "...              ...              ...        ...         ...  \n",
       "3266       11.083027        38.435151   4.906358           1  \n",
       "3272       19.903225              NaN   2.798243           1  \n",
       "3273       11.039070        69.845400   3.298875           1  \n",
       "3274       11.168946        77.488213   4.708658           1  \n",
       "3275       16.140368        78.698446   2.309149           1  \n",
       "\n",
       "[781 rows x 10 columns]"
      ]
     },
     "execution_count": 8,
     "metadata": {},
     "output_type": "execute_result"
    }
   ],
   "source": [
    "df.loc[df.Sulfate.isna()]"
   ]
  },
  {
   "cell_type": "code",
   "execution_count": 9,
   "id": "eeb87b27",
   "metadata": {
    "execution": {
     "iopub.execute_input": "2022-03-27T06:37:02.896193Z",
     "iopub.status.busy": "2022-03-27T06:37:02.895351Z",
     "iopub.status.idle": "2022-03-27T06:37:02.914236Z",
     "shell.execute_reply": "2022-03-27T06:37:02.914848Z",
     "shell.execute_reply.started": "2022-03-27T06:29:10.356887Z"
    },
    "papermill": {
     "duration": 0.077109,
     "end_time": "2022-03-27T06:37:02.915024",
     "exception": false,
     "start_time": "2022-03-27T06:37:02.837915",
     "status": "completed"
    },
    "tags": []
   },
   "outputs": [
    {
     "data": {
      "text/html": [
       "<div>\n",
       "<style scoped>\n",
       "    .dataframe tbody tr th:only-of-type {\n",
       "        vertical-align: middle;\n",
       "    }\n",
       "\n",
       "    .dataframe tbody tr th {\n",
       "        vertical-align: top;\n",
       "    }\n",
       "\n",
       "    .dataframe thead th {\n",
       "        text-align: right;\n",
       "    }\n",
       "</style>\n",
       "<table border=\"1\" class=\"dataframe\">\n",
       "  <thead>\n",
       "    <tr style=\"text-align: right;\">\n",
       "      <th></th>\n",
       "      <th>ph</th>\n",
       "      <th>Hardness</th>\n",
       "      <th>Solids</th>\n",
       "      <th>Chloramines</th>\n",
       "      <th>Sulfate</th>\n",
       "      <th>Conductivity</th>\n",
       "      <th>Organic_carbon</th>\n",
       "      <th>Trihalomethanes</th>\n",
       "      <th>Turbidity</th>\n",
       "      <th>Potability</th>\n",
       "    </tr>\n",
       "  </thead>\n",
       "  <tbody>\n",
       "    <tr>\n",
       "      <th>62</th>\n",
       "      <td>NaN</td>\n",
       "      <td>229.485694</td>\n",
       "      <td>35729.692709</td>\n",
       "      <td>8.810843</td>\n",
       "      <td>384.943779</td>\n",
       "      <td>296.397547</td>\n",
       "      <td>16.927092</td>\n",
       "      <td>NaN</td>\n",
       "      <td>3.855602</td>\n",
       "      <td>0</td>\n",
       "    </tr>\n",
       "    <tr>\n",
       "      <th>81</th>\n",
       "      <td>5.519126</td>\n",
       "      <td>168.728583</td>\n",
       "      <td>12531.601921</td>\n",
       "      <td>7.730723</td>\n",
       "      <td>NaN</td>\n",
       "      <td>443.570372</td>\n",
       "      <td>18.099078</td>\n",
       "      <td>NaN</td>\n",
       "      <td>3.758996</td>\n",
       "      <td>0</td>\n",
       "    </tr>\n",
       "    <tr>\n",
       "      <th>110</th>\n",
       "      <td>9.286155</td>\n",
       "      <td>222.661551</td>\n",
       "      <td>12311.268366</td>\n",
       "      <td>7.289866</td>\n",
       "      <td>332.239359</td>\n",
       "      <td>353.740100</td>\n",
       "      <td>14.171763</td>\n",
       "      <td>NaN</td>\n",
       "      <td>5.239982</td>\n",
       "      <td>0</td>\n",
       "    </tr>\n",
       "    <tr>\n",
       "      <th>118</th>\n",
       "      <td>7.397413</td>\n",
       "      <td>122.541040</td>\n",
       "      <td>8855.114121</td>\n",
       "      <td>6.888689</td>\n",
       "      <td>241.607532</td>\n",
       "      <td>489.851600</td>\n",
       "      <td>13.365906</td>\n",
       "      <td>NaN</td>\n",
       "      <td>3.149158</td>\n",
       "      <td>0</td>\n",
       "    </tr>\n",
       "    <tr>\n",
       "      <th>119</th>\n",
       "      <td>7.812804</td>\n",
       "      <td>196.583886</td>\n",
       "      <td>42550.841816</td>\n",
       "      <td>7.334648</td>\n",
       "      <td>NaN</td>\n",
       "      <td>442.545775</td>\n",
       "      <td>14.666917</td>\n",
       "      <td>NaN</td>\n",
       "      <td>6.204846</td>\n",
       "      <td>0</td>\n",
       "    </tr>\n",
       "    <tr>\n",
       "      <th>...</th>\n",
       "      <td>...</td>\n",
       "      <td>...</td>\n",
       "      <td>...</td>\n",
       "      <td>...</td>\n",
       "      <td>...</td>\n",
       "      <td>...</td>\n",
       "      <td>...</td>\n",
       "      <td>...</td>\n",
       "      <td>...</td>\n",
       "      <td>...</td>\n",
       "    </tr>\n",
       "    <tr>\n",
       "      <th>3174</th>\n",
       "      <td>6.698154</td>\n",
       "      <td>198.286268</td>\n",
       "      <td>34675.862845</td>\n",
       "      <td>6.263602</td>\n",
       "      <td>360.232834</td>\n",
       "      <td>430.935009</td>\n",
       "      <td>12.176678</td>\n",
       "      <td>NaN</td>\n",
       "      <td>3.758180</td>\n",
       "      <td>1</td>\n",
       "    </tr>\n",
       "    <tr>\n",
       "      <th>3185</th>\n",
       "      <td>6.110022</td>\n",
       "      <td>234.800957</td>\n",
       "      <td>16663.539074</td>\n",
       "      <td>5.984536</td>\n",
       "      <td>348.055211</td>\n",
       "      <td>437.892115</td>\n",
       "      <td>10.059523</td>\n",
       "      <td>NaN</td>\n",
       "      <td>2.817780</td>\n",
       "      <td>1</td>\n",
       "    </tr>\n",
       "    <tr>\n",
       "      <th>3219</th>\n",
       "      <td>6.417716</td>\n",
       "      <td>209.702425</td>\n",
       "      <td>31974.481631</td>\n",
       "      <td>7.263425</td>\n",
       "      <td>321.382124</td>\n",
       "      <td>289.450118</td>\n",
       "      <td>11.369071</td>\n",
       "      <td>NaN</td>\n",
       "      <td>4.210327</td>\n",
       "      <td>1</td>\n",
       "    </tr>\n",
       "    <tr>\n",
       "      <th>3259</th>\n",
       "      <td>9.271355</td>\n",
       "      <td>181.259617</td>\n",
       "      <td>16540.979048</td>\n",
       "      <td>7.022499</td>\n",
       "      <td>309.238865</td>\n",
       "      <td>487.692788</td>\n",
       "      <td>13.228441</td>\n",
       "      <td>NaN</td>\n",
       "      <td>4.333953</td>\n",
       "      <td>1</td>\n",
       "    </tr>\n",
       "    <tr>\n",
       "      <th>3272</th>\n",
       "      <td>7.808856</td>\n",
       "      <td>193.553212</td>\n",
       "      <td>17329.802160</td>\n",
       "      <td>8.061362</td>\n",
       "      <td>NaN</td>\n",
       "      <td>392.449580</td>\n",
       "      <td>19.903225</td>\n",
       "      <td>NaN</td>\n",
       "      <td>2.798243</td>\n",
       "      <td>1</td>\n",
       "    </tr>\n",
       "  </tbody>\n",
       "</table>\n",
       "<p>162 rows × 10 columns</p>\n",
       "</div>"
      ],
      "text/plain": [
       "            ph    Hardness        Solids  Chloramines     Sulfate  \\\n",
       "62         NaN  229.485694  35729.692709     8.810843  384.943779   \n",
       "81    5.519126  168.728583  12531.601921     7.730723         NaN   \n",
       "110   9.286155  222.661551  12311.268366     7.289866  332.239359   \n",
       "118   7.397413  122.541040   8855.114121     6.888689  241.607532   \n",
       "119   7.812804  196.583886  42550.841816     7.334648         NaN   \n",
       "...        ...         ...           ...          ...         ...   \n",
       "3174  6.698154  198.286268  34675.862845     6.263602  360.232834   \n",
       "3185  6.110022  234.800957  16663.539074     5.984536  348.055211   \n",
       "3219  6.417716  209.702425  31974.481631     7.263425  321.382124   \n",
       "3259  9.271355  181.259617  16540.979048     7.022499  309.238865   \n",
       "3272  7.808856  193.553212  17329.802160     8.061362         NaN   \n",
       "\n",
       "      Conductivity  Organic_carbon  Trihalomethanes  Turbidity  Potability  \n",
       "62      296.397547       16.927092              NaN   3.855602           0  \n",
       "81      443.570372       18.099078              NaN   3.758996           0  \n",
       "110     353.740100       14.171763              NaN   5.239982           0  \n",
       "118     489.851600       13.365906              NaN   3.149158           0  \n",
       "119     442.545775       14.666917              NaN   6.204846           0  \n",
       "...            ...             ...              ...        ...         ...  \n",
       "3174    430.935009       12.176678              NaN   3.758180           1  \n",
       "3185    437.892115       10.059523              NaN   2.817780           1  \n",
       "3219    289.450118       11.369071              NaN   4.210327           1  \n",
       "3259    487.692788       13.228441              NaN   4.333953           1  \n",
       "3272    392.449580       19.903225              NaN   2.798243           1  \n",
       "\n",
       "[162 rows x 10 columns]"
      ]
     },
     "execution_count": 9,
     "metadata": {},
     "output_type": "execute_result"
    }
   ],
   "source": [
    "df.loc[df.Trihalomethanes.isna()]"
   ]
  },
  {
   "cell_type": "markdown",
   "id": "e52dc53e",
   "metadata": {
    "papermill": {
     "duration": 0.055465,
     "end_time": "2022-03-27T06:37:03.026630",
     "exception": false,
     "start_time": "2022-03-27T06:37:02.971165",
     "status": "completed"
    },
    "tags": []
   },
   "source": [
    "Remove rows with too many missing values:"
   ]
  },
  {
   "cell_type": "code",
   "execution_count": 10,
   "id": "e470bfb3",
   "metadata": {
    "execution": {
     "iopub.execute_input": "2022-03-27T06:37:03.142323Z",
     "iopub.status.busy": "2022-03-27T06:37:03.141684Z",
     "iopub.status.idle": "2022-03-27T06:37:03.169405Z",
     "shell.execute_reply": "2022-03-27T06:37:03.170021Z",
     "shell.execute_reply.started": "2022-03-27T06:29:10.384838Z"
    },
    "papermill": {
     "duration": 0.087104,
     "end_time": "2022-03-27T06:37:03.170188",
     "exception": false,
     "start_time": "2022-03-27T06:37:03.083084",
     "status": "completed"
    },
    "tags": []
   },
   "outputs": [
    {
     "data": {
      "text/html": [
       "<div>\n",
       "<style scoped>\n",
       "    .dataframe tbody tr th:only-of-type {\n",
       "        vertical-align: middle;\n",
       "    }\n",
       "\n",
       "    .dataframe tbody tr th {\n",
       "        vertical-align: top;\n",
       "    }\n",
       "\n",
       "    .dataframe thead th {\n",
       "        text-align: right;\n",
       "    }\n",
       "</style>\n",
       "<table border=\"1\" class=\"dataframe\">\n",
       "  <thead>\n",
       "    <tr style=\"text-align: right;\">\n",
       "      <th></th>\n",
       "      <th>ph</th>\n",
       "      <th>Hardness</th>\n",
       "      <th>Solids</th>\n",
       "      <th>Chloramines</th>\n",
       "      <th>Sulfate</th>\n",
       "      <th>Conductivity</th>\n",
       "      <th>Organic_carbon</th>\n",
       "      <th>Trihalomethanes</th>\n",
       "      <th>Turbidity</th>\n",
       "      <th>Potability</th>\n",
       "    </tr>\n",
       "  </thead>\n",
       "  <tbody>\n",
       "    <tr>\n",
       "      <th>0</th>\n",
       "      <td>NaN</td>\n",
       "      <td>204.890455</td>\n",
       "      <td>20791.318981</td>\n",
       "      <td>7.300212</td>\n",
       "      <td>368.516441</td>\n",
       "      <td>564.308654</td>\n",
       "      <td>10.379783</td>\n",
       "      <td>86.990970</td>\n",
       "      <td>2.963135</td>\n",
       "      <td>0</td>\n",
       "    </tr>\n",
       "    <tr>\n",
       "      <th>1</th>\n",
       "      <td>3.716080</td>\n",
       "      <td>129.422921</td>\n",
       "      <td>18630.057858</td>\n",
       "      <td>6.635246</td>\n",
       "      <td>NaN</td>\n",
       "      <td>592.885359</td>\n",
       "      <td>15.180013</td>\n",
       "      <td>56.329076</td>\n",
       "      <td>4.500656</td>\n",
       "      <td>0</td>\n",
       "    </tr>\n",
       "    <tr>\n",
       "      <th>2</th>\n",
       "      <td>8.099124</td>\n",
       "      <td>224.236259</td>\n",
       "      <td>19909.541732</td>\n",
       "      <td>9.275884</td>\n",
       "      <td>NaN</td>\n",
       "      <td>418.606213</td>\n",
       "      <td>16.868637</td>\n",
       "      <td>66.420093</td>\n",
       "      <td>3.055934</td>\n",
       "      <td>0</td>\n",
       "    </tr>\n",
       "    <tr>\n",
       "      <th>8</th>\n",
       "      <td>NaN</td>\n",
       "      <td>118.988579</td>\n",
       "      <td>14285.583854</td>\n",
       "      <td>7.804174</td>\n",
       "      <td>268.646941</td>\n",
       "      <td>389.375566</td>\n",
       "      <td>12.706049</td>\n",
       "      <td>53.928846</td>\n",
       "      <td>3.595017</td>\n",
       "      <td>0</td>\n",
       "    </tr>\n",
       "    <tr>\n",
       "      <th>11</th>\n",
       "      <td>7.974522</td>\n",
       "      <td>218.693300</td>\n",
       "      <td>18767.656682</td>\n",
       "      <td>8.110385</td>\n",
       "      <td>NaN</td>\n",
       "      <td>364.098230</td>\n",
       "      <td>14.525746</td>\n",
       "      <td>76.485911</td>\n",
       "      <td>4.011718</td>\n",
       "      <td>0</td>\n",
       "    </tr>\n",
       "    <tr>\n",
       "      <th>...</th>\n",
       "      <td>...</td>\n",
       "      <td>...</td>\n",
       "      <td>...</td>\n",
       "      <td>...</td>\n",
       "      <td>...</td>\n",
       "      <td>...</td>\n",
       "      <td>...</td>\n",
       "      <td>...</td>\n",
       "      <td>...</td>\n",
       "      <td>...</td>\n",
       "    </tr>\n",
       "    <tr>\n",
       "      <th>3259</th>\n",
       "      <td>9.271355</td>\n",
       "      <td>181.259617</td>\n",
       "      <td>16540.979048</td>\n",
       "      <td>7.022499</td>\n",
       "      <td>309.238865</td>\n",
       "      <td>487.692788</td>\n",
       "      <td>13.228441</td>\n",
       "      <td>NaN</td>\n",
       "      <td>4.333953</td>\n",
       "      <td>1</td>\n",
       "    </tr>\n",
       "    <tr>\n",
       "      <th>3266</th>\n",
       "      <td>8.372910</td>\n",
       "      <td>169.087052</td>\n",
       "      <td>14622.745494</td>\n",
       "      <td>7.547984</td>\n",
       "      <td>NaN</td>\n",
       "      <td>464.525552</td>\n",
       "      <td>11.083027</td>\n",
       "      <td>38.435151</td>\n",
       "      <td>4.906358</td>\n",
       "      <td>1</td>\n",
       "    </tr>\n",
       "    <tr>\n",
       "      <th>3273</th>\n",
       "      <td>9.419510</td>\n",
       "      <td>175.762646</td>\n",
       "      <td>33155.578218</td>\n",
       "      <td>7.350233</td>\n",
       "      <td>NaN</td>\n",
       "      <td>432.044783</td>\n",
       "      <td>11.039070</td>\n",
       "      <td>69.845400</td>\n",
       "      <td>3.298875</td>\n",
       "      <td>1</td>\n",
       "    </tr>\n",
       "    <tr>\n",
       "      <th>3274</th>\n",
       "      <td>5.126763</td>\n",
       "      <td>230.603758</td>\n",
       "      <td>11983.869376</td>\n",
       "      <td>6.303357</td>\n",
       "      <td>NaN</td>\n",
       "      <td>402.883113</td>\n",
       "      <td>11.168946</td>\n",
       "      <td>77.488213</td>\n",
       "      <td>4.708658</td>\n",
       "      <td>1</td>\n",
       "    </tr>\n",
       "    <tr>\n",
       "      <th>3275</th>\n",
       "      <td>7.874671</td>\n",
       "      <td>195.102299</td>\n",
       "      <td>17404.177061</td>\n",
       "      <td>7.509306</td>\n",
       "      <td>NaN</td>\n",
       "      <td>327.459760</td>\n",
       "      <td>16.140368</td>\n",
       "      <td>78.698446</td>\n",
       "      <td>2.309149</td>\n",
       "      <td>1</td>\n",
       "    </tr>\n",
       "  </tbody>\n",
       "</table>\n",
       "<p>1105 rows × 10 columns</p>\n",
       "</div>"
      ],
      "text/plain": [
       "            ph    Hardness        Solids  Chloramines     Sulfate  \\\n",
       "0          NaN  204.890455  20791.318981     7.300212  368.516441   \n",
       "1     3.716080  129.422921  18630.057858     6.635246         NaN   \n",
       "2     8.099124  224.236259  19909.541732     9.275884         NaN   \n",
       "8          NaN  118.988579  14285.583854     7.804174  268.646941   \n",
       "11    7.974522  218.693300  18767.656682     8.110385         NaN   \n",
       "...        ...         ...           ...          ...         ...   \n",
       "3259  9.271355  181.259617  16540.979048     7.022499  309.238865   \n",
       "3266  8.372910  169.087052  14622.745494     7.547984         NaN   \n",
       "3273  9.419510  175.762646  33155.578218     7.350233         NaN   \n",
       "3274  5.126763  230.603758  11983.869376     6.303357         NaN   \n",
       "3275  7.874671  195.102299  17404.177061     7.509306         NaN   \n",
       "\n",
       "      Conductivity  Organic_carbon  Trihalomethanes  Turbidity  Potability  \n",
       "0       564.308654       10.379783        86.990970   2.963135           0  \n",
       "1       592.885359       15.180013        56.329076   4.500656           0  \n",
       "2       418.606213       16.868637        66.420093   3.055934           0  \n",
       "8       389.375566       12.706049        53.928846   3.595017           0  \n",
       "11      364.098230       14.525746        76.485911   4.011718           0  \n",
       "...            ...             ...              ...        ...         ...  \n",
       "3259    487.692788       13.228441              NaN   4.333953           1  \n",
       "3266    464.525552       11.083027        38.435151   4.906358           1  \n",
       "3273    432.044783       11.039070        69.845400   3.298875           1  \n",
       "3274    402.883113       11.168946        77.488213   4.708658           1  \n",
       "3275    327.459760       16.140368        78.698446   2.309149           1  \n",
       "\n",
       "[1105 rows x 10 columns]"
      ]
     },
     "execution_count": 10,
     "metadata": {},
     "output_type": "execute_result"
    }
   ],
   "source": [
    "df = df.drop(df[(df.ph.isna()) & (df.Sulfate.isna()) & (df.Trihalomethanes.isna())].index)\n",
    "df = df.drop(df[(df.ph.isna()) & (df.Sulfate.isna())].index)\n",
    "df = df.drop(df[(df.ph.isna()) & (df.Trihalomethanes.isna())].index)\n",
    "df = df.drop(df[(df.Sulfate.isna()) & (df.Trihalomethanes.isna())].index)\n",
    "df.loc[df.isna().any(axis=1)]"
   ]
  },
  {
   "cell_type": "markdown",
   "id": "cf29a726",
   "metadata": {
    "papermill": {
     "duration": 0.056247,
     "end_time": "2022-03-27T06:37:03.283471",
     "exception": false,
     "start_time": "2022-03-27T06:37:03.227224",
     "status": "completed"
    },
    "tags": []
   },
   "source": [
    "Fill missing values with the average value of the column:"
   ]
  },
  {
   "cell_type": "code",
   "execution_count": 11,
   "id": "28da4f0a",
   "metadata": {
    "execution": {
     "iopub.execute_input": "2022-03-27T06:37:03.400709Z",
     "iopub.status.busy": "2022-03-27T06:37:03.399997Z",
     "iopub.status.idle": "2022-03-27T06:37:03.421548Z",
     "shell.execute_reply": "2022-03-27T06:37:03.422188Z",
     "shell.execute_reply.started": "2022-03-27T06:29:10.416165Z"
    },
    "papermill": {
     "duration": 0.082064,
     "end_time": "2022-03-27T06:37:03.422361",
     "exception": false,
     "start_time": "2022-03-27T06:37:03.340297",
     "status": "completed"
    },
    "tags": []
   },
   "outputs": [
    {
     "data": {
      "text/html": [
       "<div>\n",
       "<style scoped>\n",
       "    .dataframe tbody tr th:only-of-type {\n",
       "        vertical-align: middle;\n",
       "    }\n",
       "\n",
       "    .dataframe tbody tr th {\n",
       "        vertical-align: top;\n",
       "    }\n",
       "\n",
       "    .dataframe thead th {\n",
       "        text-align: right;\n",
       "    }\n",
       "</style>\n",
       "<table border=\"1\" class=\"dataframe\">\n",
       "  <thead>\n",
       "    <tr style=\"text-align: right;\">\n",
       "      <th></th>\n",
       "      <th>ph</th>\n",
       "      <th>Hardness</th>\n",
       "      <th>Solids</th>\n",
       "      <th>Chloramines</th>\n",
       "      <th>Sulfate</th>\n",
       "      <th>Conductivity</th>\n",
       "      <th>Organic_carbon</th>\n",
       "      <th>Trihalomethanes</th>\n",
       "      <th>Turbidity</th>\n",
       "      <th>Potability</th>\n",
       "    </tr>\n",
       "  </thead>\n",
       "  <tbody>\n",
       "    <tr>\n",
       "      <th>0</th>\n",
       "      <td>7.078708</td>\n",
       "      <td>204.890455</td>\n",
       "      <td>20791.318981</td>\n",
       "      <td>7.300212</td>\n",
       "      <td>368.516441</td>\n",
       "      <td>564.308654</td>\n",
       "      <td>10.379783</td>\n",
       "      <td>86.990970</td>\n",
       "      <td>2.963135</td>\n",
       "      <td>0</td>\n",
       "    </tr>\n",
       "    <tr>\n",
       "      <th>1</th>\n",
       "      <td>3.716080</td>\n",
       "      <td>129.422921</td>\n",
       "      <td>18630.057858</td>\n",
       "      <td>6.635246</td>\n",
       "      <td>333.699670</td>\n",
       "      <td>592.885359</td>\n",
       "      <td>15.180013</td>\n",
       "      <td>56.329076</td>\n",
       "      <td>4.500656</td>\n",
       "      <td>0</td>\n",
       "    </tr>\n",
       "    <tr>\n",
       "      <th>2</th>\n",
       "      <td>8.099124</td>\n",
       "      <td>224.236259</td>\n",
       "      <td>19909.541732</td>\n",
       "      <td>9.275884</td>\n",
       "      <td>333.699670</td>\n",
       "      <td>418.606213</td>\n",
       "      <td>16.868637</td>\n",
       "      <td>66.420093</td>\n",
       "      <td>3.055934</td>\n",
       "      <td>0</td>\n",
       "    </tr>\n",
       "    <tr>\n",
       "      <th>3</th>\n",
       "      <td>8.316766</td>\n",
       "      <td>214.373394</td>\n",
       "      <td>22018.417441</td>\n",
       "      <td>8.059332</td>\n",
       "      <td>356.886136</td>\n",
       "      <td>363.266516</td>\n",
       "      <td>18.436524</td>\n",
       "      <td>100.341674</td>\n",
       "      <td>4.628771</td>\n",
       "      <td>0</td>\n",
       "    </tr>\n",
       "    <tr>\n",
       "      <th>4</th>\n",
       "      <td>9.092223</td>\n",
       "      <td>181.101509</td>\n",
       "      <td>17978.986339</td>\n",
       "      <td>6.546600</td>\n",
       "      <td>310.135738</td>\n",
       "      <td>398.410813</td>\n",
       "      <td>11.558279</td>\n",
       "      <td>31.997993</td>\n",
       "      <td>4.075075</td>\n",
       "      <td>0</td>\n",
       "    </tr>\n",
       "    <tr>\n",
       "      <th>...</th>\n",
       "      <td>...</td>\n",
       "      <td>...</td>\n",
       "      <td>...</td>\n",
       "      <td>...</td>\n",
       "      <td>...</td>\n",
       "      <td>...</td>\n",
       "      <td>...</td>\n",
       "      <td>...</td>\n",
       "      <td>...</td>\n",
       "      <td>...</td>\n",
       "    </tr>\n",
       "    <tr>\n",
       "      <th>3270</th>\n",
       "      <td>6.069616</td>\n",
       "      <td>186.659040</td>\n",
       "      <td>26138.780191</td>\n",
       "      <td>7.747547</td>\n",
       "      <td>345.700257</td>\n",
       "      <td>415.886955</td>\n",
       "      <td>12.067620</td>\n",
       "      <td>60.419921</td>\n",
       "      <td>3.669712</td>\n",
       "      <td>1</td>\n",
       "    </tr>\n",
       "    <tr>\n",
       "      <th>3271</th>\n",
       "      <td>4.668102</td>\n",
       "      <td>193.681735</td>\n",
       "      <td>47580.991603</td>\n",
       "      <td>7.166639</td>\n",
       "      <td>359.948574</td>\n",
       "      <td>526.424171</td>\n",
       "      <td>13.894419</td>\n",
       "      <td>66.687695</td>\n",
       "      <td>4.435821</td>\n",
       "      <td>1</td>\n",
       "    </tr>\n",
       "    <tr>\n",
       "      <th>3273</th>\n",
       "      <td>9.419510</td>\n",
       "      <td>175.762646</td>\n",
       "      <td>33155.578218</td>\n",
       "      <td>7.350233</td>\n",
       "      <td>333.699670</td>\n",
       "      <td>432.044783</td>\n",
       "      <td>11.039070</td>\n",
       "      <td>69.845400</td>\n",
       "      <td>3.298875</td>\n",
       "      <td>1</td>\n",
       "    </tr>\n",
       "    <tr>\n",
       "      <th>3274</th>\n",
       "      <td>5.126763</td>\n",
       "      <td>230.603758</td>\n",
       "      <td>11983.869376</td>\n",
       "      <td>6.303357</td>\n",
       "      <td>333.699670</td>\n",
       "      <td>402.883113</td>\n",
       "      <td>11.168946</td>\n",
       "      <td>77.488213</td>\n",
       "      <td>4.708658</td>\n",
       "      <td>1</td>\n",
       "    </tr>\n",
       "    <tr>\n",
       "      <th>3275</th>\n",
       "      <td>7.874671</td>\n",
       "      <td>195.102299</td>\n",
       "      <td>17404.177061</td>\n",
       "      <td>7.509306</td>\n",
       "      <td>333.699670</td>\n",
       "      <td>327.459760</td>\n",
       "      <td>16.140368</td>\n",
       "      <td>78.698446</td>\n",
       "      <td>2.309149</td>\n",
       "      <td>1</td>\n",
       "    </tr>\n",
       "  </tbody>\n",
       "</table>\n",
       "<p>3116 rows × 10 columns</p>\n",
       "</div>"
      ],
      "text/plain": [
       "            ph    Hardness        Solids  Chloramines     Sulfate  \\\n",
       "0     7.078708  204.890455  20791.318981     7.300212  368.516441   \n",
       "1     3.716080  129.422921  18630.057858     6.635246  333.699670   \n",
       "2     8.099124  224.236259  19909.541732     9.275884  333.699670   \n",
       "3     8.316766  214.373394  22018.417441     8.059332  356.886136   \n",
       "4     9.092223  181.101509  17978.986339     6.546600  310.135738   \n",
       "...        ...         ...           ...          ...         ...   \n",
       "3270  6.069616  186.659040  26138.780191     7.747547  345.700257   \n",
       "3271  4.668102  193.681735  47580.991603     7.166639  359.948574   \n",
       "3273  9.419510  175.762646  33155.578218     7.350233  333.699670   \n",
       "3274  5.126763  230.603758  11983.869376     6.303357  333.699670   \n",
       "3275  7.874671  195.102299  17404.177061     7.509306  333.699670   \n",
       "\n",
       "      Conductivity  Organic_carbon  Trihalomethanes  Turbidity  Potability  \n",
       "0       564.308654       10.379783        86.990970   2.963135           0  \n",
       "1       592.885359       15.180013        56.329076   4.500656           0  \n",
       "2       418.606213       16.868637        66.420093   3.055934           0  \n",
       "3       363.266516       18.436524       100.341674   4.628771           0  \n",
       "4       398.410813       11.558279        31.997993   4.075075           0  \n",
       "...            ...             ...              ...        ...         ...  \n",
       "3270    415.886955       12.067620        60.419921   3.669712           1  \n",
       "3271    526.424171       13.894419        66.687695   4.435821           1  \n",
       "3273    432.044783       11.039070        69.845400   3.298875           1  \n",
       "3274    402.883113       11.168946        77.488213   4.708658           1  \n",
       "3275    327.459760       16.140368        78.698446   2.309149           1  \n",
       "\n",
       "[3116 rows x 10 columns]"
      ]
     },
     "execution_count": 11,
     "metadata": {},
     "output_type": "execute_result"
    }
   ],
   "source": [
    "df.fillna(df.mean(), inplace=True)\n",
    "df"
   ]
  },
  {
   "cell_type": "markdown",
   "id": "9eb0e288",
   "metadata": {
    "papermill": {
     "duration": 0.057616,
     "end_time": "2022-03-27T06:37:03.538710",
     "exception": false,
     "start_time": "2022-03-27T06:37:03.481094",
     "status": "completed"
    },
    "tags": []
   },
   "source": [
    "## Round values to make data representation smaller"
   ]
  },
  {
   "cell_type": "code",
   "execution_count": 12,
   "id": "5874a293",
   "metadata": {
    "execution": {
     "iopub.execute_input": "2022-03-27T06:37:03.657787Z",
     "iopub.status.busy": "2022-03-27T06:37:03.657142Z",
     "iopub.status.idle": "2022-03-27T06:37:03.682299Z",
     "shell.execute_reply": "2022-03-27T06:37:03.681778Z",
     "shell.execute_reply.started": "2022-03-27T06:29:10.437624Z"
    },
    "papermill": {
     "duration": 0.08628,
     "end_time": "2022-03-27T06:37:03.682449",
     "exception": false,
     "start_time": "2022-03-27T06:37:03.596169",
     "status": "completed"
    },
    "tags": []
   },
   "outputs": [
    {
     "data": {
      "text/html": [
       "<div>\n",
       "<style scoped>\n",
       "    .dataframe tbody tr th:only-of-type {\n",
       "        vertical-align: middle;\n",
       "    }\n",
       "\n",
       "    .dataframe tbody tr th {\n",
       "        vertical-align: top;\n",
       "    }\n",
       "\n",
       "    .dataframe thead th {\n",
       "        text-align: right;\n",
       "    }\n",
       "</style>\n",
       "<table border=\"1\" class=\"dataframe\">\n",
       "  <thead>\n",
       "    <tr style=\"text-align: right;\">\n",
       "      <th></th>\n",
       "      <th>ph</th>\n",
       "      <th>Hardness</th>\n",
       "      <th>Solids</th>\n",
       "      <th>Chloramines</th>\n",
       "      <th>Sulfate</th>\n",
       "      <th>Conductivity</th>\n",
       "      <th>Organic_carbon</th>\n",
       "      <th>Trihalomethanes</th>\n",
       "      <th>Turbidity</th>\n",
       "      <th>Potability</th>\n",
       "    </tr>\n",
       "  </thead>\n",
       "  <tbody>\n",
       "    <tr>\n",
       "      <th>0</th>\n",
       "      <td>7.079</td>\n",
       "      <td>204.890</td>\n",
       "      <td>20791.319</td>\n",
       "      <td>7.300</td>\n",
       "      <td>368.516</td>\n",
       "      <td>564.309</td>\n",
       "      <td>10.380</td>\n",
       "      <td>86.991</td>\n",
       "      <td>2.963</td>\n",
       "      <td>0</td>\n",
       "    </tr>\n",
       "    <tr>\n",
       "      <th>1</th>\n",
       "      <td>3.716</td>\n",
       "      <td>129.423</td>\n",
       "      <td>18630.058</td>\n",
       "      <td>6.635</td>\n",
       "      <td>333.700</td>\n",
       "      <td>592.885</td>\n",
       "      <td>15.180</td>\n",
       "      <td>56.329</td>\n",
       "      <td>4.501</td>\n",
       "      <td>0</td>\n",
       "    </tr>\n",
       "    <tr>\n",
       "      <th>2</th>\n",
       "      <td>8.099</td>\n",
       "      <td>224.236</td>\n",
       "      <td>19909.542</td>\n",
       "      <td>9.276</td>\n",
       "      <td>333.700</td>\n",
       "      <td>418.606</td>\n",
       "      <td>16.869</td>\n",
       "      <td>66.420</td>\n",
       "      <td>3.056</td>\n",
       "      <td>0</td>\n",
       "    </tr>\n",
       "    <tr>\n",
       "      <th>3</th>\n",
       "      <td>8.317</td>\n",
       "      <td>214.373</td>\n",
       "      <td>22018.417</td>\n",
       "      <td>8.059</td>\n",
       "      <td>356.886</td>\n",
       "      <td>363.267</td>\n",
       "      <td>18.437</td>\n",
       "      <td>100.342</td>\n",
       "      <td>4.629</td>\n",
       "      <td>0</td>\n",
       "    </tr>\n",
       "    <tr>\n",
       "      <th>4</th>\n",
       "      <td>9.092</td>\n",
       "      <td>181.102</td>\n",
       "      <td>17978.986</td>\n",
       "      <td>6.547</td>\n",
       "      <td>310.136</td>\n",
       "      <td>398.411</td>\n",
       "      <td>11.558</td>\n",
       "      <td>31.998</td>\n",
       "      <td>4.075</td>\n",
       "      <td>0</td>\n",
       "    </tr>\n",
       "    <tr>\n",
       "      <th>...</th>\n",
       "      <td>...</td>\n",
       "      <td>...</td>\n",
       "      <td>...</td>\n",
       "      <td>...</td>\n",
       "      <td>...</td>\n",
       "      <td>...</td>\n",
       "      <td>...</td>\n",
       "      <td>...</td>\n",
       "      <td>...</td>\n",
       "      <td>...</td>\n",
       "    </tr>\n",
       "    <tr>\n",
       "      <th>3270</th>\n",
       "      <td>6.070</td>\n",
       "      <td>186.659</td>\n",
       "      <td>26138.780</td>\n",
       "      <td>7.748</td>\n",
       "      <td>345.700</td>\n",
       "      <td>415.887</td>\n",
       "      <td>12.068</td>\n",
       "      <td>60.420</td>\n",
       "      <td>3.670</td>\n",
       "      <td>1</td>\n",
       "    </tr>\n",
       "    <tr>\n",
       "      <th>3271</th>\n",
       "      <td>4.668</td>\n",
       "      <td>193.682</td>\n",
       "      <td>47580.992</td>\n",
       "      <td>7.167</td>\n",
       "      <td>359.949</td>\n",
       "      <td>526.424</td>\n",
       "      <td>13.894</td>\n",
       "      <td>66.688</td>\n",
       "      <td>4.436</td>\n",
       "      <td>1</td>\n",
       "    </tr>\n",
       "    <tr>\n",
       "      <th>3273</th>\n",
       "      <td>9.420</td>\n",
       "      <td>175.763</td>\n",
       "      <td>33155.578</td>\n",
       "      <td>7.350</td>\n",
       "      <td>333.700</td>\n",
       "      <td>432.045</td>\n",
       "      <td>11.039</td>\n",
       "      <td>69.845</td>\n",
       "      <td>3.299</td>\n",
       "      <td>1</td>\n",
       "    </tr>\n",
       "    <tr>\n",
       "      <th>3274</th>\n",
       "      <td>5.127</td>\n",
       "      <td>230.604</td>\n",
       "      <td>11983.869</td>\n",
       "      <td>6.303</td>\n",
       "      <td>333.700</td>\n",
       "      <td>402.883</td>\n",
       "      <td>11.169</td>\n",
       "      <td>77.488</td>\n",
       "      <td>4.709</td>\n",
       "      <td>1</td>\n",
       "    </tr>\n",
       "    <tr>\n",
       "      <th>3275</th>\n",
       "      <td>7.875</td>\n",
       "      <td>195.102</td>\n",
       "      <td>17404.177</td>\n",
       "      <td>7.509</td>\n",
       "      <td>333.700</td>\n",
       "      <td>327.460</td>\n",
       "      <td>16.140</td>\n",
       "      <td>78.698</td>\n",
       "      <td>2.309</td>\n",
       "      <td>1</td>\n",
       "    </tr>\n",
       "  </tbody>\n",
       "</table>\n",
       "<p>3116 rows × 10 columns</p>\n",
       "</div>"
      ],
      "text/plain": [
       "         ph  Hardness     Solids  Chloramines  Sulfate  Conductivity  \\\n",
       "0     7.079   204.890  20791.319        7.300  368.516       564.309   \n",
       "1     3.716   129.423  18630.058        6.635  333.700       592.885   \n",
       "2     8.099   224.236  19909.542        9.276  333.700       418.606   \n",
       "3     8.317   214.373  22018.417        8.059  356.886       363.267   \n",
       "4     9.092   181.102  17978.986        6.547  310.136       398.411   \n",
       "...     ...       ...        ...          ...      ...           ...   \n",
       "3270  6.070   186.659  26138.780        7.748  345.700       415.887   \n",
       "3271  4.668   193.682  47580.992        7.167  359.949       526.424   \n",
       "3273  9.420   175.763  33155.578        7.350  333.700       432.045   \n",
       "3274  5.127   230.604  11983.869        6.303  333.700       402.883   \n",
       "3275  7.875   195.102  17404.177        7.509  333.700       327.460   \n",
       "\n",
       "      Organic_carbon  Trihalomethanes  Turbidity  Potability  \n",
       "0             10.380           86.991      2.963           0  \n",
       "1             15.180           56.329      4.501           0  \n",
       "2             16.869           66.420      3.056           0  \n",
       "3             18.437          100.342      4.629           0  \n",
       "4             11.558           31.998      4.075           0  \n",
       "...              ...              ...        ...         ...  \n",
       "3270          12.068           60.420      3.670           1  \n",
       "3271          13.894           66.688      4.436           1  \n",
       "3273          11.039           69.845      3.299           1  \n",
       "3274          11.169           77.488      4.709           1  \n",
       "3275          16.140           78.698      2.309           1  \n",
       "\n",
       "[3116 rows x 10 columns]"
      ]
     },
     "execution_count": 12,
     "metadata": {},
     "output_type": "execute_result"
    }
   ],
   "source": [
    "df = round(df, 3)\n",
    "df"
   ]
  },
  {
   "cell_type": "markdown",
   "id": "51ce8c2d",
   "metadata": {
    "papermill": {
     "duration": 0.057735,
     "end_time": "2022-03-27T06:37:03.799203",
     "exception": false,
     "start_time": "2022-03-27T06:37:03.741468",
     "status": "completed"
    },
    "tags": []
   },
   "source": [
    "## Explore 'Potability' target column"
   ]
  },
  {
   "cell_type": "markdown",
   "id": "2310ac11",
   "metadata": {
    "papermill": {
     "duration": 0.058775,
     "end_time": "2022-03-27T06:37:03.916067",
     "exception": false,
     "start_time": "2022-03-27T06:37:03.857292",
     "status": "completed"
    },
    "tags": []
   },
   "source": [
    "Indicates if water is safe for human consumption where 1 means Potable and 0 means Not potable."
   ]
  },
  {
   "cell_type": "code",
   "execution_count": 13,
   "id": "2ee8f5ea",
   "metadata": {
    "execution": {
     "iopub.execute_input": "2022-03-27T06:37:04.035922Z",
     "iopub.status.busy": "2022-03-27T06:37:04.034953Z",
     "iopub.status.idle": "2022-03-27T06:37:04.041485Z",
     "shell.execute_reply": "2022-03-27T06:37:04.042077Z",
     "shell.execute_reply.started": "2022-03-27T06:29:10.464034Z"
    },
    "papermill": {
     "duration": 0.068263,
     "end_time": "2022-03-27T06:37:04.042256",
     "exception": false,
     "start_time": "2022-03-27T06:37:03.973993",
     "status": "completed"
    },
    "tags": []
   },
   "outputs": [
    {
     "data": {
      "text/plain": [
       "array([0, 1])"
      ]
     },
     "execution_count": 13,
     "metadata": {},
     "output_type": "execute_result"
    }
   ],
   "source": [
    "potabilities = df.Potability.sort_values().unique()\n",
    "potabilities"
   ]
  },
  {
   "cell_type": "markdown",
   "id": "404bd9a5",
   "metadata": {
    "papermill": {
     "duration": 0.057879,
     "end_time": "2022-03-27T06:37:04.158898",
     "exception": false,
     "start_time": "2022-03-27T06:37:04.101019",
     "status": "completed"
    },
    "tags": []
   },
   "source": [
    "The data is imbalanced:"
   ]
  },
  {
   "cell_type": "code",
   "execution_count": 14,
   "id": "b5533cff",
   "metadata": {
    "execution": {
     "iopub.execute_input": "2022-03-27T06:37:04.279444Z",
     "iopub.status.busy": "2022-03-27T06:37:04.278429Z",
     "iopub.status.idle": "2022-03-27T06:37:04.487452Z",
     "shell.execute_reply": "2022-03-27T06:37:04.487966Z",
     "shell.execute_reply.started": "2022-03-27T06:29:10.474219Z"
    },
    "papermill": {
     "duration": 0.271135,
     "end_time": "2022-03-27T06:37:04.488164",
     "exception": false,
     "start_time": "2022-03-27T06:37:04.217029",
     "status": "completed"
    },
    "tags": []
   },
   "outputs": [
    {
     "data": {
      "text/plain": [
       "Text(0.5, 1.0, 'Water distribution by potability')"
      ]
     },
     "execution_count": 14,
     "metadata": {},
     "output_type": "execute_result"
    },
    {
     "data": {
      "image/png": "[encoded data removed]",
      "text/plain": [
       "<Figure size 576x288 with 1 Axes>"
      ]
     },
     "metadata": {},
     "output_type": "display_data"
    }
   ],
   "source": [
    "sns.set(rc={'figure.figsize':(8,4)})\n",
    "sns.countplot(x=\"Potability\", data=df).set_title(\"Water distribution by potability\")"
   ]
  },
  {
   "cell_type": "code",
   "execution_count": 15,
   "id": "45d2eb5e",
   "metadata": {
    "execution": {
     "iopub.execute_input": "2022-03-27T06:37:04.611417Z",
     "iopub.status.busy": "2022-03-27T06:37:04.610767Z",
     "iopub.status.idle": "2022-03-27T06:37:04.618790Z",
     "shell.execute_reply": "2022-03-27T06:37:04.618162Z",
     "shell.execute_reply.started": "2022-03-27T06:29:10.683574Z"
    },
    "papermill": {
     "duration": 0.070464,
     "end_time": "2022-03-27T06:37:04.618930",
     "exception": false,
     "start_time": "2022-03-27T06:37:04.548466",
     "status": "completed"
    },
    "tags": []
   },
   "outputs": [
    {
     "data": {
      "text/plain": [
       "0    60.815148\n",
       "1    39.184852\n",
       "Name: Potability, dtype: float64"
      ]
     },
     "execution_count": 15,
     "metadata": {},
     "output_type": "execute_result"
    }
   ],
   "source": [
    "(df.Potability.value_counts(normalize=True) * 100)"
   ]
  },
  {
   "cell_type": "markdown",
   "id": "c5721fa8",
   "metadata": {
    "papermill": {
     "duration": 0.059822,
     "end_time": "2022-03-27T06:37:04.739937",
     "exception": false,
     "start_time": "2022-03-27T06:37:04.680115",
     "status": "completed"
    },
    "tags": []
   },
   "source": [
    "## Explore data columns"
   ]
  },
  {
   "cell_type": "markdown",
   "id": "566af74d",
   "metadata": {
    "papermill": {
     "duration": 0.064962,
     "end_time": "2022-03-27T06:37:04.865367",
     "exception": false,
     "start_time": "2022-03-27T06:37:04.800405",
     "status": "completed"
    },
    "tags": []
   },
   "source": [
    "### PH"
   ]
  },
  {
   "cell_type": "markdown",
   "id": "363152d1",
   "metadata": {
    "papermill": {
     "duration": 0.061165,
     "end_time": "2022-03-27T06:37:04.990041",
     "exception": false,
     "start_time": "2022-03-27T06:37:04.928876",
     "status": "completed"
    },
    "tags": []
   },
   "source": [
    "PH is an important parameter in evaluating the acid–base balance of water. It is also the indicator of acidic or alkaline condition of water status. WHO has recommended maximum permissible limit of pH from 6.5 to 8.5. The current investigation ranges were 6.52–6.83 which are in the range of WHO standards"
   ]
  },
  {
   "cell_type": "code",
   "execution_count": 16,
   "id": "e45df670",
   "metadata": {
    "execution": {
     "iopub.execute_input": "2022-03-27T06:37:05.129863Z",
     "iopub.status.busy": "2022-03-27T06:37:05.129181Z",
     "iopub.status.idle": "2022-03-27T06:37:05.376379Z",
     "shell.execute_reply": "2022-03-27T06:37:05.375646Z",
     "shell.execute_reply.started": "2022-03-27T06:29:10.696633Z"
    },
    "papermill": {
     "duration": 0.317956,
     "end_time": "2022-03-27T06:37:05.376530",
     "exception": false,
     "start_time": "2022-03-27T06:37:05.058574",
     "status": "completed"
    },
    "tags": []
   },
   "outputs": [
    {
     "data": {
      "text/plain": [
       "<AxesSubplot:xlabel='ph'>"
      ]
     },
     "execution_count": 16,
     "metadata": {},
     "output_type": "execute_result"
    },
    {
     "data": {
      "image/png": "[encoded data removed]",
      "text/plain": [
       "<Figure size 720x360 with 1 Axes>"
      ]
     },
     "metadata": {},
     "output_type": "display_data"
    }
   ],
   "source": [
    "sns.set(rc={'figure.figsize':(10,5)})\n",
    "sns.boxplot(x = df.ph, color = 'teal')"
   ]
  },
  {
   "cell_type": "code",
   "execution_count": 17,
   "id": "1d5f71b5",
   "metadata": {
    "execution": {
     "iopub.execute_input": "2022-03-27T06:37:05.544377Z",
     "iopub.status.busy": "2022-03-27T06:37:05.538704Z",
     "iopub.status.idle": "2022-03-27T06:37:06.094090Z",
     "shell.execute_reply": "2022-03-27T06:37:06.093473Z",
     "shell.execute_reply.started": "2022-03-27T06:29:10.930631Z"
    },
    "papermill": {
     "duration": 0.64361,
     "end_time": "2022-03-27T06:37:06.094234",
     "exception": false,
     "start_time": "2022-03-27T06:37:05.450624",
     "status": "completed"
    },
    "tags": []
   },
   "outputs": [
    {
     "data": {
      "text/plain": [
       "<matplotlib.legend.Legend at 0x7f809096e310>"
      ]
     },
     "execution_count": 17,
     "metadata": {},
     "output_type": "execute_result"
    },
    {
     "data": {
      "image/png": "[encoded data removed]",
      "text/plain": [
       "<Figure size 720x360 with 1 Axes>"
      ]
     },
     "metadata": {},
     "output_type": "display_data"
    }
   ],
   "source": [
    "sns.distplot(df[df[\"Potability\"] == 0]['ph'],  kde=False, label=\"Potable\")\n",
    "sns.distplot(df[df[\"Potability\"] == 1]['ph'],  kde=False, label=\"Not potable\")\n",
    "plt.legend()"
   ]
  },
  {
   "cell_type": "markdown",
   "id": "2d39606c",
   "metadata": {
    "papermill": {
     "duration": 0.062201,
     "end_time": "2022-03-27T06:37:06.219797",
     "exception": false,
     "start_time": "2022-03-27T06:37:06.157596",
     "status": "completed"
    },
    "tags": []
   },
   "source": [
    "### Hardness"
   ]
  },
  {
   "cell_type": "markdown",
   "id": "61878eed",
   "metadata": {
    "papermill": {
     "duration": 0.063233,
     "end_time": "2022-03-27T06:37:06.345809",
     "exception": false,
     "start_time": "2022-03-27T06:37:06.282576",
     "status": "completed"
    },
    "tags": []
   },
   "source": [
    "Hardness is mainly caused by calcium and magnesium salts. These salts are dissolved from geologic deposits through which water travels. The length of time water is in contact with hardness producing material helps determine how much hardness there is in raw water. Hardness was originally defined as the capacity of water to precipitate soap caused by Calcium and Magnesium."
   ]
  },
  {
   "cell_type": "code",
   "execution_count": 18,
   "id": "22b52268",
   "metadata": {
    "execution": {
     "iopub.execute_input": "2022-03-27T06:37:06.489962Z",
     "iopub.status.busy": "2022-03-27T06:37:06.477594Z",
     "iopub.status.idle": "2022-03-27T06:37:06.707020Z",
     "shell.execute_reply": "2022-03-27T06:37:06.707483Z",
     "shell.execute_reply.started": "2022-03-27T06:29:11.416908Z"
    },
    "papermill": {
     "duration": 0.298503,
     "end_time": "2022-03-27T06:37:06.707676",
     "exception": false,
     "start_time": "2022-03-27T06:37:06.409173",
     "status": "completed"
    },
    "tags": []
   },
   "outputs": [
    {
     "data": {
      "text/plain": [
       "<AxesSubplot:xlabel='Hardness'>"
      ]
     },
     "execution_count": 18,
     "metadata": {},
     "output_type": "execute_result"
    },
    {
     "data": {
      "image/png": "[encoded data removed]",
      "text/plain": [
       "<Figure size 720x360 with 1 Axes>"
      ]
     },
     "metadata": {},
     "output_type": "display_data"
    }
   ],
   "source": [
    "sns.boxplot(x = df.Hardness, color = 'teal')"
   ]
  },
  {
   "cell_type": "code",
   "execution_count": 19,
   "id": "6fad47cc",
   "metadata": {
    "execution": {
     "iopub.execute_input": "2022-03-27T06:37:06.862911Z",
     "iopub.status.busy": "2022-03-27T06:37:06.859402Z",
     "iopub.status.idle": "2022-03-27T06:37:07.323209Z",
     "shell.execute_reply": "2022-03-27T06:37:07.322599Z",
     "shell.execute_reply.started": "2022-03-27T06:29:11.634512Z"
    },
    "papermill": {
     "duration": 0.55173,
     "end_time": "2022-03-27T06:37:07.323353",
     "exception": false,
     "start_time": "2022-03-27T06:37:06.771623",
     "status": "completed"
    },
    "tags": []
   },
   "outputs": [
    {
     "data": {
      "text/plain": [
       "<matplotlib.legend.Legend at 0x7f8090766790>"
      ]
     },
     "execution_count": 19,
     "metadata": {},
     "output_type": "execute_result"
    },
    {
     "data": {
      "image/png": "[encoded data removed]",
      "text/plain": [
       "<Figure size 720x360 with 1 Axes>"
      ]
     },
     "metadata": {},
     "output_type": "display_data"
    }
   ],
   "source": [
    "sns.distplot(df[df[\"Potability\"] == 0]['Hardness'],  kde=False, label=\"Potable\")\n",
    "sns.distplot(df[df[\"Potability\"] == 1]['Hardness'],  kde=False, label=\"Not potable\")\n",
    "plt.legend()"
   ]
  },
  {
   "cell_type": "markdown",
   "id": "0fa77419",
   "metadata": {
    "papermill": {
     "duration": 0.065229,
     "end_time": "2022-03-27T06:37:07.454445",
     "exception": false,
     "start_time": "2022-03-27T06:37:07.389216",
     "status": "completed"
    },
    "tags": []
   },
   "source": [
    "### Solids"
   ]
  },
  {
   "cell_type": "markdown",
   "id": "69d7168f",
   "metadata": {
    "papermill": {
     "duration": 0.07118,
     "end_time": "2022-03-27T06:37:07.591011",
     "exception": false,
     "start_time": "2022-03-27T06:37:07.519831",
     "status": "completed"
    },
    "tags": []
   },
   "source": [
    "Water has the ability to dissolve a wide range of inorganic and some organic minerals or salts such as potassium, calcium, sodium, bicarbonates, chlorides, magnesium, sulfates etc. These minerals produced un-wanted taste and diluted color in appearance of water. This is the important parameter for the use of water. The water with high TDS value indicates that water is highly mineralized. Desirable limit for TDS is 500 mg/l and maximum limit is 1000 mg/l which prescribed for drinking purpose."
   ]
  },
  {
   "cell_type": "code",
   "execution_count": 20,
   "id": "aee5827f",
   "metadata": {
    "execution": {
     "iopub.execute_input": "2022-03-27T06:37:07.728057Z",
     "iopub.status.busy": "2022-03-27T06:37:07.725837Z",
     "iopub.status.idle": "2022-03-27T06:37:07.956312Z",
     "shell.execute_reply": "2022-03-27T06:37:07.956824Z",
     "shell.execute_reply.started": "2022-03-27T06:29:12.065383Z"
    },
    "papermill": {
     "duration": 0.299531,
     "end_time": "2022-03-27T06:37:07.957015",
     "exception": false,
     "start_time": "2022-03-27T06:37:07.657484",
     "status": "completed"
    },
    "tags": []
   },
   "outputs": [
    {
     "data": {
      "text/plain": [
       "<AxesSubplot:xlabel='Solids'>"
      ]
     },
     "execution_count": 20,
     "metadata": {},
     "output_type": "execute_result"
    },
    {
     "data": {
      "image/png": "[encoded data removed]",
      "text/plain": [
       "<Figure size 720x360 with 1 Axes>"
      ]
     },
     "metadata": {},
     "output_type": "display_data"
    }
   ],
   "source": [
    "sns.boxplot(x = df.Solids, color = 'teal')"
   ]
  },
  {
   "cell_type": "code",
   "execution_count": 21,
   "id": "a4928254",
   "metadata": {
    "execution": {
     "iopub.execute_input": "2022-03-27T06:37:08.099384Z",
     "iopub.status.busy": "2022-03-27T06:37:08.097719Z",
     "iopub.status.idle": "2022-03-27T06:37:08.558386Z",
     "shell.execute_reply": "2022-03-27T06:37:08.557733Z",
     "shell.execute_reply.started": "2022-03-27T06:29:12.289189Z"
    },
    "papermill": {
     "duration": 0.534992,
     "end_time": "2022-03-27T06:37:08.558577",
     "exception": false,
     "start_time": "2022-03-27T06:37:08.023585",
     "status": "completed"
    },
    "tags": []
   },
   "outputs": [
    {
     "data": {
      "text/plain": [
       "<matplotlib.legend.Legend at 0x7f80906d9e50>"
      ]
     },
     "execution_count": 21,
     "metadata": {},
     "output_type": "execute_result"
    },
    {
     "data": {
      "image/png": "[encoded data removed]",
      "text/plain": [
       "<Figure size 720x360 with 1 Axes>"
      ]
     },
     "metadata": {},
     "output_type": "display_data"
    }
   ],
   "source": [
    "sns.distplot(df[df[\"Potability\"] == 0]['Solids'],  kde=False, label=\"Potable\")\n",
    "sns.distplot(df[df[\"Potability\"] == 1]['Solids'],  kde=False, label=\"Not potable\")\n",
    "plt.legend()"
   ]
  },
  {
   "cell_type": "markdown",
   "id": "6e787b97",
   "metadata": {
    "papermill": {
     "duration": 0.068656,
     "end_time": "2022-03-27T06:37:08.695494",
     "exception": false,
     "start_time": "2022-03-27T06:37:08.626838",
     "status": "completed"
    },
    "tags": []
   },
   "source": [
    "### Sulfate"
   ]
  },
  {
   "cell_type": "markdown",
   "id": "59557b7a",
   "metadata": {
    "papermill": {
     "duration": 0.068354,
     "end_time": "2022-03-27T06:37:08.832400",
     "exception": false,
     "start_time": "2022-03-27T06:37:08.764046",
     "status": "completed"
    },
    "tags": []
   },
   "source": [
    "Sulfates are naturally occurring substances that are found in minerals, soil, and rocks. They are present in ambient air, groundwater, plants, and food. The principal commercial use of sulfate is in the chemical industry. Sulfate concentration in seawater is about 2,700 milligrams per liter (mg/L). It ranges from 3 to 30 mg/L in most freshwater supplies, although much higher concentrations (1000 mg/L) are found in some geographic locations."
   ]
  },
  {
   "cell_type": "code",
   "execution_count": 22,
   "id": "8e086162",
   "metadata": {
    "execution": {
     "iopub.execute_input": "2022-03-27T06:37:09.115250Z",
     "iopub.status.busy": "2022-03-27T06:37:09.114183Z",
     "iopub.status.idle": "2022-03-27T06:37:09.341405Z",
     "shell.execute_reply": "2022-03-27T06:37:09.340832Z",
     "shell.execute_reply.started": "2022-03-27T06:29:12.752213Z"
    },
    "papermill": {
     "duration": 0.441121,
     "end_time": "2022-03-27T06:37:09.341559",
     "exception": false,
     "start_time": "2022-03-27T06:37:08.900438",
     "status": "completed"
    },
    "tags": []
   },
   "outputs": [
    {
     "data": {
      "text/plain": [
       "<AxesSubplot:xlabel='Sulfate'>"
      ]
     },
     "execution_count": 22,
     "metadata": {},
     "output_type": "execute_result"
    },
    {
     "data": {
      "image/png": "[encoded data removed]",
      "text/plain": [
       "<Figure size 720x360 with 1 Axes>"
      ]
     },
     "metadata": {},
     "output_type": "display_data"
    }
   ],
   "source": [
    "sns.boxplot(x = df.Sulfate, color = 'teal')"
   ]
  },
  {
   "cell_type": "code",
   "execution_count": 23,
   "id": "5cc743bb",
   "metadata": {
    "execution": {
     "iopub.execute_input": "2022-03-27T06:37:09.503448Z",
     "iopub.status.busy": "2022-03-27T06:37:09.495603Z",
     "iopub.status.idle": "2022-03-27T06:37:10.032094Z",
     "shell.execute_reply": "2022-03-27T06:37:10.032613Z",
     "shell.execute_reply.started": "2022-03-27T06:29:13.281597Z"
    },
    "papermill": {
     "duration": 0.621209,
     "end_time": "2022-03-27T06:37:10.032802",
     "exception": false,
     "start_time": "2022-03-27T06:37:09.411593",
     "status": "completed"
    },
    "tags": []
   },
   "outputs": [
    {
     "data": {
      "text/plain": [
       "<matplotlib.legend.Legend at 0x7f8090482190>"
      ]
     },
     "execution_count": 23,
     "metadata": {},
     "output_type": "execute_result"
    },
    {
     "data": {
      "image/png": "[encoded data removed]",
      "text/plain": [
       "<Figure size 720x360 with 1 Axes>"
      ]
     },
     "metadata": {},
     "output_type": "display_data"
    }
   ],
   "source": [
    "sns.distplot(df[df[\"Potability\"] == 0]['Sulfate'],  kde=False, label=\"Potable\")\n",
    "sns.distplot(df[df[\"Potability\"] == 1]['Sulfate'],  kde=False, label=\"Not potable\")\n",
    "plt.legend()"
   ]
  },
  {
   "cell_type": "markdown",
   "id": "7438f1b4",
   "metadata": {
    "papermill": {
     "duration": 0.07024,
     "end_time": "2022-03-27T06:37:10.173846",
     "exception": false,
     "start_time": "2022-03-27T06:37:10.103606",
     "status": "completed"
    },
    "tags": []
   },
   "source": [
    "### Conductivity"
   ]
  },
  {
   "cell_type": "markdown",
   "id": "cbf58cd7",
   "metadata": {
    "papermill": {
     "duration": 0.069908,
     "end_time": "2022-03-27T06:37:10.314667",
     "exception": false,
     "start_time": "2022-03-27T06:37:10.244759",
     "status": "completed"
    },
    "tags": []
   },
   "source": [
    "Pure water is not a good conductor of electric current rather’s a good insulator. Increase in ions concentration enhances the electrical conductivity of water. Generally, the amount of dissolved solids in water determines the electrical conductivity. Electrical conductivity (EC) actually measures the ionic process of a solution that enables it to transmit current. According to WHO standards, EC value should not exceeded 400 μS/cm."
   ]
  },
  {
   "cell_type": "code",
   "execution_count": 24,
   "id": "af427aa0",
   "metadata": {
    "execution": {
     "iopub.execute_input": "2022-03-27T06:37:10.460456Z",
     "iopub.status.busy": "2022-03-27T06:37:10.459430Z",
     "iopub.status.idle": "2022-03-27T06:37:10.703114Z",
     "shell.execute_reply": "2022-03-27T06:37:10.703616Z",
     "shell.execute_reply.started": "2022-03-27T06:29:13.823945Z"
    },
    "papermill": {
     "duration": 0.318212,
     "end_time": "2022-03-27T06:37:10.703807",
     "exception": false,
     "start_time": "2022-03-27T06:37:10.385595",
     "status": "completed"
    },
    "tags": []
   },
   "outputs": [
    {
     "data": {
      "text/plain": [
       "<AxesSubplot:xlabel='Conductivity'>"
      ]
     },
     "execution_count": 24,
     "metadata": {},
     "output_type": "execute_result"
    },
    {
     "data": {
      "image/png": "[encoded data removed]",
      "text/plain": [
       "<Figure size 720x360 with 1 Axes>"
      ]
     },
     "metadata": {},
     "output_type": "display_data"
    }
   ],
   "source": [
    "sns.boxplot(x = df.Conductivity, color = 'teal')"
   ]
  },
  {
   "cell_type": "code",
   "execution_count": 25,
   "id": "8cd8d162",
   "metadata": {
    "execution": {
     "iopub.execute_input": "2022-03-27T06:37:10.852634Z",
     "iopub.status.busy": "2022-03-27T06:37:10.851579Z",
     "iopub.status.idle": "2022-03-27T06:37:11.296613Z",
     "shell.execute_reply": "2022-03-27T06:37:11.296047Z",
     "shell.execute_reply.started": "2022-03-27T06:29:14.064657Z"
    },
    "papermill": {
     "duration": 0.519591,
     "end_time": "2022-03-27T06:37:11.296808",
     "exception": false,
     "start_time": "2022-03-27T06:37:10.777217",
     "status": "completed"
    },
    "tags": []
   },
   "outputs": [
    {
     "data": {
      "text/plain": [
       "<matplotlib.legend.Legend at 0x7f809023fd90>"
      ]
     },
     "execution_count": 25,
     "metadata": {},
     "output_type": "execute_result"
    },
    {
     "data": {
      "image/png": "[encoded data removed]",
      "text/plain": [
       "<Figure size 720x360 with 1 Axes>"
      ]
     },
     "metadata": {},
     "output_type": "display_data"
    }
   ],
   "source": [
    "sns.distplot(df[df[\"Potability\"] == 0]['Conductivity'],  kde=False, label=\"Potable\")\n",
    "sns.distplot(df[df[\"Potability\"] == 1]['Conductivity'],  kde=False, label=\"Not potable\")\n",
    "plt.legend()"
   ]
  },
  {
   "cell_type": "markdown",
   "id": "ad71782b",
   "metadata": {
    "execution": {
     "iopub.execute_input": "2022-03-27T06:22:37.940685Z",
     "iopub.status.busy": "2022-03-27T06:22:37.940419Z",
     "iopub.status.idle": "2022-03-27T06:22:37.947575Z",
     "shell.execute_reply": "2022-03-27T06:22:37.946171Z",
     "shell.execute_reply.started": "2022-03-27T06:22:37.940658Z"
    },
    "papermill": {
     "duration": 0.073173,
     "end_time": "2022-03-27T06:37:11.443695",
     "exception": false,
     "start_time": "2022-03-27T06:37:11.370522",
     "status": "completed"
    },
    "tags": []
   },
   "source": [
    "### Organic carbon"
   ]
  },
  {
   "cell_type": "markdown",
   "id": "9d90aff5",
   "metadata": {
    "papermill": {
     "duration": 0.072889,
     "end_time": "2022-03-27T06:37:11.589591",
     "exception": false,
     "start_time": "2022-03-27T06:37:11.516702",
     "status": "completed"
    },
    "tags": []
   },
   "source": [
    "Total Organic Carbon (TOC) in source waters comes from decaying natural organic matter (NOM) as well as synthetic sources. TOC is a measure of the total amount of carbon in organic compounds in pure water. According to US EPA < 2 mg/L as TOC in treated / drinking water, and < 4 mg/Lit in source water which is use for treatment."
   ]
  },
  {
   "cell_type": "code",
   "execution_count": 26,
   "id": "54d4318e",
   "metadata": {
    "execution": {
     "iopub.execute_input": "2022-03-27T06:37:11.740522Z",
     "iopub.status.busy": "2022-03-27T06:37:11.739535Z",
     "iopub.status.idle": "2022-03-27T06:37:11.963180Z",
     "shell.execute_reply": "2022-03-27T06:37:11.962530Z",
     "shell.execute_reply.started": "2022-03-27T06:29:14.582862Z"
    },
    "papermill": {
     "duration": 0.30071,
     "end_time": "2022-03-27T06:37:11.963348",
     "exception": false,
     "start_time": "2022-03-27T06:37:11.662638",
     "status": "completed"
    },
    "tags": []
   },
   "outputs": [
    {
     "data": {
      "text/plain": [
       "<AxesSubplot:xlabel='Organic_carbon'>"
      ]
     },
     "execution_count": 26,
     "metadata": {},
     "output_type": "execute_result"
    },
    {
     "data": {
      "image/png": "[encoded data removed]",
      "text/plain": [
       "<Figure size 720x360 with 1 Axes>"
      ]
     },
     "metadata": {},
     "output_type": "display_data"
    }
   ],
   "source": [
    "sns.boxplot(x = df.Organic_carbon, color = 'teal')"
   ]
  },
  {
   "cell_type": "code",
   "execution_count": 27,
   "id": "57dd64b0",
   "metadata": {
    "execution": {
     "iopub.execute_input": "2022-03-27T06:37:12.118913Z",
     "iopub.status.busy": "2022-03-27T06:37:12.117965Z",
     "iopub.status.idle": "2022-03-27T06:37:12.558039Z",
     "shell.execute_reply": "2022-03-27T06:37:12.558523Z",
     "shell.execute_reply.started": "2022-03-27T06:29:14.809683Z"
    },
    "papermill": {
     "duration": 0.519355,
     "end_time": "2022-03-27T06:37:12.558722",
     "exception": false,
     "start_time": "2022-03-27T06:37:12.039367",
     "status": "completed"
    },
    "tags": []
   },
   "outputs": [
    {
     "data": {
      "text/plain": [
       "<matplotlib.legend.Legend at 0x7f8090292f90>"
      ]
     },
     "execution_count": 27,
     "metadata": {},
     "output_type": "execute_result"
    },
    {
     "data": {
      "image/png": "[encoded data removed]",
      "text/plain": [
       "<Figure size 720x360 with 1 Axes>"
      ]
     },
     "metadata": {},
     "output_type": "display_data"
    }
   ],
   "source": [
    "sns.distplot(df[df[\"Potability\"] == 0]['Organic_carbon'],  kde=False, label=\"Potable\")\n",
    "sns.distplot(df[df[\"Potability\"] == 1]['Organic_carbon'],  kde=False, label=\"Not potable\")\n",
    "plt.legend()"
   ]
  },
  {
   "cell_type": "markdown",
   "id": "c93734d5",
   "metadata": {
    "papermill": {
     "duration": 0.075973,
     "end_time": "2022-03-27T06:37:12.710142",
     "exception": false,
     "start_time": "2022-03-27T06:37:12.634169",
     "status": "completed"
    },
    "tags": []
   },
   "source": [
    "### Trihalomethanes"
   ]
  },
  {
   "cell_type": "markdown",
   "id": "75db0250",
   "metadata": {
    "papermill": {
     "duration": 0.076491,
     "end_time": "2022-03-27T06:37:12.863125",
     "exception": false,
     "start_time": "2022-03-27T06:37:12.786634",
     "status": "completed"
    },
    "tags": []
   },
   "source": [
    "THMs are chemicals which may be found in water treated with chlorine. The concentration of THMs in drinking water varies according to the level of organic material in the water, the amount of chlorine required to treat the water, and the temperature of the water that is being treated. THM levels up to 80 ppm is considered safe in drinking water."
   ]
  },
  {
   "cell_type": "code",
   "execution_count": 28,
   "id": "8c4c479c",
   "metadata": {
    "execution": {
     "iopub.execute_input": "2022-03-27T06:37:13.019233Z",
     "iopub.status.busy": "2022-03-27T06:37:13.018248Z",
     "iopub.status.idle": "2022-03-27T06:37:13.256453Z",
     "shell.execute_reply": "2022-03-27T06:37:13.256949Z",
     "shell.execute_reply.started": "2022-03-27T06:29:15.235450Z"
    },
    "papermill": {
     "duration": 0.318063,
     "end_time": "2022-03-27T06:37:13.257129",
     "exception": false,
     "start_time": "2022-03-27T06:37:12.939066",
     "status": "completed"
    },
    "tags": []
   },
   "outputs": [
    {
     "data": {
      "text/plain": [
       "<AxesSubplot:xlabel='Trihalomethanes'>"
      ]
     },
     "execution_count": 28,
     "metadata": {},
     "output_type": "execute_result"
    },
    {
     "data": {
      "image/png": "[encoded data removed]",
      "text/plain": [
       "<Figure size 720x360 with 1 Axes>"
      ]
     },
     "metadata": {},
     "output_type": "display_data"
    }
   ],
   "source": [
    "sns.boxplot(x = df.Trihalomethanes, color = 'teal')"
   ]
  },
  {
   "cell_type": "code",
   "execution_count": 29,
   "id": "8a2da83d",
   "metadata": {
    "execution": {
     "iopub.execute_input": "2022-03-27T06:37:13.417082Z",
     "iopub.status.busy": "2022-03-27T06:37:13.416067Z",
     "iopub.status.idle": "2022-03-27T06:37:13.882339Z",
     "shell.execute_reply": "2022-03-27T06:37:13.881794Z",
     "shell.execute_reply.started": "2022-03-27T06:29:15.471880Z"
    },
    "papermill": {
     "duration": 0.546651,
     "end_time": "2022-03-27T06:37:13.882488",
     "exception": false,
     "start_time": "2022-03-27T06:37:13.335837",
     "status": "completed"
    },
    "tags": []
   },
   "outputs": [
    {
     "data": {
      "text/plain": [
       "<matplotlib.legend.Legend at 0x7f80902154d0>"
      ]
     },
     "execution_count": 29,
     "metadata": {},
     "output_type": "execute_result"
    },
    {
     "data": {
      "image/png": "[encoded data removed]",
      "text/plain": [
       "<Figure size 720x360 with 1 Axes>"
      ]
     },
     "metadata": {},
     "output_type": "display_data"
    }
   ],
   "source": [
    "sns.distplot(df[df[\"Potability\"] == 0]['Trihalomethanes'],  kde=False, label=\"Potable\")\n",
    "sns.distplot(df[df[\"Potability\"] == 1]['Trihalomethanes'],  kde=False, label=\"Not potable\")\n",
    "plt.legend()"
   ]
  },
  {
   "cell_type": "markdown",
   "id": "f354ea9d",
   "metadata": {
    "papermill": {
     "duration": 0.078225,
     "end_time": "2022-03-27T06:37:14.040906",
     "exception": false,
     "start_time": "2022-03-27T06:37:13.962681",
     "status": "completed"
    },
    "tags": []
   },
   "source": [
    "### Turbidity"
   ]
  },
  {
   "cell_type": "markdown",
   "id": "3747738d",
   "metadata": {
    "papermill": {
     "duration": 0.078496,
     "end_time": "2022-03-27T06:37:14.199206",
     "exception": false,
     "start_time": "2022-03-27T06:37:14.120710",
     "status": "completed"
    },
    "tags": []
   },
   "source": [
    "The turbidity of water depends on the quantity of solid matter present in the suspended state. It is a measure of light emitting properties of water and the test is used to indicate the quality of waste discharge with respect to colloidal matter. The mean turbidity value obtained for Wondo Genet Campus (0.98 NTU) is lower than the WHO recommended value of 5.00 NTU."
   ]
  },
  {
   "cell_type": "code",
   "execution_count": 30,
   "id": "6c8e2cf4",
   "metadata": {
    "execution": {
     "iopub.execute_input": "2022-03-27T06:37:14.360513Z",
     "iopub.status.busy": "2022-03-27T06:37:14.359865Z",
     "iopub.status.idle": "2022-03-27T06:37:14.589096Z",
     "shell.execute_reply": "2022-03-27T06:37:14.588499Z",
     "shell.execute_reply.started": "2022-03-27T06:29:15.895480Z"
    },
    "papermill": {
     "duration": 0.311499,
     "end_time": "2022-03-27T06:37:14.589257",
     "exception": false,
     "start_time": "2022-03-27T06:37:14.277758",
     "status": "completed"
    },
    "tags": []
   },
   "outputs": [
    {
     "data": {
      "text/plain": [
       "<AxesSubplot:xlabel='Turbidity'>"
      ]
     },
     "execution_count": 30,
     "metadata": {},
     "output_type": "execute_result"
    },
    {
     "data": {
      "image/png": "[encoded data removed]",
      "text/plain": [
       "<Figure size 720x360 with 1 Axes>"
      ]
     },
     "metadata": {},
     "output_type": "display_data"
    }
   ],
   "source": [
    "sns.boxplot(x = df.Turbidity, color = 'teal')"
   ]
  },
  {
   "cell_type": "code",
   "execution_count": 31,
   "id": "05c4fcf9",
   "metadata": {
    "execution": {
     "iopub.execute_input": "2022-03-27T06:37:14.758984Z",
     "iopub.status.busy": "2022-03-27T06:37:14.758245Z",
     "iopub.status.idle": "2022-03-27T06:37:15.198597Z",
     "shell.execute_reply": "2022-03-27T06:37:15.199091Z",
     "shell.execute_reply.started": "2022-03-27T06:29:16.129880Z"
    },
    "papermill": {
     "duration": 0.5288,
     "end_time": "2022-03-27T06:37:15.199271",
     "exception": false,
     "start_time": "2022-03-27T06:37:14.670471",
     "status": "completed"
    },
    "tags": []
   },
   "outputs": [
    {
     "data": {
      "text/plain": [
       "<matplotlib.legend.Legend at 0x7f8090152c50>"
      ]
     },
     "execution_count": 31,
     "metadata": {},
     "output_type": "execute_result"
    },
    {
     "data": {
      "image/png": "[encoded data removed]",
      "text/plain": [
       "<Figure size 720x360 with 1 Axes>"
      ]
     },
     "metadata": {},
     "output_type": "display_data"
    }
   ],
   "source": [
    "sns.distplot(df[df[\"Potability\"] == 0]['Turbidity'],  kde=False, label=\"Potable\")\n",
    "sns.distplot(df[df[\"Potability\"] == 1]['Turbidity'],  kde=False, label=\"Not potable\")\n",
    "plt.legend()"
   ]
  },
  {
   "cell_type": "markdown",
   "id": "baeb0326",
   "metadata": {
    "papermill": {
     "duration": 0.081442,
     "end_time": "2022-03-27T06:37:15.362819",
     "exception": false,
     "start_time": "2022-03-27T06:37:15.281377",
     "status": "completed"
    },
    "tags": []
   },
   "source": [
    "## Correlaton"
   ]
  },
  {
   "cell_type": "code",
   "execution_count": 32,
   "id": "c18989a8",
   "metadata": {
    "execution": {
     "iopub.execute_input": "2022-03-27T06:37:15.530290Z",
     "iopub.status.busy": "2022-03-27T06:37:15.529248Z",
     "iopub.status.idle": "2022-03-27T06:37:15.958660Z",
     "shell.execute_reply": "2022-03-27T06:37:15.958134Z",
     "shell.execute_reply.started": "2022-03-27T06:29:16.552436Z"
    },
    "papermill": {
     "duration": 0.513786,
     "end_time": "2022-03-27T06:37:15.958811",
     "exception": false,
     "start_time": "2022-03-27T06:37:15.445025",
     "status": "completed"
    },
    "tags": []
   },
   "outputs": [
    {
     "name": "stdout",
     "output_type": "stream",
     "text": [
      "Correlation to 'Potability' value:\n",
      "Potability         1.000000\n",
      "Solids             0.040595\n",
      "Organic_carbon    -0.028156\n",
      "Chloramines        0.022130\n",
      "Sulfate           -0.019230\n",
      "Hardness          -0.011219\n",
      "Turbidity          0.007175\n",
      "Trihalomethanes    0.006256\n",
      "Conductivity      -0.006168\n",
      "ph                -0.003242\n",
      "Name: Potability, dtype: float64\n"
     ]
    },
    {
     "data": {
      "text/plain": [
       "[Text(0.5, 0, 'ph'),\n",
       " Text(1.5, 0, 'Hardness'),\n",
       " Text(2.5, 0, 'Solids'),\n",
       " Text(3.5, 0, 'Chloramines'),\n",
       " Text(4.5, 0, 'Sulfate'),\n",
       " Text(5.5, 0, 'Conductivity'),\n",
       " Text(6.5, 0, 'Organic_carbon'),\n",
       " Text(7.5, 0, 'Trihalomethanes'),\n",
       " Text(8.5, 0, 'Turbidity'),\n",
       " Text(9.5, 0, 'Potability')]"
      ]
     },
     "execution_count": 32,
     "metadata": {},
     "output_type": "execute_result"
    },
    {
     "data": {
      "image/png": "[encoded data removed]",
      "text/plain": [
       "<Figure size 720x360 with 2 Axes>"
      ]
     },
     "metadata": {},
     "output_type": "display_data"
    }
   ],
   "source": [
    "sns.set(rc={'figure.figsize':(10,5)})\n",
    "corr = df.corr().sort_values(ascending=False, key=lambda x: abs(x), by=\"Potability\")\n",
    "\n",
    "print(\"Correlation to 'Potability' value:\")\n",
    "print (corr[\"Potability\"])\n",
    "\n",
    "ax = sns.heatmap(\n",
    "    corr, \n",
    "    vmin=-1, vmax=1, center=0,\n",
    "    cmap=sns.diverging_palette(20, 220, n=200),\n",
    "    square=True,\n",
    ")\n",
    "ax.set_xticklabels(\n",
    "    ax.get_xticklabels(),\n",
    "    rotation=45,\n",
    "    horizontalalignment='right'\n",
    ")"
   ]
  },
  {
   "cell_type": "markdown",
   "id": "b5d8dc01",
   "metadata": {
    "papermill": {
     "duration": 0.084688,
     "end_time": "2022-03-27T06:37:16.127722",
     "exception": false,
     "start_time": "2022-03-27T06:37:16.043034",
     "status": "completed"
    },
    "tags": []
   },
   "source": [
    "## Train a model"
   ]
  },
  {
   "cell_type": "markdown",
   "id": "94369a12",
   "metadata": {
    "papermill": {
     "duration": 0.083035,
     "end_time": "2022-03-27T06:37:16.293824",
     "exception": false,
     "start_time": "2022-03-27T06:37:16.210789",
     "status": "completed"
    },
    "tags": []
   },
   "source": [
    "I used **Random Forest** classifier:"
   ]
  },
  {
   "cell_type": "code",
   "execution_count": 33,
   "id": "e4ee3afb",
   "metadata": {
    "execution": {
     "iopub.execute_input": "2022-03-27T06:37:16.466498Z",
     "iopub.status.busy": "2022-03-27T06:37:16.465502Z",
     "iopub.status.idle": "2022-03-27T06:37:35.288327Z",
     "shell.execute_reply": "2022-03-27T06:37:35.287661Z",
     "shell.execute_reply.started": "2022-03-27T06:29:17.031595Z"
    },
    "papermill": {
     "duration": 18.910887,
     "end_time": "2022-03-27T06:37:35.288465",
     "exception": false,
     "start_time": "2022-03-27T06:37:16.377578",
     "status": "completed"
    },
    "tags": []
   },
   "outputs": [
    {
     "name": "stdout",
     "output_type": "stream",
     "text": [
      "              precision    recall  f1-score   support\n",
      "\n",
      "           0       0.67      0.92      0.78       379\n",
      "           1       0.71      0.31      0.43       245\n",
      "\n",
      "    accuracy                           0.68       624\n",
      "   macro avg       0.69      0.61      0.60       624\n",
      "weighted avg       0.69      0.68      0.64       624\n",
      "\n",
      "Accuracy: 0.6778846153846154\n"
     ]
    }
   ],
   "source": [
    "from sklearn.model_selection import train_test_split\n",
    "from sklearn.ensemble import RandomForestClassifier\n",
    "from xgboost import XGBClassifier\n",
    "from sklearn.preprocessing import StandardScaler\n",
    "from sklearn.pipeline import make_pipeline\n",
    "from sklearn.metrics import classification_report, accuracy_score\n",
    "from imblearn.ensemble import BalancedBaggingClassifier\n",
    "\n",
    "df_train = df.drop(columns=[\"Potability\"])\n",
    "X_train, X_test, y_train, y_test = train_test_split(df_train, df[\"Potability\"],test_size=0.2,shuffle=True, stratify=df[\"Potability\"])\n",
    "\n",
    "pipeline = make_pipeline(\n",
    "    RandomForestClassifier(\n",
    "        n_estimators=2000,\n",
    "        min_samples_split=2,\n",
    "        min_samples_leaf=1,\n",
    "        max_features='sqrt',\n",
    "        max_depth=60,\n",
    "        bootstrap=True,\n",
    "        class_weight='balanced'\n",
    "    ),\n",
    ")\n",
    "pipeline.fit(X_train, y_train)\n",
    "\n",
    "predictions = pipeline.predict(X_test)\n",
    "print(classification_report(y_test, predictions))\n",
    "print(f\"Accuracy: {accuracy_score(y_test, predictions)}\")"
   ]
  }
 ],
 "metadata": {
  "kernelspec": {
   "display_name": "Python 3",
   "language": "python",
   "name": "python3"
  },
  "language_info": {
   "codemirror_mode": {
    "name": "ipython",
    "version": 3
   },
   "file_extension": ".py",
   "mimetype": "text/x-python",
   "name": "python",
   "nbconvert_exporter": "python",
   "pygments_lexer": "ipython3",
   "version": "3.7.12"
  },
  "papermill": {
   "default_parameters": {},
   "duration": 46.076722,
   "end_time": "2022-03-27T06:37:36.184981",
   "environment_variables": {},
   "exception": null,
   "input_path": "__notebook__.ipynb",
   "output_path": "__notebook__.ipynb",
   "parameters": {},
   "start_time": "2022-03-27T06:36:50.108259",
   "version": "2.3.3"
  }
 },
 "nbformat": 4,
 "nbformat_minor": 5
}
