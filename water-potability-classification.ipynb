{
 "cells": [
  {
   "cell_type": "code",
   "execution_count": 1,
   "id": "fd43f9f6",
   "metadata": {
    "_cell_guid": "b1076dfc-b9ad-4769-8c92-a6c4dae69d19",
    "_kg_hide-input": true,
    "_uuid": "8f2839f25d086af736a60e9eeb907d3b93b6e0e5",
    "execution": {
     "iopub.execute_input": "2022-03-28T15:25:21.249195Z",
     "iopub.status.busy": "2022-03-28T15:25:21.248246Z",
     "iopub.status.idle": "2022-03-28T15:25:22.250290Z",
     "shell.execute_reply": "2022-03-28T15:25:22.249400Z",
     "shell.execute_reply.started": "2022-03-28T15:24:22.187803Z"
    },
    "papermill": {
     "duration": 1.080097,
     "end_time": "2022-03-28T15:25:22.250468",
     "exception": false,
     "start_time": "2022-03-28T15:25:21.170371",
     "status": "completed"
    },
    "tags": []
   },
   "outputs": [],
   "source": [
    "import warnings\n",
    "warnings.filterwarnings('ignore')\n",
    "import pandas as pd\n",
    "import numpy as np\n",
    "import seaborn as sns\n",
    "from matplotlib import pyplot as plt"
   ]
  },
  {
   "cell_type": "markdown",
   "id": "9fa12b66",
   "metadata": {
    "papermill": {
     "duration": 0.049671,
     "end_time": "2022-03-28T15:25:22.347641",
     "exception": false,
     "start_time": "2022-03-28T15:25:22.297970",
     "status": "completed"
    },
    "tags": []
   },
   "source": [
    "# Data Exploration"
   ]
  },
  {
   "cell_type": "code",
   "execution_count": 2,
   "id": "b7b1e26d",
   "metadata": {
    "execution": {
     "iopub.execute_input": "2022-03-28T15:25:22.448196Z",
     "iopub.status.busy": "2022-03-28T15:25:22.447579Z",
     "iopub.status.idle": "2022-03-28T15:25:22.515953Z",
     "shell.execute_reply": "2022-03-28T15:25:22.516448Z",
     "shell.execute_reply.started": "2022-03-28T15:24:22.787497Z"
    },
    "papermill": {
     "duration": 0.121149,
     "end_time": "2022-03-28T15:25:22.516633",
     "exception": false,
     "start_time": "2022-03-28T15:25:22.395484",
     "status": "completed"
    },
    "tags": []
   },
   "outputs": [
    {
     "data": {
      "text/html": [
       "<div>\n",
       "<style scoped>\n",
       "    .dataframe tbody tr th:only-of-type {\n",
       "        vertical-align: middle;\n",
       "    }\n",
       "\n",
       "    .dataframe tbody tr th {\n",
       "        vertical-align: top;\n",
       "    }\n",
       "\n",
       "    .dataframe thead th {\n",
       "        text-align: right;\n",
       "    }\n",
       "</style>\n",
       "<table border=\"1\" class=\"dataframe\">\n",
       "  <thead>\n",
       "    <tr style=\"text-align: right;\">\n",
       "      <th></th>\n",
       "      <th>ph</th>\n",
       "      <th>Hardness</th>\n",
       "      <th>Solids</th>\n",
       "      <th>Chloramines</th>\n",
       "      <th>Sulfate</th>\n",
       "      <th>Conductivity</th>\n",
       "      <th>Organic_carbon</th>\n",
       "      <th>Trihalomethanes</th>\n",
       "      <th>Turbidity</th>\n",
       "      <th>Potability</th>\n",
       "    </tr>\n",
       "  </thead>\n",
       "  <tbody>\n",
       "    <tr>\n",
       "      <th>0</th>\n",
       "      <td>NaN</td>\n",
       "      <td>204.890455</td>\n",
       "      <td>20791.318981</td>\n",
       "      <td>7.300212</td>\n",
       "      <td>368.516441</td>\n",
       "      <td>564.308654</td>\n",
       "      <td>10.379783</td>\n",
       "      <td>86.990970</td>\n",
       "      <td>2.963135</td>\n",
       "      <td>0</td>\n",
       "    </tr>\n",
       "    <tr>\n",
       "      <th>1</th>\n",
       "      <td>3.716080</td>\n",
       "      <td>129.422921</td>\n",
       "      <td>18630.057858</td>\n",
       "      <td>6.635246</td>\n",
       "      <td>NaN</td>\n",
       "      <td>592.885359</td>\n",
       "      <td>15.180013</td>\n",
       "      <td>56.329076</td>\n",
       "      <td>4.500656</td>\n",
       "      <td>0</td>\n",
       "    </tr>\n",
       "    <tr>\n",
       "      <th>2</th>\n",
       "      <td>8.099124</td>\n",
       "      <td>224.236259</td>\n",
       "      <td>19909.541732</td>\n",
       "      <td>9.275884</td>\n",
       "      <td>NaN</td>\n",
       "      <td>418.606213</td>\n",
       "      <td>16.868637</td>\n",
       "      <td>66.420093</td>\n",
       "      <td>3.055934</td>\n",
       "      <td>0</td>\n",
       "    </tr>\n",
       "    <tr>\n",
       "      <th>3</th>\n",
       "      <td>8.316766</td>\n",
       "      <td>214.373394</td>\n",
       "      <td>22018.417441</td>\n",
       "      <td>8.059332</td>\n",
       "      <td>356.886136</td>\n",
       "      <td>363.266516</td>\n",
       "      <td>18.436524</td>\n",
       "      <td>100.341674</td>\n",
       "      <td>4.628771</td>\n",
       "      <td>0</td>\n",
       "    </tr>\n",
       "    <tr>\n",
       "      <th>4</th>\n",
       "      <td>9.092223</td>\n",
       "      <td>181.101509</td>\n",
       "      <td>17978.986339</td>\n",
       "      <td>6.546600</td>\n",
       "      <td>310.135738</td>\n",
       "      <td>398.410813</td>\n",
       "      <td>11.558279</td>\n",
       "      <td>31.997993</td>\n",
       "      <td>4.075075</td>\n",
       "      <td>0</td>\n",
       "    </tr>\n",
       "    <tr>\n",
       "      <th>...</th>\n",
       "      <td>...</td>\n",
       "      <td>...</td>\n",
       "      <td>...</td>\n",
       "      <td>...</td>\n",
       "      <td>...</td>\n",
       "      <td>...</td>\n",
       "      <td>...</td>\n",
       "      <td>...</td>\n",
       "      <td>...</td>\n",
       "      <td>...</td>\n",
       "    </tr>\n",
       "    <tr>\n",
       "      <th>3271</th>\n",
       "      <td>4.668102</td>\n",
       "      <td>193.681735</td>\n",
       "      <td>47580.991603</td>\n",
       "      <td>7.166639</td>\n",
       "      <td>359.948574</td>\n",
       "      <td>526.424171</td>\n",
       "      <td>13.894419</td>\n",
       "      <td>66.687695</td>\n",
       "      <td>4.435821</td>\n",
       "      <td>1</td>\n",
       "    </tr>\n",
       "    <tr>\n",
       "      <th>3272</th>\n",
       "      <td>7.808856</td>\n",
       "      <td>193.553212</td>\n",
       "      <td>17329.802160</td>\n",
       "      <td>8.061362</td>\n",
       "      <td>NaN</td>\n",
       "      <td>392.449580</td>\n",
       "      <td>19.903225</td>\n",
       "      <td>NaN</td>\n",
       "      <td>2.798243</td>\n",
       "      <td>1</td>\n",
       "    </tr>\n",
       "    <tr>\n",
       "      <th>3273</th>\n",
       "      <td>9.419510</td>\n",
       "      <td>175.762646</td>\n",
       "      <td>33155.578218</td>\n",
       "      <td>7.350233</td>\n",
       "      <td>NaN</td>\n",
       "      <td>432.044783</td>\n",
       "      <td>11.039070</td>\n",
       "      <td>69.845400</td>\n",
       "      <td>3.298875</td>\n",
       "      <td>1</td>\n",
       "    </tr>\n",
       "    <tr>\n",
       "      <th>3274</th>\n",
       "      <td>5.126763</td>\n",
       "      <td>230.603758</td>\n",
       "      <td>11983.869376</td>\n",
       "      <td>6.303357</td>\n",
       "      <td>NaN</td>\n",
       "      <td>402.883113</td>\n",
       "      <td>11.168946</td>\n",
       "      <td>77.488213</td>\n",
       "      <td>4.708658</td>\n",
       "      <td>1</td>\n",
       "    </tr>\n",
       "    <tr>\n",
       "      <th>3275</th>\n",
       "      <td>7.874671</td>\n",
       "      <td>195.102299</td>\n",
       "      <td>17404.177061</td>\n",
       "      <td>7.509306</td>\n",
       "      <td>NaN</td>\n",
       "      <td>327.459760</td>\n",
       "      <td>16.140368</td>\n",
       "      <td>78.698446</td>\n",
       "      <td>2.309149</td>\n",
       "      <td>1</td>\n",
       "    </tr>\n",
       "  </tbody>\n",
       "</table>\n",
       "<p>3276 rows × 10 columns</p>\n",
       "</div>"
      ],
      "text/plain": [
       "            ph    Hardness        Solids  Chloramines     Sulfate  \\\n",
       "0          NaN  204.890455  20791.318981     7.300212  368.516441   \n",
       "1     3.716080  129.422921  18630.057858     6.635246         NaN   \n",
       "2     8.099124  224.236259  19909.541732     9.275884         NaN   \n",
       "3     8.316766  214.373394  22018.417441     8.059332  356.886136   \n",
       "4     9.092223  181.101509  17978.986339     6.546600  310.135738   \n",
       "...        ...         ...           ...          ...         ...   \n",
       "3271  4.668102  193.681735  47580.991603     7.166639  359.948574   \n",
       "3272  7.808856  193.553212  17329.802160     8.061362         NaN   \n",
       "3273  9.419510  175.762646  33155.578218     7.350233         NaN   \n",
       "3274  5.126763  230.603758  11983.869376     6.303357         NaN   \n",
       "3275  7.874671  195.102299  17404.177061     7.509306         NaN   \n",
       "\n",
       "      Conductivity  Organic_carbon  Trihalomethanes  Turbidity  Potability  \n",
       "0       564.308654       10.379783        86.990970   2.963135           0  \n",
       "1       592.885359       15.180013        56.329076   4.500656           0  \n",
       "2       418.606213       16.868637        66.420093   3.055934           0  \n",
       "3       363.266516       18.436524       100.341674   4.628771           0  \n",
       "4       398.410813       11.558279        31.997993   4.075075           0  \n",
       "...            ...             ...              ...        ...         ...  \n",
       "3271    526.424171       13.894419        66.687695   4.435821           1  \n",
       "3272    392.449580       19.903225              NaN   2.798243           1  \n",
       "3273    432.044783       11.039070        69.845400   3.298875           1  \n",
       "3274    402.883113       11.168946        77.488213   4.708658           1  \n",
       "3275    327.459760       16.140368        78.698446   2.309149           1  \n",
       "\n",
       "[3276 rows x 10 columns]"
      ]
     },
     "execution_count": 2,
     "metadata": {},
     "output_type": "execute_result"
    }
   ],
   "source": [
    "df = pd.read_csv(\"../input/water-potability/water_potability.csv\")\n",
    "df"
   ]
  },
  {
   "cell_type": "code",
   "execution_count": 3,
   "id": "0090d02f",
   "metadata": {
    "execution": {
     "iopub.execute_input": "2022-03-28T15:25:22.627079Z",
     "iopub.status.busy": "2022-03-28T15:25:22.626437Z",
     "iopub.status.idle": "2022-03-28T15:25:22.669002Z",
     "shell.execute_reply": "2022-03-28T15:25:22.668477Z",
     "shell.execute_reply.started": "2022-03-28T15:24:22.836443Z"
    },
    "papermill": {
     "duration": 0.1019,
     "end_time": "2022-03-28T15:25:22.669148",
     "exception": false,
     "start_time": "2022-03-28T15:25:22.567248",
     "status": "completed"
    },
    "tags": []
   },
   "outputs": [
    {
     "data": {
      "text/html": [
       "<div>\n",
       "<style scoped>\n",
       "    .dataframe tbody tr th:only-of-type {\n",
       "        vertical-align: middle;\n",
       "    }\n",
       "\n",
       "    .dataframe tbody tr th {\n",
       "        vertical-align: top;\n",
       "    }\n",
       "\n",
       "    .dataframe thead th {\n",
       "        text-align: right;\n",
       "    }\n",
       "</style>\n",
       "<table border=\"1\" class=\"dataframe\">\n",
       "  <thead>\n",
       "    <tr style=\"text-align: right;\">\n",
       "      <th></th>\n",
       "      <th>ph</th>\n",
       "      <th>Hardness</th>\n",
       "      <th>Solids</th>\n",
       "      <th>Chloramines</th>\n",
       "      <th>Sulfate</th>\n",
       "      <th>Conductivity</th>\n",
       "      <th>Organic_carbon</th>\n",
       "      <th>Trihalomethanes</th>\n",
       "      <th>Turbidity</th>\n",
       "      <th>Potability</th>\n",
       "    </tr>\n",
       "  </thead>\n",
       "  <tbody>\n",
       "    <tr>\n",
       "      <th>count</th>\n",
       "      <td>2785.000000</td>\n",
       "      <td>3276.000000</td>\n",
       "      <td>3276.000000</td>\n",
       "      <td>3276.000000</td>\n",
       "      <td>2495.000000</td>\n",
       "      <td>3276.000000</td>\n",
       "      <td>3276.000000</td>\n",
       "      <td>3114.000000</td>\n",
       "      <td>3276.000000</td>\n",
       "      <td>3276.000000</td>\n",
       "    </tr>\n",
       "    <tr>\n",
       "      <th>mean</th>\n",
       "      <td>7.080795</td>\n",
       "      <td>196.369496</td>\n",
       "      <td>22014.092526</td>\n",
       "      <td>7.122277</td>\n",
       "      <td>333.775777</td>\n",
       "      <td>426.205111</td>\n",
       "      <td>14.284970</td>\n",
       "      <td>66.396293</td>\n",
       "      <td>3.966786</td>\n",
       "      <td>0.390110</td>\n",
       "    </tr>\n",
       "    <tr>\n",
       "      <th>std</th>\n",
       "      <td>1.594320</td>\n",
       "      <td>32.879761</td>\n",
       "      <td>8768.570828</td>\n",
       "      <td>1.583085</td>\n",
       "      <td>41.416840</td>\n",
       "      <td>80.824064</td>\n",
       "      <td>3.308162</td>\n",
       "      <td>16.175008</td>\n",
       "      <td>0.780382</td>\n",
       "      <td>0.487849</td>\n",
       "    </tr>\n",
       "    <tr>\n",
       "      <th>min</th>\n",
       "      <td>0.000000</td>\n",
       "      <td>47.432000</td>\n",
       "      <td>320.942611</td>\n",
       "      <td>0.352000</td>\n",
       "      <td>129.000000</td>\n",
       "      <td>181.483754</td>\n",
       "      <td>2.200000</td>\n",
       "      <td>0.738000</td>\n",
       "      <td>1.450000</td>\n",
       "      <td>0.000000</td>\n",
       "    </tr>\n",
       "    <tr>\n",
       "      <th>25%</th>\n",
       "      <td>6.093092</td>\n",
       "      <td>176.850538</td>\n",
       "      <td>15666.690297</td>\n",
       "      <td>6.127421</td>\n",
       "      <td>307.699498</td>\n",
       "      <td>365.734414</td>\n",
       "      <td>12.065801</td>\n",
       "      <td>55.844536</td>\n",
       "      <td>3.439711</td>\n",
       "      <td>0.000000</td>\n",
       "    </tr>\n",
       "    <tr>\n",
       "      <th>50%</th>\n",
       "      <td>7.036752</td>\n",
       "      <td>196.967627</td>\n",
       "      <td>20927.833607</td>\n",
       "      <td>7.130299</td>\n",
       "      <td>333.073546</td>\n",
       "      <td>421.884968</td>\n",
       "      <td>14.218338</td>\n",
       "      <td>66.622485</td>\n",
       "      <td>3.955028</td>\n",
       "      <td>0.000000</td>\n",
       "    </tr>\n",
       "    <tr>\n",
       "      <th>75%</th>\n",
       "      <td>8.062066</td>\n",
       "      <td>216.667456</td>\n",
       "      <td>27332.762127</td>\n",
       "      <td>8.114887</td>\n",
       "      <td>359.950170</td>\n",
       "      <td>481.792304</td>\n",
       "      <td>16.557652</td>\n",
       "      <td>77.337473</td>\n",
       "      <td>4.500320</td>\n",
       "      <td>1.000000</td>\n",
       "    </tr>\n",
       "    <tr>\n",
       "      <th>max</th>\n",
       "      <td>14.000000</td>\n",
       "      <td>323.124000</td>\n",
       "      <td>61227.196008</td>\n",
       "      <td>13.127000</td>\n",
       "      <td>481.030642</td>\n",
       "      <td>753.342620</td>\n",
       "      <td>28.300000</td>\n",
       "      <td>124.000000</td>\n",
       "      <td>6.739000</td>\n",
       "      <td>1.000000</td>\n",
       "    </tr>\n",
       "  </tbody>\n",
       "</table>\n",
       "</div>"
      ],
      "text/plain": [
       "                ph     Hardness        Solids  Chloramines      Sulfate  \\\n",
       "count  2785.000000  3276.000000   3276.000000  3276.000000  2495.000000   \n",
       "mean      7.080795   196.369496  22014.092526     7.122277   333.775777   \n",
       "std       1.594320    32.879761   8768.570828     1.583085    41.416840   \n",
       "min       0.000000    47.432000    320.942611     0.352000   129.000000   \n",
       "25%       6.093092   176.850538  15666.690297     6.127421   307.699498   \n",
       "50%       7.036752   196.967627  20927.833607     7.130299   333.073546   \n",
       "75%       8.062066   216.667456  27332.762127     8.114887   359.950170   \n",
       "max      14.000000   323.124000  61227.196008    13.127000   481.030642   \n",
       "\n",
       "       Conductivity  Organic_carbon  Trihalomethanes    Turbidity   Potability  \n",
       "count   3276.000000     3276.000000      3114.000000  3276.000000  3276.000000  \n",
       "mean     426.205111       14.284970        66.396293     3.966786     0.390110  \n",
       "std       80.824064        3.308162        16.175008     0.780382     0.487849  \n",
       "min      181.483754        2.200000         0.738000     1.450000     0.000000  \n",
       "25%      365.734414       12.065801        55.844536     3.439711     0.000000  \n",
       "50%      421.884968       14.218338        66.622485     3.955028     0.000000  \n",
       "75%      481.792304       16.557652        77.337473     4.500320     1.000000  \n",
       "max      753.342620       28.300000       124.000000     6.739000     1.000000  "
      ]
     },
     "execution_count": 3,
     "metadata": {},
     "output_type": "execute_result"
    }
   ],
   "source": [
    "df.describe()"
   ]
  },
  {
   "cell_type": "code",
   "execution_count": 4,
   "id": "a843b144",
   "metadata": {
    "execution": {
     "iopub.execute_input": "2022-03-28T15:25:22.776487Z",
     "iopub.status.busy": "2022-03-28T15:25:22.775845Z",
     "iopub.status.idle": "2022-03-28T15:25:22.788828Z",
     "shell.execute_reply": "2022-03-28T15:25:22.789337Z",
     "shell.execute_reply.started": "2022-03-28T15:24:22.891599Z"
    },
    "papermill": {
     "duration": 0.067535,
     "end_time": "2022-03-28T15:25:22.789531",
     "exception": false,
     "start_time": "2022-03-28T15:25:22.721996",
     "status": "completed"
    },
    "tags": []
   },
   "outputs": [
    {
     "name": "stdout",
     "output_type": "stream",
     "text": [
      "<class 'pandas.core.frame.DataFrame'>\n",
      "RangeIndex: 3276 entries, 0 to 3275\n",
      "Data columns (total 10 columns):\n",
      " #   Column           Non-Null Count  Dtype  \n",
      "---  ------           --------------  -----  \n",
      " 0   ph               2785 non-null   float64\n",
      " 1   Hardness         3276 non-null   float64\n",
      " 2   Solids           3276 non-null   float64\n",
      " 3   Chloramines      3276 non-null   float64\n",
      " 4   Sulfate          2495 non-null   float64\n",
      " 5   Conductivity     3276 non-null   float64\n",
      " 6   Organic_carbon   3276 non-null   float64\n",
      " 7   Trihalomethanes  3114 non-null   float64\n",
      " 8   Turbidity        3276 non-null   float64\n",
      " 9   Potability       3276 non-null   int64  \n",
      "dtypes: float64(9), int64(1)\n",
      "memory usage: 256.1 KB\n"
     ]
    }
   ],
   "source": [
    "df.info()"
   ]
  },
  {
   "cell_type": "code",
   "execution_count": 5,
   "id": "c4cdea27",
   "metadata": {
    "execution": {
     "iopub.execute_input": "2022-03-28T15:25:22.894010Z",
     "iopub.status.busy": "2022-03-28T15:25:22.893438Z",
     "iopub.status.idle": "2022-03-28T15:25:22.895714Z",
     "shell.execute_reply": "2022-03-28T15:25:22.896218Z",
     "shell.execute_reply.started": "2022-03-28T15:24:22.911581Z"
    },
    "papermill": {
     "duration": 0.057615,
     "end_time": "2022-03-28T15:25:22.896373",
     "exception": false,
     "start_time": "2022-03-28T15:25:22.838758",
     "status": "completed"
    },
    "tags": []
   },
   "outputs": [
    {
     "data": {
      "text/plain": [
       "ph                 float64\n",
       "Hardness           float64\n",
       "Solids             float64\n",
       "Chloramines        float64\n",
       "Sulfate            float64\n",
       "Conductivity       float64\n",
       "Organic_carbon     float64\n",
       "Trihalomethanes    float64\n",
       "Turbidity          float64\n",
       "Potability           int64\n",
       "dtype: object"
      ]
     },
     "execution_count": 5,
     "metadata": {},
     "output_type": "execute_result"
    }
   ],
   "source": [
    "df.dtypes"
   ]
  },
  {
   "cell_type": "markdown",
   "id": "5c76e9b6",
   "metadata": {
    "papermill": {
     "duration": 0.048558,
     "end_time": "2022-03-28T15:25:22.992749",
     "exception": false,
     "start_time": "2022-03-28T15:25:22.944191",
     "status": "completed"
    },
    "tags": []
   },
   "source": [
    "# Handle missing values"
   ]
  },
  {
   "cell_type": "code",
   "execution_count": 6,
   "id": "cbc6732e",
   "metadata": {
    "execution": {
     "iopub.execute_input": "2022-03-28T15:25:23.096205Z",
     "iopub.status.busy": "2022-03-28T15:25:23.095558Z",
     "iopub.status.idle": "2022-03-28T15:25:23.727039Z",
     "shell.execute_reply": "2022-03-28T15:25:23.726400Z",
     "shell.execute_reply.started": "2022-03-28T15:24:22.924645Z"
    },
    "papermill": {
     "duration": 0.684408,
     "end_time": "2022-03-28T15:25:23.727178",
     "exception": false,
     "start_time": "2022-03-28T15:25:23.042770",
     "status": "completed"
    },
    "tags": []
   },
   "outputs": [
    {
     "data": {
      "text/plain": [
       "<AxesSubplot:>"
      ]
     },
     "execution_count": 6,
     "metadata": {},
     "output_type": "execute_result"
    },
    {
     "data": {
      "image/png": "[encoded data removed]",
      "text/plain": [
       "<Figure size 1800x720 with 2 Axes>"
      ]
     },
     "metadata": {
      "needs_background": "light"
     },
     "output_type": "display_data"
    }
   ],
   "source": [
    "import missingno as msno\n",
    "msno.matrix(df)"
   ]
  },
  {
   "cell_type": "code",
   "execution_count": 7,
   "id": "33d1079a",
   "metadata": {
    "execution": {
     "iopub.execute_input": "2022-03-28T15:25:23.836253Z",
     "iopub.status.busy": "2022-03-28T15:25:23.835542Z",
     "iopub.status.idle": "2022-03-28T15:25:23.851816Z",
     "shell.execute_reply": "2022-03-28T15:25:23.851289Z",
     "shell.execute_reply.started": "2022-03-28T15:24:23.620524Z"
    },
    "papermill": {
     "duration": 0.073575,
     "end_time": "2022-03-28T15:25:23.851949",
     "exception": false,
     "start_time": "2022-03-28T15:25:23.778374",
     "status": "completed"
    },
    "tags": []
   },
   "outputs": [
    {
     "data": {
      "text/html": [
       "<div>\n",
       "<style scoped>\n",
       "    .dataframe tbody tr th:only-of-type {\n",
       "        vertical-align: middle;\n",
       "    }\n",
       "\n",
       "    .dataframe tbody tr th {\n",
       "        vertical-align: top;\n",
       "    }\n",
       "\n",
       "    .dataframe thead th {\n",
       "        text-align: right;\n",
       "    }\n",
       "</style>\n",
       "<table border=\"1\" class=\"dataframe\">\n",
       "  <thead>\n",
       "    <tr style=\"text-align: right;\">\n",
       "      <th></th>\n",
       "      <th>ph</th>\n",
       "      <th>Hardness</th>\n",
       "      <th>Solids</th>\n",
       "      <th>Chloramines</th>\n",
       "      <th>Sulfate</th>\n",
       "      <th>Conductivity</th>\n",
       "      <th>Organic_carbon</th>\n",
       "      <th>Trihalomethanes</th>\n",
       "      <th>Turbidity</th>\n",
       "      <th>Potability</th>\n",
       "    </tr>\n",
       "  </thead>\n",
       "  <tbody>\n",
       "    <tr>\n",
       "      <th>0</th>\n",
       "      <td>NaN</td>\n",
       "      <td>204.890455</td>\n",
       "      <td>20791.318981</td>\n",
       "      <td>7.300212</td>\n",
       "      <td>368.516441</td>\n",
       "      <td>564.308654</td>\n",
       "      <td>10.379783</td>\n",
       "      <td>86.990970</td>\n",
       "      <td>2.963135</td>\n",
       "      <td>0</td>\n",
       "    </tr>\n",
       "    <tr>\n",
       "      <th>8</th>\n",
       "      <td>NaN</td>\n",
       "      <td>118.988579</td>\n",
       "      <td>14285.583854</td>\n",
       "      <td>7.804174</td>\n",
       "      <td>268.646941</td>\n",
       "      <td>389.375566</td>\n",
       "      <td>12.706049</td>\n",
       "      <td>53.928846</td>\n",
       "      <td>3.595017</td>\n",
       "      <td>0</td>\n",
       "    </tr>\n",
       "    <tr>\n",
       "      <th>13</th>\n",
       "      <td>NaN</td>\n",
       "      <td>150.174923</td>\n",
       "      <td>27331.361962</td>\n",
       "      <td>6.838223</td>\n",
       "      <td>299.415781</td>\n",
       "      <td>379.761835</td>\n",
       "      <td>19.370807</td>\n",
       "      <td>76.509996</td>\n",
       "      <td>4.413974</td>\n",
       "      <td>0</td>\n",
       "    </tr>\n",
       "    <tr>\n",
       "      <th>20</th>\n",
       "      <td>NaN</td>\n",
       "      <td>227.435048</td>\n",
       "      <td>22305.567414</td>\n",
       "      <td>10.333918</td>\n",
       "      <td>NaN</td>\n",
       "      <td>554.820086</td>\n",
       "      <td>16.331693</td>\n",
       "      <td>45.382815</td>\n",
       "      <td>4.133423</td>\n",
       "      <td>0</td>\n",
       "    </tr>\n",
       "    <tr>\n",
       "      <th>22</th>\n",
       "      <td>NaN</td>\n",
       "      <td>215.977859</td>\n",
       "      <td>17107.224226</td>\n",
       "      <td>5.607060</td>\n",
       "      <td>326.943978</td>\n",
       "      <td>436.256194</td>\n",
       "      <td>14.189062</td>\n",
       "      <td>59.855476</td>\n",
       "      <td>5.459251</td>\n",
       "      <td>0</td>\n",
       "    </tr>\n",
       "    <tr>\n",
       "      <th>...</th>\n",
       "      <td>...</td>\n",
       "      <td>...</td>\n",
       "      <td>...</td>\n",
       "      <td>...</td>\n",
       "      <td>...</td>\n",
       "      <td>...</td>\n",
       "      <td>...</td>\n",
       "      <td>...</td>\n",
       "      <td>...</td>\n",
       "      <td>...</td>\n",
       "    </tr>\n",
       "    <tr>\n",
       "      <th>3224</th>\n",
       "      <td>NaN</td>\n",
       "      <td>198.218700</td>\n",
       "      <td>31081.735264</td>\n",
       "      <td>7.419106</td>\n",
       "      <td>NaN</td>\n",
       "      <td>517.925946</td>\n",
       "      <td>11.711419</td>\n",
       "      <td>85.428785</td>\n",
       "      <td>3.345543</td>\n",
       "      <td>1</td>\n",
       "    </tr>\n",
       "    <tr>\n",
       "      <th>3229</th>\n",
       "      <td>NaN</td>\n",
       "      <td>203.204659</td>\n",
       "      <td>10643.186771</td>\n",
       "      <td>6.828936</td>\n",
       "      <td>NaN</td>\n",
       "      <td>384.597711</td>\n",
       "      <td>16.011328</td>\n",
       "      <td>72.911573</td>\n",
       "      <td>3.065910</td>\n",
       "      <td>1</td>\n",
       "    </tr>\n",
       "    <tr>\n",
       "      <th>3231</th>\n",
       "      <td>NaN</td>\n",
       "      <td>225.754109</td>\n",
       "      <td>28194.452646</td>\n",
       "      <td>5.892830</td>\n",
       "      <td>366.201583</td>\n",
       "      <td>418.272901</td>\n",
       "      <td>17.306832</td>\n",
       "      <td>103.912548</td>\n",
       "      <td>3.855895</td>\n",
       "      <td>1</td>\n",
       "    </tr>\n",
       "    <tr>\n",
       "      <th>3245</th>\n",
       "      <td>NaN</td>\n",
       "      <td>188.536608</td>\n",
       "      <td>24711.414927</td>\n",
       "      <td>7.129520</td>\n",
       "      <td>NaN</td>\n",
       "      <td>555.548534</td>\n",
       "      <td>16.959269</td>\n",
       "      <td>56.038702</td>\n",
       "      <td>4.331691</td>\n",
       "      <td>1</td>\n",
       "    </tr>\n",
       "    <tr>\n",
       "      <th>3260</th>\n",
       "      <td>NaN</td>\n",
       "      <td>134.736856</td>\n",
       "      <td>9000.025591</td>\n",
       "      <td>9.026293</td>\n",
       "      <td>NaN</td>\n",
       "      <td>428.213987</td>\n",
       "      <td>8.668672</td>\n",
       "      <td>74.773392</td>\n",
       "      <td>3.699558</td>\n",
       "      <td>1</td>\n",
       "    </tr>\n",
       "  </tbody>\n",
       "</table>\n",
       "<p>491 rows × 10 columns</p>\n",
       "</div>"
      ],
      "text/plain": [
       "      ph    Hardness        Solids  Chloramines     Sulfate  Conductivity  \\\n",
       "0    NaN  204.890455  20791.318981     7.300212  368.516441    564.308654   \n",
       "8    NaN  118.988579  14285.583854     7.804174  268.646941    389.375566   \n",
       "13   NaN  150.174923  27331.361962     6.838223  299.415781    379.761835   \n",
       "20   NaN  227.435048  22305.567414    10.333918         NaN    554.820086   \n",
       "22   NaN  215.977859  17107.224226     5.607060  326.943978    436.256194   \n",
       "...   ..         ...           ...          ...         ...           ...   \n",
       "3224 NaN  198.218700  31081.735264     7.419106         NaN    517.925946   \n",
       "3229 NaN  203.204659  10643.186771     6.828936         NaN    384.597711   \n",
       "3231 NaN  225.754109  28194.452646     5.892830  366.201583    418.272901   \n",
       "3245 NaN  188.536608  24711.414927     7.129520         NaN    555.548534   \n",
       "3260 NaN  134.736856   9000.025591     9.026293         NaN    428.213987   \n",
       "\n",
       "      Organic_carbon  Trihalomethanes  Turbidity  Potability  \n",
       "0          10.379783        86.990970   2.963135           0  \n",
       "8          12.706049        53.928846   3.595017           0  \n",
       "13         19.370807        76.509996   4.413974           0  \n",
       "20         16.331693        45.382815   4.133423           0  \n",
       "22         14.189062        59.855476   5.459251           0  \n",
       "...              ...              ...        ...         ...  \n",
       "3224       11.711419        85.428785   3.345543           1  \n",
       "3229       16.011328        72.911573   3.065910           1  \n",
       "3231       17.306832       103.912548   3.855895           1  \n",
       "3245       16.959269        56.038702   4.331691           1  \n",
       "3260        8.668672        74.773392   3.699558           1  \n",
       "\n",
       "[491 rows x 10 columns]"
      ]
     },
     "execution_count": 7,
     "metadata": {},
     "output_type": "execute_result"
    }
   ],
   "source": [
    "df.loc[df.ph.isna()]"
   ]
  },
  {
   "cell_type": "code",
   "execution_count": 8,
   "id": "fe62a8d8",
   "metadata": {
    "execution": {
     "iopub.execute_input": "2022-03-28T15:25:23.961363Z",
     "iopub.status.busy": "2022-03-28T15:25:23.960767Z",
     "iopub.status.idle": "2022-03-28T15:25:23.974621Z",
     "shell.execute_reply": "2022-03-28T15:25:23.975097Z",
     "shell.execute_reply.started": "2022-03-28T15:24:23.645633Z"
    },
    "papermill": {
     "duration": 0.071881,
     "end_time": "2022-03-28T15:25:23.975289",
     "exception": false,
     "start_time": "2022-03-28T15:25:23.903408",
     "status": "completed"
    },
    "tags": []
   },
   "outputs": [
    {
     "data": {
      "text/html": [
       "<div>\n",
       "<style scoped>\n",
       "    .dataframe tbody tr th:only-of-type {\n",
       "        vertical-align: middle;\n",
       "    }\n",
       "\n",
       "    .dataframe tbody tr th {\n",
       "        vertical-align: top;\n",
       "    }\n",
       "\n",
       "    .dataframe thead th {\n",
       "        text-align: right;\n",
       "    }\n",
       "</style>\n",
       "<table border=\"1\" class=\"dataframe\">\n",
       "  <thead>\n",
       "    <tr style=\"text-align: right;\">\n",
       "      <th></th>\n",
       "      <th>ph</th>\n",
       "      <th>Hardness</th>\n",
       "      <th>Solids</th>\n",
       "      <th>Chloramines</th>\n",
       "      <th>Sulfate</th>\n",
       "      <th>Conductivity</th>\n",
       "      <th>Organic_carbon</th>\n",
       "      <th>Trihalomethanes</th>\n",
       "      <th>Turbidity</th>\n",
       "      <th>Potability</th>\n",
       "    </tr>\n",
       "  </thead>\n",
       "  <tbody>\n",
       "    <tr>\n",
       "      <th>1</th>\n",
       "      <td>3.716080</td>\n",
       "      <td>129.422921</td>\n",
       "      <td>18630.057858</td>\n",
       "      <td>6.635246</td>\n",
       "      <td>NaN</td>\n",
       "      <td>592.885359</td>\n",
       "      <td>15.180013</td>\n",
       "      <td>56.329076</td>\n",
       "      <td>4.500656</td>\n",
       "      <td>0</td>\n",
       "    </tr>\n",
       "    <tr>\n",
       "      <th>2</th>\n",
       "      <td>8.099124</td>\n",
       "      <td>224.236259</td>\n",
       "      <td>19909.541732</td>\n",
       "      <td>9.275884</td>\n",
       "      <td>NaN</td>\n",
       "      <td>418.606213</td>\n",
       "      <td>16.868637</td>\n",
       "      <td>66.420093</td>\n",
       "      <td>3.055934</td>\n",
       "      <td>0</td>\n",
       "    </tr>\n",
       "    <tr>\n",
       "      <th>11</th>\n",
       "      <td>7.974522</td>\n",
       "      <td>218.693300</td>\n",
       "      <td>18767.656682</td>\n",
       "      <td>8.110385</td>\n",
       "      <td>NaN</td>\n",
       "      <td>364.098230</td>\n",
       "      <td>14.525746</td>\n",
       "      <td>76.485911</td>\n",
       "      <td>4.011718</td>\n",
       "      <td>0</td>\n",
       "    </tr>\n",
       "    <tr>\n",
       "      <th>14</th>\n",
       "      <td>7.496232</td>\n",
       "      <td>205.344982</td>\n",
       "      <td>28388.004887</td>\n",
       "      <td>5.072558</td>\n",
       "      <td>NaN</td>\n",
       "      <td>444.645352</td>\n",
       "      <td>13.228311</td>\n",
       "      <td>70.300213</td>\n",
       "      <td>4.777382</td>\n",
       "      <td>0</td>\n",
       "    </tr>\n",
       "    <tr>\n",
       "      <th>16</th>\n",
       "      <td>7.051786</td>\n",
       "      <td>211.049406</td>\n",
       "      <td>30980.600787</td>\n",
       "      <td>10.094796</td>\n",
       "      <td>NaN</td>\n",
       "      <td>315.141267</td>\n",
       "      <td>20.397022</td>\n",
       "      <td>56.651604</td>\n",
       "      <td>4.268429</td>\n",
       "      <td>0</td>\n",
       "    </tr>\n",
       "    <tr>\n",
       "      <th>...</th>\n",
       "      <td>...</td>\n",
       "      <td>...</td>\n",
       "      <td>...</td>\n",
       "      <td>...</td>\n",
       "      <td>...</td>\n",
       "      <td>...</td>\n",
       "      <td>...</td>\n",
       "      <td>...</td>\n",
       "      <td>...</td>\n",
       "      <td>...</td>\n",
       "    </tr>\n",
       "    <tr>\n",
       "      <th>3266</th>\n",
       "      <td>8.372910</td>\n",
       "      <td>169.087052</td>\n",
       "      <td>14622.745494</td>\n",
       "      <td>7.547984</td>\n",
       "      <td>NaN</td>\n",
       "      <td>464.525552</td>\n",
       "      <td>11.083027</td>\n",
       "      <td>38.435151</td>\n",
       "      <td>4.906358</td>\n",
       "      <td>1</td>\n",
       "    </tr>\n",
       "    <tr>\n",
       "      <th>3272</th>\n",
       "      <td>7.808856</td>\n",
       "      <td>193.553212</td>\n",
       "      <td>17329.802160</td>\n",
       "      <td>8.061362</td>\n",
       "      <td>NaN</td>\n",
       "      <td>392.449580</td>\n",
       "      <td>19.903225</td>\n",
       "      <td>NaN</td>\n",
       "      <td>2.798243</td>\n",
       "      <td>1</td>\n",
       "    </tr>\n",
       "    <tr>\n",
       "      <th>3273</th>\n",
       "      <td>9.419510</td>\n",
       "      <td>175.762646</td>\n",
       "      <td>33155.578218</td>\n",
       "      <td>7.350233</td>\n",
       "      <td>NaN</td>\n",
       "      <td>432.044783</td>\n",
       "      <td>11.039070</td>\n",
       "      <td>69.845400</td>\n",
       "      <td>3.298875</td>\n",
       "      <td>1</td>\n",
       "    </tr>\n",
       "    <tr>\n",
       "      <th>3274</th>\n",
       "      <td>5.126763</td>\n",
       "      <td>230.603758</td>\n",
       "      <td>11983.869376</td>\n",
       "      <td>6.303357</td>\n",
       "      <td>NaN</td>\n",
       "      <td>402.883113</td>\n",
       "      <td>11.168946</td>\n",
       "      <td>77.488213</td>\n",
       "      <td>4.708658</td>\n",
       "      <td>1</td>\n",
       "    </tr>\n",
       "    <tr>\n",
       "      <th>3275</th>\n",
       "      <td>7.874671</td>\n",
       "      <td>195.102299</td>\n",
       "      <td>17404.177061</td>\n",
       "      <td>7.509306</td>\n",
       "      <td>NaN</td>\n",
       "      <td>327.459760</td>\n",
       "      <td>16.140368</td>\n",
       "      <td>78.698446</td>\n",
       "      <td>2.309149</td>\n",
       "      <td>1</td>\n",
       "    </tr>\n",
       "  </tbody>\n",
       "</table>\n",
       "<p>781 rows × 10 columns</p>\n",
       "</div>"
      ],
      "text/plain": [
       "            ph    Hardness        Solids  Chloramines  Sulfate  Conductivity  \\\n",
       "1     3.716080  129.422921  18630.057858     6.635246      NaN    592.885359   \n",
       "2     8.099124  224.236259  19909.541732     9.275884      NaN    418.606213   \n",
       "11    7.974522  218.693300  18767.656682     8.110385      NaN    364.098230   \n",
       "14    7.496232  205.344982  28388.004887     5.072558      NaN    444.645352   \n",
       "16    7.051786  211.049406  30980.600787    10.094796      NaN    315.141267   \n",
       "...        ...         ...           ...          ...      ...           ...   \n",
       "3266  8.372910  169.087052  14622.745494     7.547984      NaN    464.525552   \n",
       "3272  7.808856  193.553212  17329.802160     8.061362      NaN    392.449580   \n",
       "3273  9.419510  175.762646  33155.578218     7.350233      NaN    432.044783   \n",
       "3274  5.126763  230.603758  11983.869376     6.303357      NaN    402.883113   \n",
       "3275  7.874671  195.102299  17404.177061     7.509306      NaN    327.459760   \n",
       "\n",
       "      Organic_carbon  Trihalomethanes  Turbidity  Potability  \n",
       "1          15.180013        56.329076   4.500656           0  \n",
       "2          16.868637        66.420093   3.055934           0  \n",
       "11         14.525746        76.485911   4.011718           0  \n",
       "14         13.228311        70.300213   4.777382           0  \n",
       "16         20.397022        56.651604   4.268429           0  \n",
       "...              ...              ...        ...         ...  \n",
       "3266       11.083027        38.435151   4.906358           1  \n",
       "3272       19.903225              NaN   2.798243           1  \n",
       "3273       11.039070        69.845400   3.298875           1  \n",
       "3274       11.168946        77.488213   4.708658           1  \n",
       "3275       16.140368        78.698446   2.309149           1  \n",
       "\n",
       "[781 rows x 10 columns]"
      ]
     },
     "execution_count": 8,
     "metadata": {},
     "output_type": "execute_result"
    }
   ],
   "source": [
    "df.loc[df.Sulfate.isna()]"
   ]
  },
  {
   "cell_type": "code",
   "execution_count": 9,
   "id": "28074982",
   "metadata": {
    "execution": {
     "iopub.execute_input": "2022-03-28T15:25:24.083499Z",
     "iopub.status.busy": "2022-03-28T15:25:24.082919Z",
     "iopub.status.idle": "2022-03-28T15:25:24.100110Z",
     "shell.execute_reply": "2022-03-28T15:25:24.100596Z",
     "shell.execute_reply.started": "2022-03-28T15:24:23.676008Z"
    },
    "papermill": {
     "duration": 0.072994,
     "end_time": "2022-03-28T15:25:24.100761",
     "exception": false,
     "start_time": "2022-03-28T15:25:24.027767",
     "status": "completed"
    },
    "tags": []
   },
   "outputs": [
    {
     "data": {
      "text/html": [
       "<div>\n",
       "<style scoped>\n",
       "    .dataframe tbody tr th:only-of-type {\n",
       "        vertical-align: middle;\n",
       "    }\n",
       "\n",
       "    .dataframe tbody tr th {\n",
       "        vertical-align: top;\n",
       "    }\n",
       "\n",
       "    .dataframe thead th {\n",
       "        text-align: right;\n",
       "    }\n",
       "</style>\n",
       "<table border=\"1\" class=\"dataframe\">\n",
       "  <thead>\n",
       "    <tr style=\"text-align: right;\">\n",
       "      <th></th>\n",
       "      <th>ph</th>\n",
       "      <th>Hardness</th>\n",
       "      <th>Solids</th>\n",
       "      <th>Chloramines</th>\n",
       "      <th>Sulfate</th>\n",
       "      <th>Conductivity</th>\n",
       "      <th>Organic_carbon</th>\n",
       "      <th>Trihalomethanes</th>\n",
       "      <th>Turbidity</th>\n",
       "      <th>Potability</th>\n",
       "    </tr>\n",
       "  </thead>\n",
       "  <tbody>\n",
       "    <tr>\n",
       "      <th>62</th>\n",
       "      <td>NaN</td>\n",
       "      <td>229.485694</td>\n",
       "      <td>35729.692709</td>\n",
       "      <td>8.810843</td>\n",
       "      <td>384.943779</td>\n",
       "      <td>296.397547</td>\n",
       "      <td>16.927092</td>\n",
       "      <td>NaN</td>\n",
       "      <td>3.855602</td>\n",
       "      <td>0</td>\n",
       "    </tr>\n",
       "    <tr>\n",
       "      <th>81</th>\n",
       "      <td>5.519126</td>\n",
       "      <td>168.728583</td>\n",
       "      <td>12531.601921</td>\n",
       "      <td>7.730723</td>\n",
       "      <td>NaN</td>\n",
       "      <td>443.570372</td>\n",
       "      <td>18.099078</td>\n",
       "      <td>NaN</td>\n",
       "      <td>3.758996</td>\n",
       "      <td>0</td>\n",
       "    </tr>\n",
       "    <tr>\n",
       "      <th>110</th>\n",
       "      <td>9.286155</td>\n",
       "      <td>222.661551</td>\n",
       "      <td>12311.268366</td>\n",
       "      <td>7.289866</td>\n",
       "      <td>332.239359</td>\n",
       "      <td>353.740100</td>\n",
       "      <td>14.171763</td>\n",
       "      <td>NaN</td>\n",
       "      <td>5.239982</td>\n",
       "      <td>0</td>\n",
       "    </tr>\n",
       "    <tr>\n",
       "      <th>118</th>\n",
       "      <td>7.397413</td>\n",
       "      <td>122.541040</td>\n",
       "      <td>8855.114121</td>\n",
       "      <td>6.888689</td>\n",
       "      <td>241.607532</td>\n",
       "      <td>489.851600</td>\n",
       "      <td>13.365906</td>\n",
       "      <td>NaN</td>\n",
       "      <td>3.149158</td>\n",
       "      <td>0</td>\n",
       "    </tr>\n",
       "    <tr>\n",
       "      <th>119</th>\n",
       "      <td>7.812804</td>\n",
       "      <td>196.583886</td>\n",
       "      <td>42550.841816</td>\n",
       "      <td>7.334648</td>\n",
       "      <td>NaN</td>\n",
       "      <td>442.545775</td>\n",
       "      <td>14.666917</td>\n",
       "      <td>NaN</td>\n",
       "      <td>6.204846</td>\n",
       "      <td>0</td>\n",
       "    </tr>\n",
       "    <tr>\n",
       "      <th>...</th>\n",
       "      <td>...</td>\n",
       "      <td>...</td>\n",
       "      <td>...</td>\n",
       "      <td>...</td>\n",
       "      <td>...</td>\n",
       "      <td>...</td>\n",
       "      <td>...</td>\n",
       "      <td>...</td>\n",
       "      <td>...</td>\n",
       "      <td>...</td>\n",
       "    </tr>\n",
       "    <tr>\n",
       "      <th>3174</th>\n",
       "      <td>6.698154</td>\n",
       "      <td>198.286268</td>\n",
       "      <td>34675.862845</td>\n",
       "      <td>6.263602</td>\n",
       "      <td>360.232834</td>\n",
       "      <td>430.935009</td>\n",
       "      <td>12.176678</td>\n",
       "      <td>NaN</td>\n",
       "      <td>3.758180</td>\n",
       "      <td>1</td>\n",
       "    </tr>\n",
       "    <tr>\n",
       "      <th>3185</th>\n",
       "      <td>6.110022</td>\n",
       "      <td>234.800957</td>\n",
       "      <td>16663.539074</td>\n",
       "      <td>5.984536</td>\n",
       "      <td>348.055211</td>\n",
       "      <td>437.892115</td>\n",
       "      <td>10.059523</td>\n",
       "      <td>NaN</td>\n",
       "      <td>2.817780</td>\n",
       "      <td>1</td>\n",
       "    </tr>\n",
       "    <tr>\n",
       "      <th>3219</th>\n",
       "      <td>6.417716</td>\n",
       "      <td>209.702425</td>\n",
       "      <td>31974.481631</td>\n",
       "      <td>7.263425</td>\n",
       "      <td>321.382124</td>\n",
       "      <td>289.450118</td>\n",
       "      <td>11.369071</td>\n",
       "      <td>NaN</td>\n",
       "      <td>4.210327</td>\n",
       "      <td>1</td>\n",
       "    </tr>\n",
       "    <tr>\n",
       "      <th>3259</th>\n",
       "      <td>9.271355</td>\n",
       "      <td>181.259617</td>\n",
       "      <td>16540.979048</td>\n",
       "      <td>7.022499</td>\n",
       "      <td>309.238865</td>\n",
       "      <td>487.692788</td>\n",
       "      <td>13.228441</td>\n",
       "      <td>NaN</td>\n",
       "      <td>4.333953</td>\n",
       "      <td>1</td>\n",
       "    </tr>\n",
       "    <tr>\n",
       "      <th>3272</th>\n",
       "      <td>7.808856</td>\n",
       "      <td>193.553212</td>\n",
       "      <td>17329.802160</td>\n",
       "      <td>8.061362</td>\n",
       "      <td>NaN</td>\n",
       "      <td>392.449580</td>\n",
       "      <td>19.903225</td>\n",
       "      <td>NaN</td>\n",
       "      <td>2.798243</td>\n",
       "      <td>1</td>\n",
       "    </tr>\n",
       "  </tbody>\n",
       "</table>\n",
       "<p>162 rows × 10 columns</p>\n",
       "</div>"
      ],
      "text/plain": [
       "            ph    Hardness        Solids  Chloramines     Sulfate  \\\n",
       "62         NaN  229.485694  35729.692709     8.810843  384.943779   \n",
       "81    5.519126  168.728583  12531.601921     7.730723         NaN   \n",
       "110   9.286155  222.661551  12311.268366     7.289866  332.239359   \n",
       "118   7.397413  122.541040   8855.114121     6.888689  241.607532   \n",
       "119   7.812804  196.583886  42550.841816     7.334648         NaN   \n",
       "...        ...         ...           ...          ...         ...   \n",
       "3174  6.698154  198.286268  34675.862845     6.263602  360.232834   \n",
       "3185  6.110022  234.800957  16663.539074     5.984536  348.055211   \n",
       "3219  6.417716  209.702425  31974.481631     7.263425  321.382124   \n",
       "3259  9.271355  181.259617  16540.979048     7.022499  309.238865   \n",
       "3272  7.808856  193.553212  17329.802160     8.061362         NaN   \n",
       "\n",
       "      Conductivity  Organic_carbon  Trihalomethanes  Turbidity  Potability  \n",
       "62      296.397547       16.927092              NaN   3.855602           0  \n",
       "81      443.570372       18.099078              NaN   3.758996           0  \n",
       "110     353.740100       14.171763              NaN   5.239982           0  \n",
       "118     489.851600       13.365906              NaN   3.149158           0  \n",
       "119     442.545775       14.666917              NaN   6.204846           0  \n",
       "...            ...             ...              ...        ...         ...  \n",
       "3174    430.935009       12.176678              NaN   3.758180           1  \n",
       "3185    437.892115       10.059523              NaN   2.817780           1  \n",
       "3219    289.450118       11.369071              NaN   4.210327           1  \n",
       "3259    487.692788       13.228441              NaN   4.333953           1  \n",
       "3272    392.449580       19.903225              NaN   2.798243           1  \n",
       "\n",
       "[162 rows x 10 columns]"
      ]
     },
     "execution_count": 9,
     "metadata": {},
     "output_type": "execute_result"
    }
   ],
   "source": [
    "df.loc[df.Trihalomethanes.isna()]"
   ]
  },
  {
   "cell_type": "markdown",
   "id": "f38d5310",
   "metadata": {
    "papermill": {
     "duration": 0.054055,
     "end_time": "2022-03-28T15:25:24.208537",
     "exception": false,
     "start_time": "2022-03-28T15:25:24.154482",
     "status": "completed"
    },
    "tags": []
   },
   "source": [
    "Remove rows with too many missing values:"
   ]
  },
  {
   "cell_type": "code",
   "execution_count": 10,
   "id": "36e96400",
   "metadata": {
    "execution": {
     "iopub.execute_input": "2022-03-28T15:25:24.323200Z",
     "iopub.status.busy": "2022-03-28T15:25:24.322581Z",
     "iopub.status.idle": "2022-03-28T15:25:24.344696Z",
     "shell.execute_reply": "2022-03-28T15:25:24.345231Z",
     "shell.execute_reply.started": "2022-03-28T15:24:23.709454Z"
    },
    "papermill": {
     "duration": 0.084187,
     "end_time": "2022-03-28T15:25:24.345401",
     "exception": false,
     "start_time": "2022-03-28T15:25:24.261214",
     "status": "completed"
    },
    "tags": []
   },
   "outputs": [
    {
     "data": {
      "text/html": [
       "<div>\n",
       "<style scoped>\n",
       "    .dataframe tbody tr th:only-of-type {\n",
       "        vertical-align: middle;\n",
       "    }\n",
       "\n",
       "    .dataframe tbody tr th {\n",
       "        vertical-align: top;\n",
       "    }\n",
       "\n",
       "    .dataframe thead th {\n",
       "        text-align: right;\n",
       "    }\n",
       "</style>\n",
       "<table border=\"1\" class=\"dataframe\">\n",
       "  <thead>\n",
       "    <tr style=\"text-align: right;\">\n",
       "      <th></th>\n",
       "      <th>ph</th>\n",
       "      <th>Hardness</th>\n",
       "      <th>Solids</th>\n",
       "      <th>Chloramines</th>\n",
       "      <th>Sulfate</th>\n",
       "      <th>Conductivity</th>\n",
       "      <th>Organic_carbon</th>\n",
       "      <th>Trihalomethanes</th>\n",
       "      <th>Turbidity</th>\n",
       "      <th>Potability</th>\n",
       "    </tr>\n",
       "  </thead>\n",
       "  <tbody>\n",
       "    <tr>\n",
       "      <th>0</th>\n",
       "      <td>NaN</td>\n",
       "      <td>204.890455</td>\n",
       "      <td>20791.318981</td>\n",
       "      <td>7.300212</td>\n",
       "      <td>368.516441</td>\n",
       "      <td>564.308654</td>\n",
       "      <td>10.379783</td>\n",
       "      <td>86.990970</td>\n",
       "      <td>2.963135</td>\n",
       "      <td>0</td>\n",
       "    </tr>\n",
       "    <tr>\n",
       "      <th>1</th>\n",
       "      <td>3.716080</td>\n",
       "      <td>129.422921</td>\n",
       "      <td>18630.057858</td>\n",
       "      <td>6.635246</td>\n",
       "      <td>NaN</td>\n",
       "      <td>592.885359</td>\n",
       "      <td>15.180013</td>\n",
       "      <td>56.329076</td>\n",
       "      <td>4.500656</td>\n",
       "      <td>0</td>\n",
       "    </tr>\n",
       "    <tr>\n",
       "      <th>2</th>\n",
       "      <td>8.099124</td>\n",
       "      <td>224.236259</td>\n",
       "      <td>19909.541732</td>\n",
       "      <td>9.275884</td>\n",
       "      <td>NaN</td>\n",
       "      <td>418.606213</td>\n",
       "      <td>16.868637</td>\n",
       "      <td>66.420093</td>\n",
       "      <td>3.055934</td>\n",
       "      <td>0</td>\n",
       "    </tr>\n",
       "    <tr>\n",
       "      <th>8</th>\n",
       "      <td>NaN</td>\n",
       "      <td>118.988579</td>\n",
       "      <td>14285.583854</td>\n",
       "      <td>7.804174</td>\n",
       "      <td>268.646941</td>\n",
       "      <td>389.375566</td>\n",
       "      <td>12.706049</td>\n",
       "      <td>53.928846</td>\n",
       "      <td>3.595017</td>\n",
       "      <td>0</td>\n",
       "    </tr>\n",
       "    <tr>\n",
       "      <th>11</th>\n",
       "      <td>7.974522</td>\n",
       "      <td>218.693300</td>\n",
       "      <td>18767.656682</td>\n",
       "      <td>8.110385</td>\n",
       "      <td>NaN</td>\n",
       "      <td>364.098230</td>\n",
       "      <td>14.525746</td>\n",
       "      <td>76.485911</td>\n",
       "      <td>4.011718</td>\n",
       "      <td>0</td>\n",
       "    </tr>\n",
       "    <tr>\n",
       "      <th>...</th>\n",
       "      <td>...</td>\n",
       "      <td>...</td>\n",
       "      <td>...</td>\n",
       "      <td>...</td>\n",
       "      <td>...</td>\n",
       "      <td>...</td>\n",
       "      <td>...</td>\n",
       "      <td>...</td>\n",
       "      <td>...</td>\n",
       "      <td>...</td>\n",
       "    </tr>\n",
       "    <tr>\n",
       "      <th>3259</th>\n",
       "      <td>9.271355</td>\n",
       "      <td>181.259617</td>\n",
       "      <td>16540.979048</td>\n",
       "      <td>7.022499</td>\n",
       "      <td>309.238865</td>\n",
       "      <td>487.692788</td>\n",
       "      <td>13.228441</td>\n",
       "      <td>NaN</td>\n",
       "      <td>4.333953</td>\n",
       "      <td>1</td>\n",
       "    </tr>\n",
       "    <tr>\n",
       "      <th>3266</th>\n",
       "      <td>8.372910</td>\n",
       "      <td>169.087052</td>\n",
       "      <td>14622.745494</td>\n",
       "      <td>7.547984</td>\n",
       "      <td>NaN</td>\n",
       "      <td>464.525552</td>\n",
       "      <td>11.083027</td>\n",
       "      <td>38.435151</td>\n",
       "      <td>4.906358</td>\n",
       "      <td>1</td>\n",
       "    </tr>\n",
       "    <tr>\n",
       "      <th>3273</th>\n",
       "      <td>9.419510</td>\n",
       "      <td>175.762646</td>\n",
       "      <td>33155.578218</td>\n",
       "      <td>7.350233</td>\n",
       "      <td>NaN</td>\n",
       "      <td>432.044783</td>\n",
       "      <td>11.039070</td>\n",
       "      <td>69.845400</td>\n",
       "      <td>3.298875</td>\n",
       "      <td>1</td>\n",
       "    </tr>\n",
       "    <tr>\n",
       "      <th>3274</th>\n",
       "      <td>5.126763</td>\n",
       "      <td>230.603758</td>\n",
       "      <td>11983.869376</td>\n",
       "      <td>6.303357</td>\n",
       "      <td>NaN</td>\n",
       "      <td>402.883113</td>\n",
       "      <td>11.168946</td>\n",
       "      <td>77.488213</td>\n",
       "      <td>4.708658</td>\n",
       "      <td>1</td>\n",
       "    </tr>\n",
       "    <tr>\n",
       "      <th>3275</th>\n",
       "      <td>7.874671</td>\n",
       "      <td>195.102299</td>\n",
       "      <td>17404.177061</td>\n",
       "      <td>7.509306</td>\n",
       "      <td>NaN</td>\n",
       "      <td>327.459760</td>\n",
       "      <td>16.140368</td>\n",
       "      <td>78.698446</td>\n",
       "      <td>2.309149</td>\n",
       "      <td>1</td>\n",
       "    </tr>\n",
       "  </tbody>\n",
       "</table>\n",
       "<p>1105 rows × 10 columns</p>\n",
       "</div>"
      ],
      "text/plain": [
       "            ph    Hardness        Solids  Chloramines     Sulfate  \\\n",
       "0          NaN  204.890455  20791.318981     7.300212  368.516441   \n",
       "1     3.716080  129.422921  18630.057858     6.635246         NaN   \n",
       "2     8.099124  224.236259  19909.541732     9.275884         NaN   \n",
       "8          NaN  118.988579  14285.583854     7.804174  268.646941   \n",
       "11    7.974522  218.693300  18767.656682     8.110385         NaN   \n",
       "...        ...         ...           ...          ...         ...   \n",
       "3259  9.271355  181.259617  16540.979048     7.022499  309.238865   \n",
       "3266  8.372910  169.087052  14622.745494     7.547984         NaN   \n",
       "3273  9.419510  175.762646  33155.578218     7.350233         NaN   \n",
       "3274  5.126763  230.603758  11983.869376     6.303357         NaN   \n",
       "3275  7.874671  195.102299  17404.177061     7.509306         NaN   \n",
       "\n",
       "      Conductivity  Organic_carbon  Trihalomethanes  Turbidity  Potability  \n",
       "0       564.308654       10.379783        86.990970   2.963135           0  \n",
       "1       592.885359       15.180013        56.329076   4.500656           0  \n",
       "2       418.606213       16.868637        66.420093   3.055934           0  \n",
       "8       389.375566       12.706049        53.928846   3.595017           0  \n",
       "11      364.098230       14.525746        76.485911   4.011718           0  \n",
       "...            ...             ...              ...        ...         ...  \n",
       "3259    487.692788       13.228441              NaN   4.333953           1  \n",
       "3266    464.525552       11.083027        38.435151   4.906358           1  \n",
       "3273    432.044783       11.039070        69.845400   3.298875           1  \n",
       "3274    402.883113       11.168946        77.488213   4.708658           1  \n",
       "3275    327.459760       16.140368        78.698446   2.309149           1  \n",
       "\n",
       "[1105 rows x 10 columns]"
      ]
     },
     "execution_count": 10,
     "metadata": {},
     "output_type": "execute_result"
    }
   ],
   "source": [
    "df = df.drop(df[(df.ph.isna()) & (df.Sulfate.isna()) & (df.Trihalomethanes.isna())].index)\n",
    "df = df.drop(df[(df.ph.isna()) & (df.Sulfate.isna())].index)\n",
    "df = df.drop(df[(df.ph.isna()) & (df.Trihalomethanes.isna())].index)\n",
    "df = df.drop(df[(df.Sulfate.isna()) & (df.Trihalomethanes.isna())].index)\n",
    "df.loc[df.isna().any(axis=1)]"
   ]
  },
  {
   "cell_type": "markdown",
   "id": "cba7aa31",
   "metadata": {
    "papermill": {
     "duration": 0.054286,
     "end_time": "2022-03-28T15:25:24.454999",
     "exception": false,
     "start_time": "2022-03-28T15:25:24.400713",
     "status": "completed"
    },
    "tags": []
   },
   "source": [
    "Fill missing values with the average value of the column:"
   ]
  },
  {
   "cell_type": "code",
   "execution_count": 11,
   "id": "bd0bb896",
   "metadata": {
    "execution": {
     "iopub.execute_input": "2022-03-28T15:25:24.566204Z",
     "iopub.status.busy": "2022-03-28T15:25:24.565576Z",
     "iopub.status.idle": "2022-03-28T15:25:24.585155Z",
     "shell.execute_reply": "2022-03-28T15:25:24.585745Z",
     "shell.execute_reply.started": "2022-03-28T15:24:23.751161Z"
    },
    "papermill": {
     "duration": 0.07686,
     "end_time": "2022-03-28T15:25:24.585919",
     "exception": false,
     "start_time": "2022-03-28T15:25:24.509059",
     "status": "completed"
    },
    "tags": []
   },
   "outputs": [
    {
     "data": {
      "text/html": [
       "<div>\n",
       "<style scoped>\n",
       "    .dataframe tbody tr th:only-of-type {\n",
       "        vertical-align: middle;\n",
       "    }\n",
       "\n",
       "    .dataframe tbody tr th {\n",
       "        vertical-align: top;\n",
       "    }\n",
       "\n",
       "    .dataframe thead th {\n",
       "        text-align: right;\n",
       "    }\n",
       "</style>\n",
       "<table border=\"1\" class=\"dataframe\">\n",
       "  <thead>\n",
       "    <tr style=\"text-align: right;\">\n",
       "      <th></th>\n",
       "      <th>ph</th>\n",
       "      <th>Hardness</th>\n",
       "      <th>Solids</th>\n",
       "      <th>Chloramines</th>\n",
       "      <th>Sulfate</th>\n",
       "      <th>Conductivity</th>\n",
       "      <th>Organic_carbon</th>\n",
       "      <th>Trihalomethanes</th>\n",
       "      <th>Turbidity</th>\n",
       "      <th>Potability</th>\n",
       "    </tr>\n",
       "  </thead>\n",
       "  <tbody>\n",
       "    <tr>\n",
       "      <th>0</th>\n",
       "      <td>7.078708</td>\n",
       "      <td>204.890455</td>\n",
       "      <td>20791.318981</td>\n",
       "      <td>7.300212</td>\n",
       "      <td>368.516441</td>\n",
       "      <td>564.308654</td>\n",
       "      <td>10.379783</td>\n",
       "      <td>86.990970</td>\n",
       "      <td>2.963135</td>\n",
       "      <td>0</td>\n",
       "    </tr>\n",
       "    <tr>\n",
       "      <th>1</th>\n",
       "      <td>3.716080</td>\n",
       "      <td>129.422921</td>\n",
       "      <td>18630.057858</td>\n",
       "      <td>6.635246</td>\n",
       "      <td>333.699670</td>\n",
       "      <td>592.885359</td>\n",
       "      <td>15.180013</td>\n",
       "      <td>56.329076</td>\n",
       "      <td>4.500656</td>\n",
       "      <td>0</td>\n",
       "    </tr>\n",
       "    <tr>\n",
       "      <th>2</th>\n",
       "      <td>8.099124</td>\n",
       "      <td>224.236259</td>\n",
       "      <td>19909.541732</td>\n",
       "      <td>9.275884</td>\n",
       "      <td>333.699670</td>\n",
       "      <td>418.606213</td>\n",
       "      <td>16.868637</td>\n",
       "      <td>66.420093</td>\n",
       "      <td>3.055934</td>\n",
       "      <td>0</td>\n",
       "    </tr>\n",
       "    <tr>\n",
       "      <th>3</th>\n",
       "      <td>8.316766</td>\n",
       "      <td>214.373394</td>\n",
       "      <td>22018.417441</td>\n",
       "      <td>8.059332</td>\n",
       "      <td>356.886136</td>\n",
       "      <td>363.266516</td>\n",
       "      <td>18.436524</td>\n",
       "      <td>100.341674</td>\n",
       "      <td>4.628771</td>\n",
       "      <td>0</td>\n",
       "    </tr>\n",
       "    <tr>\n",
       "      <th>4</th>\n",
       "      <td>9.092223</td>\n",
       "      <td>181.101509</td>\n",
       "      <td>17978.986339</td>\n",
       "      <td>6.546600</td>\n",
       "      <td>310.135738</td>\n",
       "      <td>398.410813</td>\n",
       "      <td>11.558279</td>\n",
       "      <td>31.997993</td>\n",
       "      <td>4.075075</td>\n",
       "      <td>0</td>\n",
       "    </tr>\n",
       "    <tr>\n",
       "      <th>...</th>\n",
       "      <td>...</td>\n",
       "      <td>...</td>\n",
       "      <td>...</td>\n",
       "      <td>...</td>\n",
       "      <td>...</td>\n",
       "      <td>...</td>\n",
       "      <td>...</td>\n",
       "      <td>...</td>\n",
       "      <td>...</td>\n",
       "      <td>...</td>\n",
       "    </tr>\n",
       "    <tr>\n",
       "      <th>3270</th>\n",
       "      <td>6.069616</td>\n",
       "      <td>186.659040</td>\n",
       "      <td>26138.780191</td>\n",
       "      <td>7.747547</td>\n",
       "      <td>345.700257</td>\n",
       "      <td>415.886955</td>\n",
       "      <td>12.067620</td>\n",
       "      <td>60.419921</td>\n",
       "      <td>3.669712</td>\n",
       "      <td>1</td>\n",
       "    </tr>\n",
       "    <tr>\n",
       "      <th>3271</th>\n",
       "      <td>4.668102</td>\n",
       "      <td>193.681735</td>\n",
       "      <td>47580.991603</td>\n",
       "      <td>7.166639</td>\n",
       "      <td>359.948574</td>\n",
       "      <td>526.424171</td>\n",
       "      <td>13.894419</td>\n",
       "      <td>66.687695</td>\n",
       "      <td>4.435821</td>\n",
       "      <td>1</td>\n",
       "    </tr>\n",
       "    <tr>\n",
       "      <th>3273</th>\n",
       "      <td>9.419510</td>\n",
       "      <td>175.762646</td>\n",
       "      <td>33155.578218</td>\n",
       "      <td>7.350233</td>\n",
       "      <td>333.699670</td>\n",
       "      <td>432.044783</td>\n",
       "      <td>11.039070</td>\n",
       "      <td>69.845400</td>\n",
       "      <td>3.298875</td>\n",
       "      <td>1</td>\n",
       "    </tr>\n",
       "    <tr>\n",
       "      <th>3274</th>\n",
       "      <td>5.126763</td>\n",
       "      <td>230.603758</td>\n",
       "      <td>11983.869376</td>\n",
       "      <td>6.303357</td>\n",
       "      <td>333.699670</td>\n",
       "      <td>402.883113</td>\n",
       "      <td>11.168946</td>\n",
       "      <td>77.488213</td>\n",
       "      <td>4.708658</td>\n",
       "      <td>1</td>\n",
       "    </tr>\n",
       "    <tr>\n",
       "      <th>3275</th>\n",
       "      <td>7.874671</td>\n",
       "      <td>195.102299</td>\n",
       "      <td>17404.177061</td>\n",
       "      <td>7.509306</td>\n",
       "      <td>333.699670</td>\n",
       "      <td>327.459760</td>\n",
       "      <td>16.140368</td>\n",
       "      <td>78.698446</td>\n",
       "      <td>2.309149</td>\n",
       "      <td>1</td>\n",
       "    </tr>\n",
       "  </tbody>\n",
       "</table>\n",
       "<p>3116 rows × 10 columns</p>\n",
       "</div>"
      ],
      "text/plain": [
       "            ph    Hardness        Solids  Chloramines     Sulfate  \\\n",
       "0     7.078708  204.890455  20791.318981     7.300212  368.516441   \n",
       "1     3.716080  129.422921  18630.057858     6.635246  333.699670   \n",
       "2     8.099124  224.236259  19909.541732     9.275884  333.699670   \n",
       "3     8.316766  214.373394  22018.417441     8.059332  356.886136   \n",
       "4     9.092223  181.101509  17978.986339     6.546600  310.135738   \n",
       "...        ...         ...           ...          ...         ...   \n",
       "3270  6.069616  186.659040  26138.780191     7.747547  345.700257   \n",
       "3271  4.668102  193.681735  47580.991603     7.166639  359.948574   \n",
       "3273  9.419510  175.762646  33155.578218     7.350233  333.699670   \n",
       "3274  5.126763  230.603758  11983.869376     6.303357  333.699670   \n",
       "3275  7.874671  195.102299  17404.177061     7.509306  333.699670   \n",
       "\n",
       "      Conductivity  Organic_carbon  Trihalomethanes  Turbidity  Potability  \n",
       "0       564.308654       10.379783        86.990970   2.963135           0  \n",
       "1       592.885359       15.180013        56.329076   4.500656           0  \n",
       "2       418.606213       16.868637        66.420093   3.055934           0  \n",
       "3       363.266516       18.436524       100.341674   4.628771           0  \n",
       "4       398.410813       11.558279        31.997993   4.075075           0  \n",
       "...            ...             ...              ...        ...         ...  \n",
       "3270    415.886955       12.067620        60.419921   3.669712           1  \n",
       "3271    526.424171       13.894419        66.687695   4.435821           1  \n",
       "3273    432.044783       11.039070        69.845400   3.298875           1  \n",
       "3274    402.883113       11.168946        77.488213   4.708658           1  \n",
       "3275    327.459760       16.140368        78.698446   2.309149           1  \n",
       "\n",
       "[3116 rows x 10 columns]"
      ]
     },
     "execution_count": 11,
     "metadata": {},
     "output_type": "execute_result"
    }
   ],
   "source": [
    "df.fillna(df.mean(), inplace=True)\n",
    "df"
   ]
  },
  {
   "cell_type": "markdown",
   "id": "46fa70ba",
   "metadata": {
    "papermill": {
     "duration": 0.055315,
     "end_time": "2022-03-28T15:25:24.697144",
     "exception": false,
     "start_time": "2022-03-28T15:25:24.641829",
     "status": "completed"
    },
    "tags": []
   },
   "source": [
    "# Round Numerical Values"
   ]
  },
  {
   "cell_type": "code",
   "execution_count": 12,
   "id": "dba1a256",
   "metadata": {
    "execution": {
     "iopub.execute_input": "2022-03-28T15:25:24.815872Z",
     "iopub.status.busy": "2022-03-28T15:25:24.813924Z",
     "iopub.status.idle": "2022-03-28T15:25:24.836505Z",
     "shell.execute_reply": "2022-03-28T15:25:24.835991Z",
     "shell.execute_reply.started": "2022-03-28T15:24:23.785596Z"
    },
    "papermill": {
     "duration": 0.083529,
     "end_time": "2022-03-28T15:25:24.836643",
     "exception": false,
     "start_time": "2022-03-28T15:25:24.753114",
     "status": "completed"
    },
    "tags": []
   },
   "outputs": [
    {
     "data": {
      "text/html": [
       "<div>\n",
       "<style scoped>\n",
       "    .dataframe tbody tr th:only-of-type {\n",
       "        vertical-align: middle;\n",
       "    }\n",
       "\n",
       "    .dataframe tbody tr th {\n",
       "        vertical-align: top;\n",
       "    }\n",
       "\n",
       "    .dataframe thead th {\n",
       "        text-align: right;\n",
       "    }\n",
       "</style>\n",
       "<table border=\"1\" class=\"dataframe\">\n",
       "  <thead>\n",
       "    <tr style=\"text-align: right;\">\n",
       "      <th></th>\n",
       "      <th>ph</th>\n",
       "      <th>Hardness</th>\n",
       "      <th>Solids</th>\n",
       "      <th>Chloramines</th>\n",
       "      <th>Sulfate</th>\n",
       "      <th>Conductivity</th>\n",
       "      <th>Organic_carbon</th>\n",
       "      <th>Trihalomethanes</th>\n",
       "      <th>Turbidity</th>\n",
       "      <th>Potability</th>\n",
       "    </tr>\n",
       "  </thead>\n",
       "  <tbody>\n",
       "    <tr>\n",
       "      <th>0</th>\n",
       "      <td>7.079</td>\n",
       "      <td>204.890</td>\n",
       "      <td>20791.319</td>\n",
       "      <td>7.300</td>\n",
       "      <td>368.516</td>\n",
       "      <td>564.309</td>\n",
       "      <td>10.380</td>\n",
       "      <td>86.991</td>\n",
       "      <td>2.963</td>\n",
       "      <td>0</td>\n",
       "    </tr>\n",
       "    <tr>\n",
       "      <th>1</th>\n",
       "      <td>3.716</td>\n",
       "      <td>129.423</td>\n",
       "      <td>18630.058</td>\n",
       "      <td>6.635</td>\n",
       "      <td>333.700</td>\n",
       "      <td>592.885</td>\n",
       "      <td>15.180</td>\n",
       "      <td>56.329</td>\n",
       "      <td>4.501</td>\n",
       "      <td>0</td>\n",
       "    </tr>\n",
       "    <tr>\n",
       "      <th>2</th>\n",
       "      <td>8.099</td>\n",
       "      <td>224.236</td>\n",
       "      <td>19909.542</td>\n",
       "      <td>9.276</td>\n",
       "      <td>333.700</td>\n",
       "      <td>418.606</td>\n",
       "      <td>16.869</td>\n",
       "      <td>66.420</td>\n",
       "      <td>3.056</td>\n",
       "      <td>0</td>\n",
       "    </tr>\n",
       "    <tr>\n",
       "      <th>3</th>\n",
       "      <td>8.317</td>\n",
       "      <td>214.373</td>\n",
       "      <td>22018.417</td>\n",
       "      <td>8.059</td>\n",
       "      <td>356.886</td>\n",
       "      <td>363.267</td>\n",
       "      <td>18.437</td>\n",
       "      <td>100.342</td>\n",
       "      <td>4.629</td>\n",
       "      <td>0</td>\n",
       "    </tr>\n",
       "    <tr>\n",
       "      <th>4</th>\n",
       "      <td>9.092</td>\n",
       "      <td>181.102</td>\n",
       "      <td>17978.986</td>\n",
       "      <td>6.547</td>\n",
       "      <td>310.136</td>\n",
       "      <td>398.411</td>\n",
       "      <td>11.558</td>\n",
       "      <td>31.998</td>\n",
       "      <td>4.075</td>\n",
       "      <td>0</td>\n",
       "    </tr>\n",
       "    <tr>\n",
       "      <th>...</th>\n",
       "      <td>...</td>\n",
       "      <td>...</td>\n",
       "      <td>...</td>\n",
       "      <td>...</td>\n",
       "      <td>...</td>\n",
       "      <td>...</td>\n",
       "      <td>...</td>\n",
       "      <td>...</td>\n",
       "      <td>...</td>\n",
       "      <td>...</td>\n",
       "    </tr>\n",
       "    <tr>\n",
       "      <th>3270</th>\n",
       "      <td>6.070</td>\n",
       "      <td>186.659</td>\n",
       "      <td>26138.780</td>\n",
       "      <td>7.748</td>\n",
       "      <td>345.700</td>\n",
       "      <td>415.887</td>\n",
       "      <td>12.068</td>\n",
       "      <td>60.420</td>\n",
       "      <td>3.670</td>\n",
       "      <td>1</td>\n",
       "    </tr>\n",
       "    <tr>\n",
       "      <th>3271</th>\n",
       "      <td>4.668</td>\n",
       "      <td>193.682</td>\n",
       "      <td>47580.992</td>\n",
       "      <td>7.167</td>\n",
       "      <td>359.949</td>\n",
       "      <td>526.424</td>\n",
       "      <td>13.894</td>\n",
       "      <td>66.688</td>\n",
       "      <td>4.436</td>\n",
       "      <td>1</td>\n",
       "    </tr>\n",
       "    <tr>\n",
       "      <th>3273</th>\n",
       "      <td>9.420</td>\n",
       "      <td>175.763</td>\n",
       "      <td>33155.578</td>\n",
       "      <td>7.350</td>\n",
       "      <td>333.700</td>\n",
       "      <td>432.045</td>\n",
       "      <td>11.039</td>\n",
       "      <td>69.845</td>\n",
       "      <td>3.299</td>\n",
       "      <td>1</td>\n",
       "    </tr>\n",
       "    <tr>\n",
       "      <th>3274</th>\n",
       "      <td>5.127</td>\n",
       "      <td>230.604</td>\n",
       "      <td>11983.869</td>\n",
       "      <td>6.303</td>\n",
       "      <td>333.700</td>\n",
       "      <td>402.883</td>\n",
       "      <td>11.169</td>\n",
       "      <td>77.488</td>\n",
       "      <td>4.709</td>\n",
       "      <td>1</td>\n",
       "    </tr>\n",
       "    <tr>\n",
       "      <th>3275</th>\n",
       "      <td>7.875</td>\n",
       "      <td>195.102</td>\n",
       "      <td>17404.177</td>\n",
       "      <td>7.509</td>\n",
       "      <td>333.700</td>\n",
       "      <td>327.460</td>\n",
       "      <td>16.140</td>\n",
       "      <td>78.698</td>\n",
       "      <td>2.309</td>\n",
       "      <td>1</td>\n",
       "    </tr>\n",
       "  </tbody>\n",
       "</table>\n",
       "<p>3116 rows × 10 columns</p>\n",
       "</div>"
      ],
      "text/plain": [
       "         ph  Hardness     Solids  Chloramines  Sulfate  Conductivity  \\\n",
       "0     7.079   204.890  20791.319        7.300  368.516       564.309   \n",
       "1     3.716   129.423  18630.058        6.635  333.700       592.885   \n",
       "2     8.099   224.236  19909.542        9.276  333.700       418.606   \n",
       "3     8.317   214.373  22018.417        8.059  356.886       363.267   \n",
       "4     9.092   181.102  17978.986        6.547  310.136       398.411   \n",
       "...     ...       ...        ...          ...      ...           ...   \n",
       "3270  6.070   186.659  26138.780        7.748  345.700       415.887   \n",
       "3271  4.668   193.682  47580.992        7.167  359.949       526.424   \n",
       "3273  9.420   175.763  33155.578        7.350  333.700       432.045   \n",
       "3274  5.127   230.604  11983.869        6.303  333.700       402.883   \n",
       "3275  7.875   195.102  17404.177        7.509  333.700       327.460   \n",
       "\n",
       "      Organic_carbon  Trihalomethanes  Turbidity  Potability  \n",
       "0             10.380           86.991      2.963           0  \n",
       "1             15.180           56.329      4.501           0  \n",
       "2             16.869           66.420      3.056           0  \n",
       "3             18.437          100.342      4.629           0  \n",
       "4             11.558           31.998      4.075           0  \n",
       "...              ...              ...        ...         ...  \n",
       "3270          12.068           60.420      3.670           1  \n",
       "3271          13.894           66.688      4.436           1  \n",
       "3273          11.039           69.845      3.299           1  \n",
       "3274          11.169           77.488      4.709           1  \n",
       "3275          16.140           78.698      2.309           1  \n",
       "\n",
       "[3116 rows x 10 columns]"
      ]
     },
     "execution_count": 12,
     "metadata": {},
     "output_type": "execute_result"
    }
   ],
   "source": [
    "df = round(df, 3)\n",
    "df"
   ]
  },
  {
   "cell_type": "markdown",
   "id": "b03629fd",
   "metadata": {
    "papermill": {
     "duration": 0.056274,
     "end_time": "2022-03-28T15:25:24.949244",
     "exception": false,
     "start_time": "2022-03-28T15:25:24.892970",
     "status": "completed"
    },
    "tags": []
   },
   "source": [
    "## Explore Target Column - Potability"
   ]
  },
  {
   "cell_type": "markdown",
   "id": "23d4712b",
   "metadata": {
    "papermill": {
     "duration": 0.056855,
     "end_time": "2022-03-28T15:25:25.062353",
     "exception": false,
     "start_time": "2022-03-28T15:25:25.005498",
     "status": "completed"
    },
    "tags": []
   },
   "source": [
    "Indicates if water is safe for human consumption where 1 means Potable and 0 means Not potable."
   ]
  },
  {
   "cell_type": "code",
   "execution_count": 13,
   "id": "12450ef6",
   "metadata": {
    "execution": {
     "iopub.execute_input": "2022-03-28T15:25:25.180787Z",
     "iopub.status.busy": "2022-03-28T15:25:25.179146Z",
     "iopub.status.idle": "2022-03-28T15:25:25.183979Z",
     "shell.execute_reply": "2022-03-28T15:25:25.184442Z",
     "shell.execute_reply.started": "2022-03-28T15:24:23.824871Z"
    },
    "papermill": {
     "duration": 0.065428,
     "end_time": "2022-03-28T15:25:25.184605",
     "exception": false,
     "start_time": "2022-03-28T15:25:25.119177",
     "status": "completed"
    },
    "tags": []
   },
   "outputs": [
    {
     "data": {
      "text/plain": [
       "array([0, 1])"
      ]
     },
     "execution_count": 13,
     "metadata": {},
     "output_type": "execute_result"
    }
   ],
   "source": [
    "potabilities = df.Potability.sort_values().unique()\n",
    "potabilities"
   ]
  },
  {
   "cell_type": "markdown",
   "id": "56a1bdf0",
   "metadata": {
    "papermill": {
     "duration": 0.054478,
     "end_time": "2022-03-28T15:25:25.296864",
     "exception": false,
     "start_time": "2022-03-28T15:25:25.242386",
     "status": "completed"
    },
    "tags": []
   },
   "source": [
    "The data is imbalanced:"
   ]
  },
  {
   "cell_type": "code",
   "execution_count": 14,
   "id": "c35dd8ec",
   "metadata": {
    "execution": {
     "iopub.execute_input": "2022-03-28T15:25:25.411768Z",
     "iopub.status.busy": "2022-03-28T15:25:25.411144Z",
     "iopub.status.idle": "2022-03-28T15:25:25.611791Z",
     "shell.execute_reply": "2022-03-28T15:25:25.611118Z",
     "shell.execute_reply.started": "2022-03-28T15:24:23.836549Z"
    },
    "papermill": {
     "duration": 0.259806,
     "end_time": "2022-03-28T15:25:25.611936",
     "exception": false,
     "start_time": "2022-03-28T15:25:25.352130",
     "status": "completed"
    },
    "tags": []
   },
   "outputs": [
    {
     "data": {
      "text/plain": [
       "Text(0.5, 1.0, 'Water distribution by potability')"
      ]
     },
     "execution_count": 14,
     "metadata": {},
     "output_type": "execute_result"
    },
    {
     "data": {
      "image/png": "[encoded data removed]",
      "text/plain": [
       "<Figure size 576x288 with 1 Axes>"
      ]
     },
     "metadata": {},
     "output_type": "display_data"
    }
   ],
   "source": [
    "sns.set(rc={'figure.figsize':(8,4)})\n",
    "sns.countplot(x=\"Potability\", data=df).set_title(\"Water distribution by potability\")"
   ]
  },
  {
   "cell_type": "code",
   "execution_count": 15,
   "id": "645a6477",
   "metadata": {
    "execution": {
     "iopub.execute_input": "2022-03-28T15:25:25.734307Z",
     "iopub.status.busy": "2022-03-28T15:25:25.733630Z",
     "iopub.status.idle": "2022-03-28T15:25:25.736587Z",
     "shell.execute_reply": "2022-03-28T15:25:25.737042Z",
     "shell.execute_reply.started": "2022-03-28T15:24:24.104770Z"
    },
    "papermill": {
     "duration": 0.068097,
     "end_time": "2022-03-28T15:25:25.737190",
     "exception": false,
     "start_time": "2022-03-28T15:25:25.669093",
     "status": "completed"
    },
    "tags": []
   },
   "outputs": [
    {
     "data": {
      "text/plain": [
       "0    60.815148\n",
       "1    39.184852\n",
       "Name: Potability, dtype: float64"
      ]
     },
     "execution_count": 15,
     "metadata": {},
     "output_type": "execute_result"
    }
   ],
   "source": [
    "(df.Potability.value_counts(normalize=True) * 100)"
   ]
  },
  {
   "cell_type": "markdown",
   "id": "da34852e",
   "metadata": {
    "papermill": {
     "duration": 0.057994,
     "end_time": "2022-03-28T15:25:25.852551",
     "exception": false,
     "start_time": "2022-03-28T15:25:25.794557",
     "status": "completed"
    },
    "tags": []
   },
   "source": [
    "# Explore data columns"
   ]
  },
  {
   "cell_type": "markdown",
   "id": "b81224f2",
   "metadata": {
    "papermill": {
     "duration": 0.056499,
     "end_time": "2022-03-28T15:25:25.967301",
     "exception": false,
     "start_time": "2022-03-28T15:25:25.910802",
     "status": "completed"
    },
    "tags": []
   },
   "source": [
    "## PH"
   ]
  },
  {
   "cell_type": "markdown",
   "id": "b5d7e991",
   "metadata": {
    "papermill": {
     "duration": 0.058623,
     "end_time": "2022-03-28T15:25:26.084681",
     "exception": false,
     "start_time": "2022-03-28T15:25:26.026058",
     "status": "completed"
    },
    "tags": []
   },
   "source": [
    "PH is an important parameter in evaluating the acid–base balance of water. It is also the indicator of acidic or alkaline condition of water status. WHO has recommended maximum permissible limit of pH from 6.5 to 8.5. The current investigation ranges were 6.52–6.83 which are in the range of WHO standards"
   ]
  },
  {
   "cell_type": "code",
   "execution_count": 16,
   "id": "6b00adc9",
   "metadata": {
    "execution": {
     "iopub.execute_input": "2022-03-28T15:25:26.204355Z",
     "iopub.status.busy": "2022-03-28T15:25:26.203405Z",
     "iopub.status.idle": "2022-03-28T15:25:26.435462Z",
     "shell.execute_reply": "2022-03-28T15:25:26.434889Z",
     "shell.execute_reply.started": "2022-03-28T15:24:24.119291Z"
    },
    "papermill": {
     "duration": 0.29264,
     "end_time": "2022-03-28T15:25:26.435606",
     "exception": false,
     "start_time": "2022-03-28T15:25:26.142966",
     "status": "completed"
    },
    "tags": []
   },
   "outputs": [
    {
     "data": {
      "text/plain": [
       "[Text(0.5, 1.0, 'PH Boxplot')]"
      ]
     },
     "execution_count": 16,
     "metadata": {},
     "output_type": "execute_result"
    },
    {
     "data": {
      "image/png": "[encoded data removed]",
      "text/plain": [
       "<Figure size 576x288 with 1 Axes>"
      ]
     },
     "metadata": {},
     "output_type": "display_data"
    }
   ],
   "source": [
    "sns.set(rc={'figure.figsize':(8,4)})\n",
    "sns.boxplot(x=df.ph, color='teal').set(title='PH Boxplot')"
   ]
  },
  {
   "cell_type": "code",
   "execution_count": 17,
   "id": "970f6bf7",
   "metadata": {
    "execution": {
     "iopub.execute_input": "2022-03-28T15:25:26.563449Z",
     "iopub.status.busy": "2022-03-28T15:25:26.562794Z",
     "iopub.status.idle": "2022-03-28T15:25:27.107849Z",
     "shell.execute_reply": "2022-03-28T15:25:27.107173Z",
     "shell.execute_reply.started": "2022-03-28T15:24:24.443186Z"
    },
    "papermill": {
     "duration": 0.613616,
     "end_time": "2022-03-28T15:25:27.107990",
     "exception": false,
     "start_time": "2022-03-28T15:25:26.494374",
     "status": "completed"
    },
    "tags": []
   },
   "outputs": [
    {
     "data": {
      "text/plain": [
       "<matplotlib.legend.Legend at 0x7f36ad9a5590>"
      ]
     },
     "execution_count": 17,
     "metadata": {},
     "output_type": "execute_result"
    },
    {
     "data": {
      "image/png": "[encoded data removed]",
      "text/plain": [
       "<Figure size 864x360 with 1 Axes>"
      ]
     },
     "metadata": {},
     "output_type": "display_data"
    }
   ],
   "source": [
    "sns.set(rc={'figure.figsize':(12,5)})\n",
    "sns.distplot(df[df[\"Potability\"] == 0]['ph'],  kde=False, label=\"Potable\").set(title='PH Distribution Plot')\n",
    "sns.distplot(df[df[\"Potability\"] == 1]['ph'],  kde=False, label=\"Not potable\")\n",
    "plt.legend()"
   ]
  },
  {
   "cell_type": "markdown",
   "id": "05eac865",
   "metadata": {
    "papermill": {
     "duration": 0.060181,
     "end_time": "2022-03-28T15:25:27.229986",
     "exception": false,
     "start_time": "2022-03-28T15:25:27.169805",
     "status": "completed"
    },
    "tags": []
   },
   "source": [
    "### Hardness"
   ]
  },
  {
   "cell_type": "markdown",
   "id": "b6607ced",
   "metadata": {
    "papermill": {
     "duration": 0.0612,
     "end_time": "2022-03-28T15:25:27.350511",
     "exception": false,
     "start_time": "2022-03-28T15:25:27.289311",
     "status": "completed"
    },
    "tags": []
   },
   "source": [
    "Hardness is mainly caused by calcium and magnesium salts. These salts are dissolved from geologic deposits through which water travels. The length of time water is in contact with hardness producing material helps determine how much hardness there is in raw water. Hardness was originally defined as the capacity of water to precipitate soap caused by Calcium and Magnesium."
   ]
  },
  {
   "cell_type": "code",
   "execution_count": 18,
   "id": "d6c715f8",
   "metadata": {
    "execution": {
     "iopub.execute_input": "2022-03-28T15:25:27.493182Z",
     "iopub.status.busy": "2022-03-28T15:25:27.492570Z",
     "iopub.status.idle": "2022-03-28T15:25:27.692670Z",
     "shell.execute_reply": "2022-03-28T15:25:27.693211Z",
     "shell.execute_reply.started": "2022-03-28T15:24:25.187565Z"
    },
    "papermill": {
     "duration": 0.282465,
     "end_time": "2022-03-28T15:25:27.693372",
     "exception": false,
     "start_time": "2022-03-28T15:25:27.410907",
     "status": "completed"
    },
    "tags": []
   },
   "outputs": [
    {
     "data": {
      "text/plain": [
       "[Text(0.5, 1.0, 'Hardness Boxplot')]"
      ]
     },
     "execution_count": 18,
     "metadata": {},
     "output_type": "execute_result"
    },
    {
     "data": {
      "image/png": "[encoded data removed]",
      "text/plain": [
       "<Figure size 576x288 with 1 Axes>"
      ]
     },
     "metadata": {},
     "output_type": "display_data"
    }
   ],
   "source": [
    "sns.set(rc={'figure.figsize':(8,4)})\n",
    "sns.boxplot(x=df.Hardness, color='teal').set(title='Hardness Boxplot')"
   ]
  },
  {
   "cell_type": "code",
   "execution_count": 19,
   "id": "0fe72ceb",
   "metadata": {
    "execution": {
     "iopub.execute_input": "2022-03-28T15:25:27.819262Z",
     "iopub.status.busy": "2022-03-28T15:25:27.818675Z",
     "iopub.status.idle": "2022-03-28T15:25:28.324773Z",
     "shell.execute_reply": "2022-03-28T15:25:28.325233Z",
     "shell.execute_reply.started": "2022-03-28T15:24:25.493144Z"
    },
    "papermill": {
     "duration": 0.569989,
     "end_time": "2022-03-28T15:25:28.325388",
     "exception": false,
     "start_time": "2022-03-28T15:25:27.755399",
     "status": "completed"
    },
    "tags": []
   },
   "outputs": [
    {
     "data": {
      "text/plain": [
       "<matplotlib.legend.Legend at 0x7f36adb262d0>"
      ]
     },
     "execution_count": 19,
     "metadata": {},
     "output_type": "execute_result"
    },
    {
     "data": {
      "image/png": "[encoded data removed]",
      "text/plain": [
       "<Figure size 864x360 with 1 Axes>"
      ]
     },
     "metadata": {},
     "output_type": "display_data"
    }
   ],
   "source": [
    "sns.set(rc={'figure.figsize':(12,5)})\n",
    "sns.distplot(df[df[\"Potability\"] == 0]['Hardness'],  kde=False, label=\"Potable\").set(title='PH Distribution Plot')\n",
    "sns.distplot(df[df[\"Potability\"] == 1]['Hardness'],  kde=False, label=\"Not potable\")\n",
    "plt.legend()"
   ]
  },
  {
   "cell_type": "markdown",
   "id": "5be60e02",
   "metadata": {
    "papermill": {
     "duration": 0.062487,
     "end_time": "2022-03-28T15:25:28.451411",
     "exception": false,
     "start_time": "2022-03-28T15:25:28.388924",
     "status": "completed"
    },
    "tags": []
   },
   "source": [
    "### Solids"
   ]
  },
  {
   "cell_type": "markdown",
   "id": "d40ee120",
   "metadata": {
    "papermill": {
     "duration": 0.062134,
     "end_time": "2022-03-28T15:25:28.576039",
     "exception": false,
     "start_time": "2022-03-28T15:25:28.513905",
     "status": "completed"
    },
    "tags": []
   },
   "source": [
    "Water has the ability to dissolve a wide range of inorganic and some organic minerals or salts such as potassium, calcium, sodium, bicarbonates, chlorides, magnesium, sulfates etc. These minerals produced un-wanted taste and diluted color in appearance of water. This is the important parameter for the use of water. The water with high TDS value indicates that water is highly mineralized. Desirable limit for TDS is 500 mg/l and maximum limit is 1000 mg/l which prescribed for drinking purpose."
   ]
  },
  {
   "cell_type": "code",
   "execution_count": 20,
   "id": "e19d830a",
   "metadata": {
    "execution": {
     "iopub.execute_input": "2022-03-28T15:25:28.704464Z",
     "iopub.status.busy": "2022-03-28T15:25:28.703522Z",
     "iopub.status.idle": "2022-03-28T15:25:28.928440Z",
     "shell.execute_reply": "2022-03-28T15:25:28.928931Z",
     "shell.execute_reply.started": "2022-03-28T15:24:26.154121Z"
    },
    "papermill": {
     "duration": 0.29066,
     "end_time": "2022-03-28T15:25:28.929113",
     "exception": false,
     "start_time": "2022-03-28T15:25:28.638453",
     "status": "completed"
    },
    "tags": []
   },
   "outputs": [
    {
     "data": {
      "text/plain": [
       "[Text(0.5, 1.0, 'Solids Boxplot')]"
      ]
     },
     "execution_count": 20,
     "metadata": {},
     "output_type": "execute_result"
    },
    {
     "data": {
      "image/png": "[encoded data removed]",
      "text/plain": [
       "<Figure size 576x288 with 1 Axes>"
      ]
     },
     "metadata": {},
     "output_type": "display_data"
    }
   ],
   "source": [
    "sns.set(rc={'figure.figsize':(8,4)})\n",
    "sns.boxplot(x=df.Solids, color='teal').set(title='Solids Boxplot')"
   ]
  },
  {
   "cell_type": "code",
   "execution_count": 21,
   "id": "334f17d6",
   "metadata": {
    "execution": {
     "iopub.execute_input": "2022-03-28T15:25:29.076194Z",
     "iopub.status.busy": "2022-03-28T15:25:29.060458Z",
     "iopub.status.idle": "2022-03-28T15:25:29.511319Z",
     "shell.execute_reply": "2022-03-28T15:25:29.510495Z",
     "shell.execute_reply.started": "2022-03-28T15:24:26.460592Z"
    },
    "papermill": {
     "duration": 0.518955,
     "end_time": "2022-03-28T15:25:29.511485",
     "exception": false,
     "start_time": "2022-03-28T15:25:28.992530",
     "status": "completed"
    },
    "tags": []
   },
   "outputs": [
    {
     "data": {
      "text/plain": [
       "<matplotlib.legend.Legend at 0x7f36ad606710>"
      ]
     },
     "execution_count": 21,
     "metadata": {},
     "output_type": "execute_result"
    },
    {
     "data": {
      "image/png": "[encoded data removed]",
      "text/plain": [
       "<Figure size 864x360 with 1 Axes>"
      ]
     },
     "metadata": {},
     "output_type": "display_data"
    }
   ],
   "source": [
    "sns.set(rc={'figure.figsize':(12,5)})\n",
    "sns.distplot(df[df[\"Potability\"] == 0]['Solids'],  kde=False, label=\"Potable\").set(title='PH Distribution Plot')\n",
    "sns.distplot(df[df[\"Potability\"] == 1]['Solids'],  kde=False, label=\"Not potable\")\n",
    "plt.legend()"
   ]
  },
  {
   "cell_type": "markdown",
   "id": "e48ff821",
   "metadata": {
    "papermill": {
     "duration": 0.065671,
     "end_time": "2022-03-28T15:25:29.646245",
     "exception": false,
     "start_time": "2022-03-28T15:25:29.580574",
     "status": "completed"
    },
    "tags": []
   },
   "source": [
    "### Sulfate"
   ]
  },
  {
   "cell_type": "markdown",
   "id": "743944af",
   "metadata": {
    "papermill": {
     "duration": 0.065517,
     "end_time": "2022-03-28T15:25:29.777411",
     "exception": false,
     "start_time": "2022-03-28T15:25:29.711894",
     "status": "completed"
    },
    "tags": []
   },
   "source": [
    "Sulfates are naturally occurring substances that are found in minerals, soil, and rocks. They are present in ambient air, groundwater, plants, and food. The principal commercial use of sulfate is in the chemical industry. Sulfate concentration in seawater is about 2,700 milligrams per liter (mg/L). It ranges from 3 to 30 mg/L in most freshwater supplies, although much higher concentrations (1000 mg/L) are found in some geographic locations."
   ]
  },
  {
   "cell_type": "code",
   "execution_count": 22,
   "id": "e20ad18a",
   "metadata": {
    "execution": {
     "iopub.execute_input": "2022-03-28T15:25:30.043709Z",
     "iopub.status.busy": "2022-03-28T15:25:30.042985Z",
     "iopub.status.idle": "2022-03-28T15:25:30.261870Z",
     "shell.execute_reply": "2022-03-28T15:25:30.262355Z",
     "shell.execute_reply.started": "2022-03-28T15:24:27.078717Z"
    },
    "papermill": {
     "duration": 0.419836,
     "end_time": "2022-03-28T15:25:30.262547",
     "exception": false,
     "start_time": "2022-03-28T15:25:29.842711",
     "status": "completed"
    },
    "tags": []
   },
   "outputs": [
    {
     "data": {
      "text/plain": [
       "[Text(0.5, 1.0, 'Sulfate Boxplot')]"
      ]
     },
     "execution_count": 22,
     "metadata": {},
     "output_type": "execute_result"
    },
    {
     "data": {
      "image/png": "[encoded data removed]",
      "text/plain": [
       "<Figure size 576x288 with 1 Axes>"
      ]
     },
     "metadata": {},
     "output_type": "display_data"
    }
   ],
   "source": [
    "sns.set(rc={'figure.figsize':(8,4)})\n",
    "sns.boxplot(x=df.Sulfate, color='teal').set(title='Sulfate Boxplot')"
   ]
  },
  {
   "cell_type": "code",
   "execution_count": 23,
   "id": "f5918b64",
   "metadata": {
    "execution": {
     "iopub.execute_input": "2022-03-28T15:25:30.405185Z",
     "iopub.status.busy": "2022-03-28T15:25:30.404590Z",
     "iopub.status.idle": "2022-03-28T15:25:30.929473Z",
     "shell.execute_reply": "2022-03-28T15:25:30.930022Z",
     "shell.execute_reply.started": "2022-03-28T15:24:27.569513Z"
    },
    "papermill": {
     "duration": 0.597521,
     "end_time": "2022-03-28T15:25:30.930192",
     "exception": false,
     "start_time": "2022-03-28T15:25:30.332671",
     "status": "completed"
    },
    "tags": []
   },
   "outputs": [
    {
     "data": {
      "text/plain": [
       "<matplotlib.legend.Legend at 0x7f36ad434250>"
      ]
     },
     "execution_count": 23,
     "metadata": {},
     "output_type": "execute_result"
    },
    {
     "data": {
      "image/png": "[encoded data removed]",
      "text/plain": [
       "<Figure size 864x360 with 1 Axes>"
      ]
     },
     "metadata": {},
     "output_type": "display_data"
    }
   ],
   "source": [
    "sns.set(rc={'figure.figsize':(12,5)})\n",
    "sns.distplot(df[df[\"Potability\"] == 0]['Sulfate'],  kde=False, label=\"Potable\").set(title='Sulfate Distribution Plot')\n",
    "sns.distplot(df[df[\"Potability\"] == 1]['Sulfate'],  kde=False, label=\"Not potable\")\n",
    "plt.legend()"
   ]
  },
  {
   "cell_type": "markdown",
   "id": "550e70f3",
   "metadata": {
    "papermill": {
     "duration": 0.071612,
     "end_time": "2022-03-28T15:25:31.070084",
     "exception": false,
     "start_time": "2022-03-28T15:25:30.998472",
     "status": "completed"
    },
    "tags": []
   },
   "source": [
    "### Conductivity"
   ]
  },
  {
   "cell_type": "markdown",
   "id": "48dec7ba",
   "metadata": {
    "papermill": {
     "duration": 0.069014,
     "end_time": "2022-03-28T15:25:31.207764",
     "exception": false,
     "start_time": "2022-03-28T15:25:31.138750",
     "status": "completed"
    },
    "tags": []
   },
   "source": [
    "Pure water is not a good conductor of electric current rather’s a good insulator. Increase in ions concentration enhances the electrical conductivity of water. Generally, the amount of dissolved solids in water determines the electrical conductivity. Electrical conductivity (EC) actually measures the ionic process of a solution that enables it to transmit current. According to WHO standards, EC value should not exceeded 400 μS/cm."
   ]
  },
  {
   "cell_type": "code",
   "execution_count": 24,
   "id": "4230f0fb",
   "metadata": {
    "execution": {
     "iopub.execute_input": "2022-03-28T15:25:31.368024Z",
     "iopub.status.busy": "2022-03-28T15:25:31.352409Z",
     "iopub.status.idle": "2022-03-28T15:25:31.577511Z",
     "shell.execute_reply": "2022-03-28T15:25:31.578077Z",
     "shell.execute_reply.started": "2022-03-28T15:24:28.282845Z"
    },
    "papermill": {
     "duration": 0.302398,
     "end_time": "2022-03-28T15:25:31.578243",
     "exception": false,
     "start_time": "2022-03-28T15:25:31.275845",
     "status": "completed"
    },
    "tags": []
   },
   "outputs": [
    {
     "data": {
      "text/plain": [
       "[Text(0.5, 1.0, 'Conductivity Boxplot')]"
      ]
     },
     "execution_count": 24,
     "metadata": {},
     "output_type": "execute_result"
    },
    {
     "data": {
      "image/png": "[encoded data removed]",
      "text/plain": [
       "<Figure size 576x288 with 1 Axes>"
      ]
     },
     "metadata": {},
     "output_type": "display_data"
    }
   ],
   "source": [
    "sns.set(rc={'figure.figsize':(8,4)})\n",
    "sns.boxplot(x=df.Conductivity, color='teal').set(title='Conductivity Boxplot')"
   ]
  },
  {
   "cell_type": "code",
   "execution_count": 25,
   "id": "01186ea4",
   "metadata": {
    "execution": {
     "iopub.execute_input": "2022-03-28T15:25:31.726545Z",
     "iopub.status.busy": "2022-03-28T15:25:31.725918Z",
     "iopub.status.idle": "2022-03-28T15:25:32.190586Z",
     "shell.execute_reply": "2022-03-28T15:25:32.191367Z",
     "shell.execute_reply.started": "2022-03-28T15:24:28.584389Z"
    },
    "papermill": {
     "duration": 0.541221,
     "end_time": "2022-03-28T15:25:32.191619",
     "exception": false,
     "start_time": "2022-03-28T15:25:31.650398",
     "status": "completed"
    },
    "tags": []
   },
   "outputs": [
    {
     "data": {
      "text/plain": [
       "<matplotlib.legend.Legend at 0x7f36ad282e50>"
      ]
     },
     "execution_count": 25,
     "metadata": {},
     "output_type": "execute_result"
    },
    {
     "data": {
      "image/png": "[encoded data removed]",
      "text/plain": [
       "<Figure size 864x360 with 1 Axes>"
      ]
     },
     "metadata": {},
     "output_type": "display_data"
    }
   ],
   "source": [
    "sns.set(rc={'figure.figsize':(12,5)})\n",
    "sns.distplot(df[df[\"Potability\"] == 0]['Conductivity'],  kde=False, label=\"Potable\").set(title='Conductivity Distribution Plot')\n",
    "sns.distplot(df[df[\"Potability\"] == 1]['Conductivity'],  kde=False, label=\"Not potable\")\n",
    "plt.legend()"
   ]
  },
  {
   "cell_type": "markdown",
   "id": "63198716",
   "metadata": {
    "execution": {
     "iopub.execute_input": "2022-03-27T06:22:37.940685Z",
     "iopub.status.busy": "2022-03-27T06:22:37.940419Z",
     "iopub.status.idle": "2022-03-27T06:22:37.947575Z",
     "shell.execute_reply": "2022-03-27T06:22:37.946171Z",
     "shell.execute_reply.started": "2022-03-27T06:22:37.940658Z"
    },
    "papermill": {
     "duration": 0.07956,
     "end_time": "2022-03-28T15:25:32.363843",
     "exception": false,
     "start_time": "2022-03-28T15:25:32.284283",
     "status": "completed"
    },
    "tags": []
   },
   "source": [
    "### Organic carbon"
   ]
  },
  {
   "cell_type": "markdown",
   "id": "1cc0a51a",
   "metadata": {
    "papermill": {
     "duration": 0.075603,
     "end_time": "2022-03-28T15:25:32.518494",
     "exception": false,
     "start_time": "2022-03-28T15:25:32.442891",
     "status": "completed"
    },
    "tags": []
   },
   "source": [
    "Total Organic Carbon (TOC) in source waters comes from decaying natural organic matter (NOM) as well as synthetic sources. TOC is a measure of the total amount of carbon in organic compounds in pure water. According to US EPA < 2 mg/L as TOC in treated / drinking water, and < 4 mg/Lit in source water which is use for treatment."
   ]
  },
  {
   "cell_type": "code",
   "execution_count": 26,
   "id": "7538468d",
   "metadata": {
    "execution": {
     "iopub.execute_input": "2022-03-28T15:25:32.672852Z",
     "iopub.status.busy": "2022-03-28T15:25:32.672085Z",
     "iopub.status.idle": "2022-03-28T15:25:32.894351Z",
     "shell.execute_reply": "2022-03-28T15:25:32.893717Z",
     "shell.execute_reply.started": "2022-03-28T15:24:29.173048Z"
    },
    "papermill": {
     "duration": 0.300882,
     "end_time": "2022-03-28T15:25:32.894502",
     "exception": false,
     "start_time": "2022-03-28T15:25:32.593620",
     "status": "completed"
    },
    "tags": []
   },
   "outputs": [
    {
     "data": {
      "text/plain": [
       "[Text(0.5, 1.0, 'Organic Carbon Boxplot')]"
      ]
     },
     "execution_count": 26,
     "metadata": {},
     "output_type": "execute_result"
    },
    {
     "data": {
      "image/png": "[encoded data removed]",
      "text/plain": [
       "<Figure size 576x288 with 1 Axes>"
      ]
     },
     "metadata": {},
     "output_type": "display_data"
    }
   ],
   "source": [
    "sns.set(rc={'figure.figsize':(8,4)})\n",
    "sns.boxplot(x=df.Organic_carbon, color='teal').set(title='Organic Carbon Boxplot')"
   ]
  },
  {
   "cell_type": "code",
   "execution_count": 27,
   "id": "31f2e080",
   "metadata": {
    "execution": {
     "iopub.execute_input": "2022-03-28T15:25:33.060081Z",
     "iopub.status.busy": "2022-03-28T15:25:33.059073Z",
     "iopub.status.idle": "2022-03-28T15:25:33.498613Z",
     "shell.execute_reply": "2022-03-28T15:25:33.497882Z",
     "shell.execute_reply.started": "2022-03-28T15:24:29.464472Z"
    },
    "papermill": {
     "duration": 0.525896,
     "end_time": "2022-03-28T15:25:33.498864",
     "exception": false,
     "start_time": "2022-03-28T15:25:32.972968",
     "status": "completed"
    },
    "tags": []
   },
   "outputs": [
    {
     "data": {
      "text/plain": [
       "<matplotlib.legend.Legend at 0x7f36ad123bd0>"
      ]
     },
     "execution_count": 27,
     "metadata": {},
     "output_type": "execute_result"
    },
    {
     "data": {
      "image/png": "[encoded data removed]",
      "text/plain": [
       "<Figure size 864x360 with 1 Axes>"
      ]
     },
     "metadata": {},
     "output_type": "display_data"
    }
   ],
   "source": [
    "sns.set(rc={'figure.figsize':(12,5)})\n",
    "sns.distplot(df[df[\"Potability\"] == 0]['Organic_carbon'],  kde=False, label=\"Potable\").set(title='Organic Carbon Distribution Plot')\n",
    "sns.distplot(df[df[\"Potability\"] == 1]['Organic_carbon'],  kde=False, label=\"Not potable\")\n",
    "plt.legend()"
   ]
  },
  {
   "cell_type": "markdown",
   "id": "3dacfb88",
   "metadata": {
    "papermill": {
     "duration": 0.077665,
     "end_time": "2022-03-28T15:25:33.656889",
     "exception": false,
     "start_time": "2022-03-28T15:25:33.579224",
     "status": "completed"
    },
    "tags": []
   },
   "source": [
    "### Trihalomethanes"
   ]
  },
  {
   "cell_type": "markdown",
   "id": "5c7c2a6e",
   "metadata": {
    "papermill": {
     "duration": 0.079619,
     "end_time": "2022-03-28T15:25:33.816102",
     "exception": false,
     "start_time": "2022-03-28T15:25:33.736483",
     "status": "completed"
    },
    "tags": []
   },
   "source": [
    "THMs are chemicals which may be found in water treated with chlorine. The concentration of THMs in drinking water varies according to the level of organic material in the water, the amount of chlorine required to treat the water, and the temperature of the water that is being treated. THM levels up to 80 ppm is considered safe in drinking water."
   ]
  },
  {
   "cell_type": "code",
   "execution_count": 28,
   "id": "f6d4eb13",
   "metadata": {
    "execution": {
     "iopub.execute_input": "2022-03-28T15:25:33.991279Z",
     "iopub.status.busy": "2022-03-28T15:25:33.989082Z",
     "iopub.status.idle": "2022-03-28T15:25:34.173298Z",
     "shell.execute_reply": "2022-03-28T15:25:34.173819Z",
     "shell.execute_reply.started": "2022-03-28T15:24:30.051496Z"
    },
    "papermill": {
     "duration": 0.282375,
     "end_time": "2022-03-28T15:25:34.173991",
     "exception": false,
     "start_time": "2022-03-28T15:25:33.891616",
     "status": "completed"
    },
    "tags": []
   },
   "outputs": [
    {
     "data": {
      "text/plain": [
       "[Text(0.5, 1.0, 'Trihalomethanes Boxplot')]"
      ]
     },
     "execution_count": 28,
     "metadata": {},
     "output_type": "execute_result"
    },
    {
     "data": {
      "image/png": "[encoded data removed]",
      "text/plain": [
       "<Figure size 576x288 with 1 Axes>"
      ]
     },
     "metadata": {},
     "output_type": "display_data"
    }
   ],
   "source": [
    "sns.set(rc={'figure.figsize':(8,4)})\n",
    "sns.boxplot(x=df.Trihalomethanes, color='teal').set(title='Trihalomethanes Boxplot')"
   ]
  },
  {
   "cell_type": "code",
   "execution_count": 29,
   "id": "30ee53c1",
   "metadata": {
    "execution": {
     "iopub.execute_input": "2022-03-28T15:25:34.348165Z",
     "iopub.status.busy": "2022-03-28T15:25:34.346329Z",
     "iopub.status.idle": "2022-03-28T15:25:34.745169Z",
     "shell.execute_reply": "2022-03-28T15:25:34.745941Z",
     "shell.execute_reply.started": "2022-03-28T15:24:30.355030Z"
    },
    "papermill": {
     "duration": 0.49626,
     "end_time": "2022-03-28T15:25:34.746235",
     "exception": false,
     "start_time": "2022-03-28T15:25:34.249975",
     "status": "completed"
    },
    "tags": []
   },
   "outputs": [
    {
     "data": {
      "text/plain": [
       "<matplotlib.legend.Legend at 0x7f36ad069c10>"
      ]
     },
     "execution_count": 29,
     "metadata": {},
     "output_type": "execute_result"
    },
    {
     "data": {
      "image/png": "[encoded data removed]",
      "text/plain": [
       "<Figure size 864x360 with 1 Axes>"
      ]
     },
     "metadata": {},
     "output_type": "display_data"
    }
   ],
   "source": [
    "sns.set(rc={'figure.figsize':(12,5)})\n",
    "sns.distplot(df[df[\"Potability\"] == 0]['Trihalomethanes'],  kde=False, label=\"Potable\").set(title='Trihalomethanes Distribution Plot')\n",
    "sns.distplot(df[df[\"Potability\"] == 1]['Trihalomethanes'],  kde=False, label=\"Not potable\")\n",
    "plt.legend()"
   ]
  },
  {
   "cell_type": "markdown",
   "id": "e41dc320",
   "metadata": {
    "papermill": {
     "duration": 0.076978,
     "end_time": "2022-03-28T15:25:34.900823",
     "exception": false,
     "start_time": "2022-03-28T15:25:34.823845",
     "status": "completed"
    },
    "tags": []
   },
   "source": [
    "### Turbidity"
   ]
  },
  {
   "cell_type": "markdown",
   "id": "7c6061ca",
   "metadata": {
    "papermill": {
     "duration": 0.078038,
     "end_time": "2022-03-28T15:25:35.056772",
     "exception": false,
     "start_time": "2022-03-28T15:25:34.978734",
     "status": "completed"
    },
    "tags": []
   },
   "source": [
    "The turbidity of water depends on the quantity of solid matter present in the suspended state. It is a measure of light emitting properties of water and the test is used to indicate the quality of waste discharge with respect to colloidal matter. The mean turbidity value obtained for Wondo Genet Campus (0.98 NTU) is lower than the WHO recommended value of 5.00 NTU."
   ]
  },
  {
   "cell_type": "code",
   "execution_count": 30,
   "id": "f2f92be0",
   "metadata": {
    "execution": {
     "iopub.execute_input": "2022-03-28T15:25:35.211877Z",
     "iopub.status.busy": "2022-03-28T15:25:35.211198Z",
     "iopub.status.idle": "2022-03-28T15:25:35.385513Z",
     "shell.execute_reply": "2022-03-28T15:25:35.384988Z",
     "shell.execute_reply.started": "2022-03-28T15:24:30.968150Z"
    },
    "papermill": {
     "duration": 0.253094,
     "end_time": "2022-03-28T15:25:35.385689",
     "exception": false,
     "start_time": "2022-03-28T15:25:35.132595",
     "status": "completed"
    },
    "tags": []
   },
   "outputs": [
    {
     "data": {
      "text/plain": [
       "[Text(0.5, 1.0, 'Turbidity Boxplot')]"
      ]
     },
     "execution_count": 30,
     "metadata": {},
     "output_type": "execute_result"
    },
    {
     "data": {
      "image/png": "[encoded data removed]",
      "text/plain": [
       "<Figure size 576x288 with 1 Axes>"
      ]
     },
     "metadata": {},
     "output_type": "display_data"
    }
   ],
   "source": [
    "sns.set(rc={'figure.figsize':(8,4)})\n",
    "sns.boxplot(x=df.Turbidity, color='teal').set(title='Turbidity Boxplot')"
   ]
  },
  {
   "cell_type": "code",
   "execution_count": 31,
   "id": "2c7c1a2b",
   "metadata": {
    "execution": {
     "iopub.execute_input": "2022-03-28T15:25:35.549820Z",
     "iopub.status.busy": "2022-03-28T15:25:35.549094Z",
     "iopub.status.idle": "2022-03-28T15:25:35.985863Z",
     "shell.execute_reply": "2022-03-28T15:25:35.985258Z",
     "shell.execute_reply.started": "2022-03-28T15:24:31.260596Z"
    },
    "papermill": {
     "duration": 0.522783,
     "end_time": "2022-03-28T15:25:35.986002",
     "exception": false,
     "start_time": "2022-03-28T15:25:35.463219",
     "status": "completed"
    },
    "tags": []
   },
   "outputs": [
    {
     "data": {
      "text/plain": [
       "<matplotlib.legend.Legend at 0x7f36acdaf5d0>"
      ]
     },
     "execution_count": 31,
     "metadata": {},
     "output_type": "execute_result"
    },
    {
     "data": {
      "image/png": "[encoded data removed]",
      "text/plain": [
       "<Figure size 864x360 with 1 Axes>"
      ]
     },
     "metadata": {},
     "output_type": "display_data"
    }
   ],
   "source": [
    "sns.set(rc={'figure.figsize':(12,5)})\n",
    "sns.distplot(df[df[\"Potability\"] == 0]['Turbidity'],  kde=False, label=\"Potable\").set(title='Turbidity Distribution Plot')\n",
    "sns.distplot(df[df[\"Potability\"] == 1]['Turbidity'],  kde=False, label=\"Not potable\")\n",
    "plt.legend()"
   ]
  },
  {
   "cell_type": "markdown",
   "id": "ae3c3ea0",
   "metadata": {
    "papermill": {
     "duration": 0.077471,
     "end_time": "2022-03-28T15:25:36.143515",
     "exception": false,
     "start_time": "2022-03-28T15:25:36.066044",
     "status": "completed"
    },
    "tags": []
   },
   "source": [
    "# Correlaton"
   ]
  },
  {
   "cell_type": "code",
   "execution_count": 32,
   "id": "57301f28",
   "metadata": {
    "execution": {
     "iopub.execute_input": "2022-03-28T15:25:36.307372Z",
     "iopub.status.busy": "2022-03-28T15:25:36.306733Z",
     "iopub.status.idle": "2022-03-28T15:25:36.726287Z",
     "shell.execute_reply": "2022-03-28T15:25:36.726789Z",
     "shell.execute_reply.started": "2022-03-28T15:24:31.850188Z"
    },
    "papermill": {
     "duration": 0.502754,
     "end_time": "2022-03-28T15:25:36.726961",
     "exception": false,
     "start_time": "2022-03-28T15:25:36.224207",
     "status": "completed"
    },
    "tags": []
   },
   "outputs": [
    {
     "name": "stdout",
     "output_type": "stream",
     "text": [
      "Correlation to 'Potability' value:\n",
      "Potability         1.000000\n",
      "Solids             0.040595\n",
      "Organic_carbon    -0.028156\n",
      "Chloramines        0.022130\n",
      "Sulfate           -0.019230\n",
      "Hardness          -0.011219\n",
      "Turbidity          0.007175\n",
      "Trihalomethanes    0.006256\n",
      "Conductivity      -0.006168\n",
      "ph                -0.003242\n",
      "Name: Potability, dtype: float64\n"
     ]
    },
    {
     "data": {
      "text/plain": [
       "Text(0.5, 1.0, 'Water Potability Heatmap')"
      ]
     },
     "execution_count": 32,
     "metadata": {},
     "output_type": "execute_result"
    },
    {
     "data": {
      "image/png": "[encoded data removed]",
      "text/plain": [
       "<Figure size 720x360 with 2 Axes>"
      ]
     },
     "metadata": {},
     "output_type": "display_data"
    }
   ],
   "source": [
    "sns.set(rc={'figure.figsize':(10,5)})\n",
    "corr = df.corr().sort_values(ascending=False, key=lambda x: abs(x), by=\"Potability\")\n",
    "\n",
    "print(\"Correlation to 'Potability' value:\")\n",
    "print (corr[\"Potability\"])\n",
    "\n",
    "ax = sns.heatmap(\n",
    "    corr, \n",
    "    vmin=-1, vmax=1, center=0,\n",
    "    cmap=sns.diverging_palette(20, 220, n=200),\n",
    "    square=True,\n",
    ")\n",
    "ax.set_xticklabels(\n",
    "    ax.get_xticklabels(),\n",
    "    rotation=45,\n",
    "    horizontalalignment='right'\n",
    ")\n",
    "ax.set_title(\"Water Potability Heatmap\")"
   ]
  },
  {
   "cell_type": "markdown",
   "id": "fbf65be9",
   "metadata": {
    "papermill": {
     "duration": 0.080565,
     "end_time": "2022-03-28T15:25:36.888904",
     "exception": false,
     "start_time": "2022-03-28T15:25:36.808339",
     "status": "completed"
    },
    "tags": []
   },
   "source": [
    "## Train a model"
   ]
  },
  {
   "cell_type": "markdown",
   "id": "97090390",
   "metadata": {
    "papermill": {
     "duration": 0.083294,
     "end_time": "2022-03-28T15:25:37.053320",
     "exception": false,
     "start_time": "2022-03-28T15:25:36.970026",
     "status": "completed"
    },
    "tags": []
   },
   "source": [
    "I used **Random Forest** classifier:"
   ]
  },
  {
   "cell_type": "code",
   "execution_count": 33,
   "id": "9f8d6763",
   "metadata": {
    "execution": {
     "iopub.execute_input": "2022-03-28T15:25:37.224404Z",
     "iopub.status.busy": "2022-03-28T15:25:37.223411Z",
     "iopub.status.idle": "2022-03-28T15:25:55.754837Z",
     "shell.execute_reply": "2022-03-28T15:25:55.754039Z",
     "shell.execute_reply.started": "2022-03-28T15:24:32.396611Z"
    },
    "papermill": {
     "duration": 18.619126,
     "end_time": "2022-03-28T15:25:55.754986",
     "exception": false,
     "start_time": "2022-03-28T15:25:37.135860",
     "status": "completed"
    },
    "tags": []
   },
   "outputs": [
    {
     "name": "stdout",
     "output_type": "stream",
     "text": [
      "              precision    recall  f1-score   support\n",
      "\n",
      "           0       0.69      0.90      0.78       379\n",
      "           1       0.70      0.36      0.48       245\n",
      "\n",
      "    accuracy                           0.69       624\n",
      "   macro avg       0.69      0.63      0.63       624\n",
      "weighted avg       0.69      0.69      0.66       624\n",
      "\n",
      "Accuracy: 0.6875\n"
     ]
    }
   ],
   "source": [
    "from sklearn.model_selection import train_test_split\n",
    "from sklearn.ensemble import RandomForestClassifier\n",
    "from xgboost import XGBClassifier\n",
    "from sklearn.preprocessing import StandardScaler\n",
    "from sklearn.pipeline import make_pipeline\n",
    "from sklearn.metrics import classification_report, accuracy_score\n",
    "from imblearn.ensemble import BalancedBaggingClassifier\n",
    "\n",
    "df_train = df.drop(columns=[\"Potability\"])\n",
    "X_train, X_test, y_train, y_test = train_test_split(df_train, df[\"Potability\"],test_size=0.2,shuffle=True, stratify=df[\"Potability\"])\n",
    "\n",
    "pipeline = make_pipeline(\n",
    "    RandomForestClassifier(\n",
    "        n_estimators=2000,\n",
    "        min_samples_split=2,\n",
    "        min_samples_leaf=1,\n",
    "        max_features='sqrt',\n",
    "        max_depth=60,\n",
    "        bootstrap=True,\n",
    "        class_weight='balanced'\n",
    "    ),\n",
    ")\n",
    "pipeline.fit(X_train, y_train)\n",
    "\n",
    "predictions = pipeline.predict(X_test)\n",
    "print(classification_report(y_test, predictions))\n",
    "print(f\"Accuracy: {accuracy_score(y_test, predictions)}\")"
   ]
  }
 ],
 "metadata": {
  "kernelspec": {
   "display_name": "Python 3",
   "language": "python",
   "name": "python3"
  },
  "language_info": {
   "codemirror_mode": {
    "name": "ipython",
    "version": 3
   },
   "file_extension": ".py",
   "mimetype": "text/x-python",
   "name": "python",
   "nbconvert_exporter": "python",
   "pygments_lexer": "ipython3",
   "version": "3.7.12"
  },
  "papermill": {
   "default_parameters": {},
   "duration": 45.104885,
   "end_time": "2022-03-28T15:25:56.653100",
   "environment_variables": {},
   "exception": null,
   "input_path": "__notebook__.ipynb",
   "output_path": "__notebook__.ipynb",
   "parameters": {},
   "start_time": "2022-03-28T15:25:11.548215",
   "version": "2.3.3"
  }
 },
 "nbformat": 4,
 "nbformat_minor": 5
}
